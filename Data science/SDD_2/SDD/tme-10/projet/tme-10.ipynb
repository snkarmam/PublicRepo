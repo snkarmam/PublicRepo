{
 "cells": [
  {
   "cell_type": "markdown",
   "id": "02f5240a-e773-487c-a562-2027efe70233",
   "metadata": {},
   "source": [
    "IA & Data science (LU3IN0226) -- 2023-2024\n",
    "--------\n",
    "*&copy; Equipe pédagogique: Téo Guichoux, Christophe Marsala, Olivier Schwander, Jean-Noël Vittaut.*\n"
   ]
  },
  {
   "cell_type": "markdown",
   "id": "50018277-b782-446f-9446-0a7163f25315",
   "metadata": {},
   "source": [
    "# TD-TME10: apprentissage supervisé appliqué à un dataset"
   ]
  },
  {
   "cell_type": "markdown",
   "id": "d00a8643-d3b4-42dd-acdf-31e374f15db6",
   "metadata": {},
   "source": [
    "<font size=\"+1\" color=\"RED\">**[Q]**</font> **Indiquer dans la boîte ci-dessous vos noms et prénoms :**"
   ]
  },
  {
   "cell_type": "markdown",
   "id": "4b7f75b3-b8fe-4c1e-a5b4-693fb90bc1c6",
   "metadata": {},
   "source": [
    "### Warintara MUNSUP 28707636\n",
    "### Snkar MAM "
   ]
  },
  {
   "cell_type": "markdown",
   "id": "f770d35b-fb4c-42ea-8f57-48921b2b82a5",
   "metadata": {},
   "source": [
    "Le nom de chaque membre du binôme doit être indiqué, et **un seul rendu sur un des deux comptes Moodle doit être fait**.\n",
    "\n",
    "Les groupes de plus de 2 personnes ne sont pas autorisés."
   ]
  },
  {
   "cell_type": "markdown",
   "id": "2efc44f2-00f2-4679-b0c1-ea4366a6ad80",
   "metadata": {},
   "source": [
    "<font color=\"RED\" size=\"+1\"><b>[Q]</b></font> **Renommer ce fichier ipython**\n",
    "\n",
    "**Nom à donner au fichier à poster** : *tme-10-Nom1_Nom2.ipynb* \n",
    "- *Nom1* et *Nom2* : noms des membres du binôme\n",
    "- ne pas compresser ou faire une archive: il faut rendre le fichier ipython tel quel, éventuellement, si vous avez d'autres fichiers vous les rendez séparément.\n",
    "\n",
    "**Le compte-rendu est soumis sur la page Moodle.**"
   ]
  },
  {
   "cell_type": "markdown",
   "id": "dcb05912-5ec9-4635-83b9-f056a3429361",
   "metadata": {},
   "source": [
    "# TDTME 10 - mini-projet 2024\n",
    "\n",
    "\n",
    "<font size=\"+1\" color=\"RED\"><b>Date de rendu : lundi 29 avril 2024, avant 19h</b></font>\n",
    "    \n",
    "<b>Attention!</b> les soumissions après lundi 29 avril 19h se verront appliquer un malus dans la note:\n",
    "- retard de moins d'une heure : 0 malus\n",
    "- retard entre 1h et 24h : malus de 2pts\n",
    "- retard entre 24h à 48h : malus de 5pts\n",
    "- retard supérieur à 48h : noté 0.\n",
    "\n",
    "\n",
    "## Travail à faire\n",
    "\n",
    "Appliquer les algorithmes d'**apprentissage supervisé** vus depuis le début du semestre sur les données afin de mettre en évidence des résultats intéressants (temps d'exécution, taux de bonne classification,...).\n",
    "Vous devez utiliser tout ce qui a été fait dans les séances de TDTME 1 à 8 et vous devez comparer les algorithmes suivantes:\n",
    "- les k plus proches voisins\n",
    "- le perceptron (n'importe quelle variante)\n",
    "- les arbres de décision\n",
    "\n",
    "Votre comparaison doit utiliser une validation croisée.\n",
    "\n",
    "\n",
    "## Travail à rendre\n",
    "\n",
    "Vous devez compléter ce notebook en rajoutant vos expérimentations avec vos algorithmes d'apprentissage.\n",
    "\n",
    "Ce qui doit être remis : un fichier archive (`.tar`, `.tgz`, ou `.zip` uniquement) contenant:\n",
    "- ce notebook complété. Il doit pouvoir être exécuté sans autre apport (pensez à vous en assurer avant de le rendre). \n",
    "- votre librairie iads sous la forme d'une archive avec votre répertoire `iads/` contenant tous les fichiers nécessaires \n",
    "\n",
    "\n",
    "<b>IMPORTANT</b>: \n",
    "- Les fichiers de données ne doivent pas être inclus dans votre archive ! \n",
    "- Pensez à vérifier que votre archive contient bien tous les fichiers demandés et **seulement** les fichiers demandés.\n",
    "\n",
    "**Très important** : les fichiers de données doivent être placés de façon à respecter la structure de fichiers suivante :\n",
    "\n",
    "          --iads/\n",
    "              -- Classifiers.py\n",
    "              -- etc.\n",
    "          -- projet/\n",
    "              -- ce_notebook.ipynb\n",
    "\n",
    "Les données seront chargées par les commandes de chargement des données fournies dans ce notebook (ci-dessous).\n",
    "\n",
    "Dans le notebook que vous rendrez, le chargement des fichiers de données considèrera donc cette arborescence.\n",
    "\n"
   ]
  },
  {
   "cell_type": "code",
   "execution_count": 2,
   "id": "64e0796c-a140-4bbf-a11a-58f40b9e0497",
   "metadata": {},
   "outputs": [
    {
     "name": "stdout",
     "output_type": "stream",
     "text": [
      "The autoreload extension is already loaded. To reload it, use:\n",
      "  %reload_ext autoreload\n"
     ]
    },
    {
     "ename": "ModuleNotFoundError",
     "evalue": "No module named 'graphviz'",
     "output_type": "error",
     "traceback": [
      "\u001b[1;31m---------------------------------------------------------------------------\u001b[0m",
      "\u001b[1;31mModuleNotFoundError\u001b[0m                       Traceback (most recent call last)",
      "Cell \u001b[1;32mIn[2], line 27\u001b[0m\n\u001b[0;32m     24\u001b[0m \u001b[38;5;28;01mimport\u001b[39;00m \u001b[38;5;21;01miads\u001b[39;00m \u001b[38;5;28;01mas\u001b[39;00m \u001b[38;5;21;01miads\u001b[39;00m\n\u001b[0;32m     26\u001b[0m \u001b[38;5;66;03m# importation de Classifiers\u001b[39;00m\n\u001b[1;32m---> 27\u001b[0m \u001b[38;5;28;01mfrom\u001b[39;00m \u001b[38;5;21;01miads\u001b[39;00m \u001b[38;5;28;01mimport\u001b[39;00m Classifiers \u001b[38;5;28;01mas\u001b[39;00m classif\n\u001b[0;32m     29\u001b[0m \u001b[38;5;66;03m# importation de utils\u001b[39;00m\n\u001b[0;32m     30\u001b[0m \u001b[38;5;28;01mfrom\u001b[39;00m \u001b[38;5;21;01miads\u001b[39;00m \u001b[38;5;28;01mimport\u001b[39;00m utils \u001b[38;5;28;01mas\u001b[39;00m ut\n",
      "File \u001b[1;32md:\\OneDrive\\OneDrive - Universite de Montreal\\Hiver 2024 Sorbonne\\Sciences des Données\\TMEs\\Last Last version\\SDD_2\\SDD\\tme-10\\projet\\..\\iads\\Classifiers.py:17\u001b[0m\n\u001b[0;32m     15\u001b[0m \u001b[38;5;28;01mimport\u001b[39;00m \u001b[38;5;21;01mcopy\u001b[39;00m\n\u001b[0;32m     16\u001b[0m \u001b[38;5;28;01mimport\u001b[39;00m \u001b[38;5;21;01mmath\u001b[39;00m\n\u001b[1;32m---> 17\u001b[0m \u001b[38;5;28;01mfrom\u001b[39;00m \u001b[38;5;21;01miads\u001b[39;00m \u001b[38;5;28;01mimport\u001b[39;00m arbre \u001b[38;5;28;01mas\u001b[39;00m ab\n\u001b[0;32m     19\u001b[0m \u001b[38;5;66;03m# ---------------------------\u001b[39;00m\n\u001b[0;32m     22\u001b[0m \u001b[38;5;28;01mclass\u001b[39;00m \u001b[38;5;21;01mClassifier\u001b[39;00m:\n",
      "File \u001b[1;32md:\\OneDrive\\OneDrive - Universite de Montreal\\Hiver 2024 Sorbonne\\Sciences des Données\\TMEs\\Last Last version\\SDD_2\\SDD\\tme-10\\projet\\..\\iads\\arbre.py:1\u001b[0m\n\u001b[1;32m----> 1\u001b[0m \u001b[38;5;28;01mimport\u001b[39;00m \u001b[38;5;21;01mgraphviz\u001b[39;00m \u001b[38;5;28;01mas\u001b[39;00m \u001b[38;5;21;01mgv\u001b[39;00m\n\u001b[0;32m      2\u001b[0m \u001b[38;5;28;01mfrom\u001b[39;00m \u001b[38;5;21;01miads\u001b[39;00m \u001b[38;5;28;01mimport\u001b[39;00m Classifiers \u001b[38;5;28;01mas\u001b[39;00m classif\n\u001b[0;32m      3\u001b[0m \u001b[38;5;28;01mimport\u001b[39;00m \u001b[38;5;21;01mnumpy\u001b[39;00m \u001b[38;5;28;01mas\u001b[39;00m \u001b[38;5;21;01mnp\u001b[39;00m\n",
      "\u001b[1;31mModuleNotFoundError\u001b[0m: No module named 'graphviz'"
     ]
    }
   ],
   "source": [
    "# Importation de librairies standards:\n",
    "import numpy as np\n",
    "import pandas as pd\n",
    "import matplotlib.pyplot as plt\n",
    "%matplotlib inline  \n",
    "\n",
    "# un nouvel import utile pour la 3D:\n",
    "from matplotlib import cm\n",
    "\n",
    "# Les instructions suivantes sont TRES utiles pour recharger automatiquement \n",
    "# le code modifié dans les librairies externes\n",
    "%load_ext autoreload\n",
    "%autoreload 2\n",
    "\n",
    "# Pour mesurer le temps\n",
    "import time\n",
    "\n",
    "# Importation de votre librairie iads:\n",
    "# La ligne suivante permet de préciser le chemin d'accès à la librairie iads\n",
    "import sys\n",
    "sys.path.append('../')   # iads doit être dans le répertoire père du répertoire courant !\n",
    "\n",
    "# Importation de la librairie iads\n",
    "import iads as iads\n",
    "\n",
    "# importation de Classifiers\n",
    "from iads import Classifiers as classif\n",
    "\n",
    "# importation de utils\n",
    "from iads import utils as ut\n",
    "\n",
    "# importation de evaluation\n",
    "from iads import evaluation as ev\n",
    "\n",
    "# importation de Clustering\n",
    "from iads import Clustering as clust\n",
    "\n",
    "from iads import arbre as ab\n",
    "\n",
    "# commande TRES utile pour recharger automatiquement le code que vous modifiez dans les modules\n",
    "%load_ext autoreload\n",
    "%autoreload 2"
   ]
  },
  {
   "cell_type": "markdown",
   "id": "ca98bdab-80fe-44a1-8057-d027925d8d0f",
   "metadata": {},
   "source": [
    "## Données pour le projet : Pen-Based Recognition of Handwritten Digits\n",
    "\n",
    "documentation: <a href=\"https://archive.ics.uci.edu/dataset/81/pen+based+recognition+of+handwritten+digits\" target=\"NEW\">page UCI</a> (mais l'essentiel est donné ci-après).\n",
    "\n",
    "Pour télécharger les données, la façon la plus simple est d'installer la librairie de l'UCI:\n",
    "\n",
    "    pip install -U ucimlrepo\n",
    "\n",
    "ensuite, on peut lancer la boîte suivante.\n"
   ]
  },
  {
   "cell_type": "code",
   "execution_count": null,
   "id": "ac679aeb-7d03-42ef-aed6-808734a5e67d",
   "metadata": {},
   "outputs": [
    {
     "name": "stdout",
     "output_type": "stream",
     "text": [
      "Defaulting to user installation because normal site-packages is not writeable\n",
      "Requirement already satisfied: ucimlrepo in /home/warintara/.local/lib/python3.10/site-packages (0.0.6)\n",
      "Note: you may need to restart the kernel to use updated packages.\n"
     ]
    }
   ],
   "source": [
    "pip install -U ucimlrepo"
   ]
  },
  {
   "cell_type": "markdown",
   "id": "6a483d33-8e89-4f7c-8525-5dfaae092e86",
   "metadata": {},
   "source": [
    "### Chargement des données"
   ]
  },
  {
   "cell_type": "code",
   "execution_count": null,
   "id": "7eca94bc-67d5-412d-b4e7-760717581d07",
   "metadata": {},
   "outputs": [
    {
     "name": "stdout",
     "output_type": "stream",
     "text": [
      "81\n",
      "10992\n",
      "We create a digit database by collecting 250 samples from 44 writers. The samples written by 30 writers are used for training, cross-validation and writer dependent testing, and the digits written by the other 14 are used for writer independent testing. This database is also available in the UNIPEN format.\n",
      "\n",
      "We use a WACOM PL-100V pressure sensitive tablet with an integrated LCD display and a cordless stylus. The input and display areas are located in the same place. Attached to the serial port of an Intel 486 based PC, it allows us to collect handwriting samples. The tablet sends $x$ and $y$ tablet coordinates and pressure level values of the pen at fixed time intervals (sampling rate) of 100 miliseconds. \n",
      "\n",
      "These writers are asked to write 250 digits in random order inside boxes of 500 by 500 tablet pixel resolution.  Subject are monitored only during the first entry screens. Each screen contains five boxes with the digits to be written displayed above. Subjects are told to write only inside these boxes.  If they make a mistake or are unhappy with their writing, they are instructed to clear the content of a box by using an on-screen button. The first ten digits are ignored because most writers are not familiar with this type of input devices, but subjects are not aware of this. \n",
      "\n",
      "In our study, we use only ($x, y$) coordinate information. The stylus pressure level values are ignored. First we apply normalization to make our representation invariant to translations and scale distortions. The raw data that we capture from the tablet consist of integer values between 0 and 500 (tablet input box resolution). The new coordinates are such that the coordinate which has the maximum range varies between 0 and 100. Usually $x$ stays in this range, since most characters are taller than they are wide.  \n",
      "\n",
      "In order to train and test our classifiers, we need to represent digits as constant length feature vectors. A commonly used technique leading to good results is resampling the ( x_t, y_t) points. Temporal resampling (points regularly spaced in time) or spatial resampling (points regularly spaced in arc length) can be used here. Raw point data are already regularly spaced in time but the distance between them is variable. Previous research showed that spatial resampling to obtain a constant number of regularly spaced points on the trajectory yields much better performance, because it provides a better alignment between points. Our resampling algorithm uses simple linear interpolation between pairs of points. The resampled digits are represented as a sequence of T points ( x_t, y_t )_{t=1}^T, regularly spaced in arc length, as opposed to the input sequence, which is regularly spaced in time.\n",
      "\n",
      "So, the input vector size is 2*T, two times the number of points resampled. We considered spatial resampling to T=8,12,16 points in our experiments and found that T=8 gave the best trade-off between accuracy and complexity.\n",
      "           name     role         type demographic description units  \\\n",
      "0    Attribute1  Feature      Integer        None        None  None   \n",
      "1    Attribute2  Feature      Integer        None        None  None   \n",
      "2    Attribute3  Feature      Integer        None        None  None   \n",
      "3    Attribute4  Feature      Integer        None        None  None   \n",
      "4    Attribute5  Feature      Integer        None        None  None   \n",
      "5    Attribute6  Feature      Integer        None        None  None   \n",
      "6    Attribute7  Feature      Integer        None        None  None   \n",
      "7    Attribute8  Feature      Integer        None        None  None   \n",
      "8    Attribute9  Feature      Integer        None        None  None   \n",
      "9   Attribute10  Feature      Integer        None        None  None   \n",
      "10  Attribute11  Feature      Integer        None        None  None   \n",
      "11  Attribute12  Feature      Integer        None        None  None   \n",
      "12  Attribute13  Feature      Integer        None        None  None   \n",
      "13  Attribute14  Feature      Integer        None        None  None   \n",
      "14  Attribute15  Feature      Integer        None        None  None   \n",
      "15  Attribute16  Feature      Integer        None        None  None   \n",
      "16        Class   Target  Categorical        None        None  None   \n",
      "\n",
      "   missing_values  \n",
      "0              no  \n",
      "1              no  \n",
      "2              no  \n",
      "3              no  \n",
      "4              no  \n",
      "5              no  \n",
      "6              no  \n",
      "7              no  \n",
      "8              no  \n",
      "9              no  \n",
      "10             no  \n",
      "11             no  \n",
      "12             no  \n",
      "13             no  \n",
      "14             no  \n",
      "15             no  \n",
      "16             no  \n"
     ]
    }
   ],
   "source": [
    "from ucimlrepo import fetch_ucirepo,list_available_datasets\n",
    "\n",
    "# check which datasets can be imported\n",
    "#list_available_datasets()\n",
    "\n",
    "# import dataset\n",
    "pen_dataset = fetch_ucirepo(id=81)\n",
    "\n",
    "# access data\n",
    "X = pen_dataset.data.features\n",
    "y = pen_dataset.data.targets\n",
    "\n",
    "# access metadata\n",
    "print(pen_dataset.metadata.uci_id)\n",
    "print(pen_dataset.metadata.num_instances)\n",
    "print(pen_dataset.metadata.additional_info.summary)\n",
    "\n",
    "# access variable info in tabular format\n",
    "print(pen_dataset.variables)"
   ]
  },
  {
   "cell_type": "code",
   "execution_count": null,
   "id": "5acf3978-fedc-411a-8d68-6e674efdd9c9",
   "metadata": {},
   "outputs": [
    {
     "data": {
      "text/html": [
       "<div>\n",
       "<style scoped>\n",
       "    .dataframe tbody tr th:only-of-type {\n",
       "        vertical-align: middle;\n",
       "    }\n",
       "\n",
       "    .dataframe tbody tr th {\n",
       "        vertical-align: top;\n",
       "    }\n",
       "\n",
       "    .dataframe thead th {\n",
       "        text-align: right;\n",
       "    }\n",
       "</style>\n",
       "<table border=\"1\" class=\"dataframe\">\n",
       "  <thead>\n",
       "    <tr style=\"text-align: right;\">\n",
       "      <th></th>\n",
       "      <th>Attribute1</th>\n",
       "      <th>Attribute2</th>\n",
       "      <th>Attribute3</th>\n",
       "      <th>Attribute4</th>\n",
       "      <th>Attribute5</th>\n",
       "      <th>Attribute6</th>\n",
       "      <th>Attribute7</th>\n",
       "      <th>Attribute8</th>\n",
       "      <th>Attribute9</th>\n",
       "      <th>Attribute10</th>\n",
       "      <th>Attribute11</th>\n",
       "      <th>Attribute12</th>\n",
       "      <th>Attribute13</th>\n",
       "      <th>Attribute14</th>\n",
       "      <th>Attribute15</th>\n",
       "      <th>Attribute16</th>\n",
       "    </tr>\n",
       "  </thead>\n",
       "  <tbody>\n",
       "    <tr>\n",
       "      <th>0</th>\n",
       "      <td>47</td>\n",
       "      <td>100</td>\n",
       "      <td>27</td>\n",
       "      <td>81</td>\n",
       "      <td>57</td>\n",
       "      <td>37</td>\n",
       "      <td>26</td>\n",
       "      <td>0</td>\n",
       "      <td>0</td>\n",
       "      <td>23</td>\n",
       "      <td>56</td>\n",
       "      <td>53</td>\n",
       "      <td>100</td>\n",
       "      <td>90</td>\n",
       "      <td>40</td>\n",
       "      <td>98</td>\n",
       "    </tr>\n",
       "    <tr>\n",
       "      <th>1</th>\n",
       "      <td>0</td>\n",
       "      <td>89</td>\n",
       "      <td>27</td>\n",
       "      <td>100</td>\n",
       "      <td>42</td>\n",
       "      <td>75</td>\n",
       "      <td>29</td>\n",
       "      <td>45</td>\n",
       "      <td>15</td>\n",
       "      <td>15</td>\n",
       "      <td>37</td>\n",
       "      <td>0</td>\n",
       "      <td>69</td>\n",
       "      <td>2</td>\n",
       "      <td>100</td>\n",
       "      <td>6</td>\n",
       "    </tr>\n",
       "    <tr>\n",
       "      <th>2</th>\n",
       "      <td>0</td>\n",
       "      <td>57</td>\n",
       "      <td>31</td>\n",
       "      <td>68</td>\n",
       "      <td>72</td>\n",
       "      <td>90</td>\n",
       "      <td>100</td>\n",
       "      <td>100</td>\n",
       "      <td>76</td>\n",
       "      <td>75</td>\n",
       "      <td>50</td>\n",
       "      <td>51</td>\n",
       "      <td>28</td>\n",
       "      <td>25</td>\n",
       "      <td>16</td>\n",
       "      <td>0</td>\n",
       "    </tr>\n",
       "    <tr>\n",
       "      <th>3</th>\n",
       "      <td>0</td>\n",
       "      <td>100</td>\n",
       "      <td>7</td>\n",
       "      <td>92</td>\n",
       "      <td>5</td>\n",
       "      <td>68</td>\n",
       "      <td>19</td>\n",
       "      <td>45</td>\n",
       "      <td>86</td>\n",
       "      <td>34</td>\n",
       "      <td>100</td>\n",
       "      <td>45</td>\n",
       "      <td>74</td>\n",
       "      <td>23</td>\n",
       "      <td>67</td>\n",
       "      <td>0</td>\n",
       "    </tr>\n",
       "    <tr>\n",
       "      <th>4</th>\n",
       "      <td>0</td>\n",
       "      <td>67</td>\n",
       "      <td>49</td>\n",
       "      <td>83</td>\n",
       "      <td>100</td>\n",
       "      <td>100</td>\n",
       "      <td>81</td>\n",
       "      <td>80</td>\n",
       "      <td>60</td>\n",
       "      <td>60</td>\n",
       "      <td>40</td>\n",
       "      <td>40</td>\n",
       "      <td>33</td>\n",
       "      <td>20</td>\n",
       "      <td>47</td>\n",
       "      <td>0</td>\n",
       "    </tr>\n",
       "    <tr>\n",
       "      <th>5</th>\n",
       "      <td>100</td>\n",
       "      <td>100</td>\n",
       "      <td>88</td>\n",
       "      <td>99</td>\n",
       "      <td>49</td>\n",
       "      <td>74</td>\n",
       "      <td>17</td>\n",
       "      <td>47</td>\n",
       "      <td>0</td>\n",
       "      <td>16</td>\n",
       "      <td>37</td>\n",
       "      <td>0</td>\n",
       "      <td>73</td>\n",
       "      <td>16</td>\n",
       "      <td>20</td>\n",
       "      <td>20</td>\n",
       "    </tr>\n",
       "    <tr>\n",
       "      <th>6</th>\n",
       "      <td>0</td>\n",
       "      <td>100</td>\n",
       "      <td>3</td>\n",
       "      <td>72</td>\n",
       "      <td>26</td>\n",
       "      <td>35</td>\n",
       "      <td>85</td>\n",
       "      <td>35</td>\n",
       "      <td>100</td>\n",
       "      <td>71</td>\n",
       "      <td>73</td>\n",
       "      <td>97</td>\n",
       "      <td>65</td>\n",
       "      <td>49</td>\n",
       "      <td>66</td>\n",
       "      <td>0</td>\n",
       "    </tr>\n",
       "    <tr>\n",
       "      <th>7</th>\n",
       "      <td>0</td>\n",
       "      <td>39</td>\n",
       "      <td>2</td>\n",
       "      <td>62</td>\n",
       "      <td>11</td>\n",
       "      <td>5</td>\n",
       "      <td>63</td>\n",
       "      <td>0</td>\n",
       "      <td>100</td>\n",
       "      <td>43</td>\n",
       "      <td>89</td>\n",
       "      <td>99</td>\n",
       "      <td>36</td>\n",
       "      <td>100</td>\n",
       "      <td>0</td>\n",
       "      <td>57</td>\n",
       "    </tr>\n",
       "    <tr>\n",
       "      <th>8</th>\n",
       "      <td>13</td>\n",
       "      <td>89</td>\n",
       "      <td>12</td>\n",
       "      <td>50</td>\n",
       "      <td>72</td>\n",
       "      <td>38</td>\n",
       "      <td>56</td>\n",
       "      <td>0</td>\n",
       "      <td>4</td>\n",
       "      <td>17</td>\n",
       "      <td>0</td>\n",
       "      <td>61</td>\n",
       "      <td>32</td>\n",
       "      <td>94</td>\n",
       "      <td>100</td>\n",
       "      <td>100</td>\n",
       "    </tr>\n",
       "    <tr>\n",
       "      <th>9</th>\n",
       "      <td>57</td>\n",
       "      <td>100</td>\n",
       "      <td>22</td>\n",
       "      <td>72</td>\n",
       "      <td>0</td>\n",
       "      <td>31</td>\n",
       "      <td>25</td>\n",
       "      <td>0</td>\n",
       "      <td>75</td>\n",
       "      <td>13</td>\n",
       "      <td>100</td>\n",
       "      <td>50</td>\n",
       "      <td>75</td>\n",
       "      <td>87</td>\n",
       "      <td>26</td>\n",
       "      <td>85</td>\n",
       "    </tr>\n",
       "  </tbody>\n",
       "</table>\n",
       "</div>"
      ],
      "text/plain": [
       "   Attribute1  Attribute2  Attribute3  Attribute4  Attribute5  Attribute6  \\\n",
       "0          47         100          27          81          57          37   \n",
       "1           0          89          27         100          42          75   \n",
       "2           0          57          31          68          72          90   \n",
       "3           0         100           7          92           5          68   \n",
       "4           0          67          49          83         100         100   \n",
       "5         100         100          88          99          49          74   \n",
       "6           0         100           3          72          26          35   \n",
       "7           0          39           2          62          11           5   \n",
       "8          13          89          12          50          72          38   \n",
       "9          57         100          22          72           0          31   \n",
       "\n",
       "   Attribute7  Attribute8  Attribute9  Attribute10  Attribute11  Attribute12  \\\n",
       "0          26           0           0           23           56           53   \n",
       "1          29          45          15           15           37            0   \n",
       "2         100         100          76           75           50           51   \n",
       "3          19          45          86           34          100           45   \n",
       "4          81          80          60           60           40           40   \n",
       "5          17          47           0           16           37            0   \n",
       "6          85          35         100           71           73           97   \n",
       "7          63           0         100           43           89           99   \n",
       "8          56           0           4           17            0           61   \n",
       "9          25           0          75           13          100           50   \n",
       "\n",
       "   Attribute13  Attribute14  Attribute15  Attribute16  \n",
       "0          100           90           40           98  \n",
       "1           69            2          100            6  \n",
       "2           28           25           16            0  \n",
       "3           74           23           67            0  \n",
       "4           33           20           47            0  \n",
       "5           73           16           20           20  \n",
       "6           65           49           66            0  \n",
       "7           36          100            0           57  \n",
       "8           32           94          100          100  \n",
       "9           75           87           26           85  "
      ]
     },
     "execution_count": 3,
     "metadata": {},
     "output_type": "execute_result"
    }
   ],
   "source": [
    "X[0:10]"
   ]
  },
  {
   "cell_type": "code",
   "execution_count": null,
   "id": "d9df1989-c4a8-4961-9855-3dcbf9881787",
   "metadata": {},
   "outputs": [
    {
     "data": {
      "text/html": [
       "<div>\n",
       "<style scoped>\n",
       "    .dataframe tbody tr th:only-of-type {\n",
       "        vertical-align: middle;\n",
       "    }\n",
       "\n",
       "    .dataframe tbody tr th {\n",
       "        vertical-align: top;\n",
       "    }\n",
       "\n",
       "    .dataframe thead th {\n",
       "        text-align: right;\n",
       "    }\n",
       "</style>\n",
       "<table border=\"1\" class=\"dataframe\">\n",
       "  <thead>\n",
       "    <tr style=\"text-align: right;\">\n",
       "      <th></th>\n",
       "      <th>Class</th>\n",
       "    </tr>\n",
       "  </thead>\n",
       "  <tbody>\n",
       "    <tr>\n",
       "      <th>0</th>\n",
       "      <td>8</td>\n",
       "    </tr>\n",
       "    <tr>\n",
       "      <th>1</th>\n",
       "      <td>2</td>\n",
       "    </tr>\n",
       "    <tr>\n",
       "      <th>2</th>\n",
       "      <td>1</td>\n",
       "    </tr>\n",
       "    <tr>\n",
       "      <th>3</th>\n",
       "      <td>4</td>\n",
       "    </tr>\n",
       "    <tr>\n",
       "      <th>4</th>\n",
       "      <td>1</td>\n",
       "    </tr>\n",
       "    <tr>\n",
       "      <th>5</th>\n",
       "      <td>6</td>\n",
       "    </tr>\n",
       "    <tr>\n",
       "      <th>6</th>\n",
       "      <td>4</td>\n",
       "    </tr>\n",
       "    <tr>\n",
       "      <th>7</th>\n",
       "      <td>0</td>\n",
       "    </tr>\n",
       "    <tr>\n",
       "      <th>8</th>\n",
       "      <td>5</td>\n",
       "    </tr>\n",
       "    <tr>\n",
       "      <th>9</th>\n",
       "      <td>0</td>\n",
       "    </tr>\n",
       "  </tbody>\n",
       "</table>\n",
       "</div>"
      ],
      "text/plain": [
       "   Class\n",
       "0      8\n",
       "1      2\n",
       "2      1\n",
       "3      4\n",
       "4      1\n",
       "5      6\n",
       "6      4\n",
       "7      0\n",
       "8      5\n",
       "9      0"
      ]
     },
     "execution_count": 4,
     "metadata": {},
     "output_type": "execute_result"
    }
   ],
   "source": [
    "y[0:10]"
   ]
  },
  {
   "cell_type": "code",
   "execution_count": null,
   "id": "aef2fb40-5a22-4069-9e65-4c1e477109a1",
   "metadata": {},
   "outputs": [
    {
     "data": {
      "text/plain": [
       "array([0, 1, 2, 3, 4, 5, 6, 7, 8, 9])"
      ]
     },
     "execution_count": 5,
     "metadata": {},
     "output_type": "execute_result"
    }
   ],
   "source": [
    "np.unique(y.Class)"
   ]
  },
  {
   "cell_type": "markdown",
   "id": "3704326c-c42c-4b23-9085-4dc45f298c58",
   "metadata": {},
   "source": [
    "## Expérimentations"
   ]
  },
  {
   "cell_type": "markdown",
   "id": "7fdab0cc-9c6e-418f-8868-ab61608512c3",
   "metadata": {},
   "source": [
    "## Présentation des données \n",
    "Le jeu de données est composé de 16 attributs et ils sont tous entiers. Ces points qui se connectent pour réprésenté les chiffres \n",
    "variés de 0 à 9. Chaque donnée de X représente alors les 16 points qui permet de dessiner les chiffre , et Y représente la classe qui \n",
    "permet d'indiquer le chifrre de chaque données de X"
   ]
  },
  {
   "cell_type": "markdown",
   "id": "1d71bd92-dede-4216-bab8-f8fe85878a6c",
   "metadata": {},
   "source": [
    "### Extraction des données\n",
    "Au début on a essayé à utiliser les données directement dans les classifieur, mais il s'est posé beaucoup des problème avec les dimensions \n",
    "des données X et Y. On a alors convertir les données en array pour faciliter la manipulation "
   ]
  },
  {
   "cell_type": "code",
   "execution_count": null,
   "id": "00b69659-71b5-4a21-be05-f26d4f119906",
   "metadata": {},
   "outputs": [
    {
     "data": {
      "text/plain": [
       "array([8, 2, 1, ..., 0, 0, 4])"
      ]
     },
     "execution_count": 6,
     "metadata": {},
     "output_type": "execute_result"
    }
   ],
   "source": [
    "nb_lig,nb_col = X.shape\n",
    "X_np = np.array(X)\n",
    "Y_np = np.array([y[\"Class\"][i] for i in range(nb_lig)])\n",
    "Y_np"
   ]
  },
  {
   "cell_type": "markdown",
   "id": "eaa344ca-5830-4355-a916-86def9918562",
   "metadata": {},
   "source": [
    "### Visualisation des données\n",
    "Pour mieux comprendre et visualiser chaque données, on a utilisé la fonctionnement de pyplot ci-dessous pour voir si on trace les 16 points \n",
    "il représente bien le chiffre comme indiqué dans les labels de Y.\n",
    "Par exemple la premiere données de X, selon le label de Y, il représente le numéro 8"
   ]
  },
  {
   "cell_type": "code",
   "execution_count": null,
   "id": "bafdd3dc-f2b3-45c6-a11c-606e3624d983",
   "metadata": {},
   "outputs": [
    {
     "name": "stderr",
     "output_type": "stream",
     "text": [
      "/tmp/ipykernel_5924/4004294534.py:3: FutureWarning: Series.__getitem__ treating keys as positions is deprecated. In a future version, integer keys will always be treated as labels (consistent with DataFrame behavior). To access a value by position, use `ser.iloc[pos]`\n",
      "  x0 = X.iloc[0][i]\n",
      "/tmp/ipykernel_5924/4004294534.py:4: FutureWarning: Series.__getitem__ treating keys as positions is deprecated. In a future version, integer keys will always be treated as labels (consistent with DataFrame behavior). To access a value by position, use `ser.iloc[pos]`\n",
      "  y0=X.iloc[0][i+1]\n",
      "/tmp/ipykernel_5924/4004294534.py:5: FutureWarning: Series.__getitem__ treating keys as positions is deprecated. In a future version, integer keys will always be treated as labels (consistent with DataFrame behavior). To access a value by position, use `ser.iloc[pos]`\n",
      "  x1 = X.iloc[0][i+2]\n",
      "/tmp/ipykernel_5924/4004294534.py:6: FutureWarning: Series.__getitem__ treating keys as positions is deprecated. In a future version, integer keys will always be treated as labels (consistent with DataFrame behavior). To access a value by position, use `ser.iloc[pos]`\n",
      "  y1 = X.iloc[0][i+3]\n"
     ]
    },
    {
     "data": {
      "image/png": "[encoded data removed]",
      "text/plain": [
       "<Figure size 640x480 with 1 Axes>"
      ]
     },
     "metadata": {},
     "output_type": "display_data"
    }
   ],
   "source": [
    "import matplotlib.pyplot as plt\n",
    "for i in range(0,13,2):\n",
    "    x0 = X.iloc[0][i]\n",
    "    y0=X.iloc[0][i+1]\n",
    "    x1 = X.iloc[0][i+2]\n",
    "    y1 = X.iloc[0][i+3]\n",
    "    plt.plot([x0,x1],[y0,y1])\n",
    "plt.show()\n",
    "\n"
   ]
  },
  {
   "cell_type": "markdown",
   "id": "f67df881-d1f5-4c15-b41a-51675879fd59",
   "metadata": {},
   "source": [
    "## premier expérimenttation avec le classifieur KNN\n",
    "\n",
    "On a alors appliqué les données X et Y avec le classifieurKNN (N plus proche voisins) "
   ]
  },
  {
   "cell_type": "code",
   "execution_count": null,
   "id": "64b20a12-3607-4a91-80f4-2f3ea219efff",
   "metadata": {
    "scrolled": true
   },
   "outputs": [
    {
     "name": "stdout",
     "output_type": "stream",
     "text": [
      "Classification KNN des exemples du dataset:\n",
      "Analyse perf: moyenne: 0.1041\tecart: 0.0055\n"
     ]
    }
   ],
   "source": [
    "\n",
    "np.random.seed(42)   # on prend 42 comme graine\n",
    "k=5\n",
    "knn = classif.ClassifierKNN(16,5)\n",
    "perf, taux_moyen, taux_ecart = ev.validation_croisee(knn,(X_np,Y_np),10) \n",
    "\n",
    "# Classification du dataset (contrôle de predict et score):\n",
    "print(\"Classification KNN des exemples du dataset:\")\n",
    "print(f'Analyse perf: moyenne: {taux_moyen:0.4f}\\tecart: {taux_ecart:0.4f}')\n"
   ]
  },
  {
   "cell_type": "markdown",
   "id": "a364664d-4b9b-4c27-81d5-4968f437383e",
   "metadata": {},
   "source": [
    "### remarque \n",
    "On a vu que le plus l'écart type est petit, plus les données sont concentrées autour de la moyenne. On suppose que l'accuracy a cette \n",
    "valeur là car la class KNN ne traite que le cas binaire. Nous allons alors traiter les données avec le classieur KNN qui prend en compte \n",
    "le nombre des labels supérieur à 2"
   ]
  },
  {
   "cell_type": "markdown",
   "id": "33bde34c-d987-4b5b-baa5-c5d55de2d018",
   "metadata": {},
   "source": [
    "## le classifieur KNN multi-class\n",
    "Il a atteint une précision très élevée de 99,5997% sur le jeu de données, \n",
    "indiquant une performance excellente dans la distinction entre différentes classes. "
   ]
  },
  {
   "cell_type": "code",
   "execution_count": null,
   "id": "34794046-79ed-406d-94bf-017b01b986e9",
   "metadata": {
    "scrolled": true
   },
   "outputs": [
    {
     "name": "stdout",
     "output_type": "stream",
     "text": [
      "Classification KNN multiclass des exemples du dataset:\n",
      "Analyse perf: moyenne: 0.9915\tecart: 0.0038\t accuracy :0.9960\n"
     ]
    }
   ],
   "source": [
    "import random \n",
    "np.random.seed(42)   # on prend 42 comme graine\n",
    "\n",
    "\n",
    "# Création d'un classifieur KNN de dimension 2:\n",
    "KNN = classif.ClassifierKNN_MC(16,5,10)\n",
    "\n",
    "# Par définition, ce classifieur n'a pas besoin d'entraînement\n",
    "KNN.train(X_np,Y_np)\n",
    "\n",
    "perf = KNN.accuracy(X_np, Y_np)\n",
    "\n",
    "# Classification du dataset (contrôle de predict et score):\n",
    "print(\"Classification KNN multiclass des exemples du dataset:\")\n",
    "# Affichage du taux de bonne classification    \n",
    "perf_m, taux_moyen_m, taux_ecart_m = ev.validation_croisee(KNN, (X_np, Y_np), 10)\n",
    "print(f'Analyse perf: moyenne: {taux_moyen_m:0.4f}\\tecart: {taux_ecart_m:0.4f}\\t accuracy :{perf:0.4f}')"
   ]
  },
  {
   "cell_type": "markdown",
   "id": "3bae0ef9-a067-48a0-8964-f6b6d5740b93",
   "metadata": {},
   "source": [
    "## le classifieur perceptronBiaiset Multi OAA\n"
   ]
  },
  {
   "cell_type": "code",
   "execution_count": null,
   "id": "5ca8ce6c-97df-41cf-8377-7a4ff532b9bd",
   "metadata": {},
   "outputs": [],
   "source": [
    "input_dim = 16\n",
    "eps = 1e5 \n",
    "cl_biais = classif.ClassifierPerceptron(input_dim, learning_rate=0.01, init=True)\n",
    "cl_mult_biais=classif.ClassifierMultiOAA(cl_biais)\n",
    "\n",
    "cl_mult_biais.train(X_np, Y_np)\n",
    "\n",
    "acc_perf = cl_mult_biais.accuracy(X_np, Y_np)\n",
    "perf, taux_moyen, taux_ecart = ev.validation_croisee(cl_biais, (X_np, Y_np), 10)\n",
    "\n",
    "perf_mt, taux_moyen_mt, taux_ecart_mt = ev.validation_croisee(cl_mult_biais, (X_np, Y_np), 10)\n",
    "\n",
    "\n",
    "# Classification du dataset (contrôle de predict et score):\n",
    "print(\"Classification Perceptron des exemples du dataset:\")\n",
    "print(f'Analyse perf: moyenne: {taux_moyen:0.4f}\\tecart: {taux_ecart:0.4f}\\t accuracy :{acc_perf:0.4f}')\n",
    "# Classification du dataset (contrôle de predict et score):\n",
    "print(\"Classification MultiOAA des exemples du dataset:\")\n",
    "# Affichage du taux de bonne classification    \n",
    "print(\"Taux de bonne classification sur le dataset: \", cl_mult_biais.accuracy(X_np,Y_np))\n",
    "print(f'Analyse perf: moyenne: {taux_moyen_mt:0.4f}\\tecart: {taux_ecart_mt:0.4f}\\t accuracy :{acc_perf_mt:0.4f}')"
   ]
  },
  {
   "cell_type": "markdown",
   "id": "bbec0a6a-4df2-44c6-b932-84f2d9a40271",
   "metadata": {},
   "source": [
    "## arbre de Décision (ClassifierArbreNumerique) \n",
    "\n",
    " Un classifieur arbre de décision a été construit et entraîné sur le jeu de données.Ce modèle a démontré une haute performance avec une précision\n",
    "moyenne de 98,3988% à travers une validation croisée en 10 plis."
   ]
  },
  {
   "cell_type": "code",
   "execution_count": null,
   "id": "d960ff74-162b-42fb-8ff6-6ff0e2e9deab",
   "metadata": {},
   "outputs": [],
   "source": [
    "\n",
    "x_noms = X.columns.tolist()\n",
    "\n",
    "print(\"Noms des features: \\n\", x_noms)\n",
    "print(\"Noms des labels: \", np.unique(Y_np))\n"
   ]
  },
  {
   "cell_type": "code",
   "execution_count": null,
   "id": "9938b168-2cc4-4cdb-b05f-c1081d1b4b5c",
   "metadata": {
    "scrolled": true
   },
   "outputs": [],
   "source": [
    "import graphviz as gv\n",
    "# Initialiation d'un arbre pour le dataset X:\n",
    "arbre = classif.ClassifierArbreNumerique(len(x_noms), .0, x_noms)\n",
    "\n",
    "# Construction de l'arbre de décision à partir du dataset X\n",
    "arbre.train(X_np,Y_np)\n",
    "\n",
    "# Construction de la représentation graphique (affichage)\n",
    "graphe_arbre_chiffre = gv.Digraph(format='png')\n",
    "arbre.affiche(graphe_arbre_chiffre)\n",
    "graphe_arbre_chiffre"
   ]
  },
  {
   "cell_type": "code",
   "execution_count": null,
   "id": "89aa8bc5-eda9-4354-b252-cda8f16eba68",
   "metadata": {},
   "outputs": [
    {
     "data": {
      "text/plain": [
       "0.9839883551673945"
      ]
     },
     "execution_count": 23,
     "metadata": {},
     "output_type": "execute_result"
    }
   ],
   "source": [
    "# mesure du taux de bonne classification\n",
    "perf, taux_moyen, taux_ecart = ev.validation_croisee(arbre, (X_np, Y_np), 10)\n",
    "\n",
    "print(\"Classification arbre numérique des exemples du dataset:\")\n",
    "print(f'Analyse perf: moyenne: {taux_moyen:0.4f}\\tecart: {taux_ecart:0.4f}\\t accuracy :{acc_perf:0.4f}')"
   ]
  },
  {
   "cell_type": "markdown",
   "id": "4e6c771e-36a2-4faa-8aee-5dc58d7a95a6",
   "metadata": {},
   "source": [
    "Observations :\n",
    "\n",
    "    L'expérience a inclus divers modèles d'apprentissage automatique axés sur les tâches de classification.\n",
    "    Le classifieur KNN multiclasse a surpassé de manière significative les autres modèles, suggérant son adéquation pour ce jeu de données particulier.\n",
    "    L'arbre de décision a également affiché une haute précision, renforçant le potentiel pour les modèles non linéaires dans le jeu de données."
   ]
  },
  {
   "cell_type": "markdown",
   "id": "1becbb30-a0ab-4ddc-a3b0-1cbd6801a5ad",
   "metadata": {},
   "source": [
    "Conclusion :\n",
    "\n",
    "L'analyse expérimentale en utilisant le jeu de données UCI avec l'ID 81 suggère que la représentation des caractéristiques spatiales, ainsi que les techniques de classification multiclasse, peuvent produire une haute précision dans les tâches de reconnaissance de chiffres écrits à la main. Le classifieur KNN multiclasse a montré une précision remarquable, tandis que l'arbre de décision a fourni un résultat hautement compétitif avec une précision légèrement inférieure mais toujours au-dessus de 98%."
   ]
  },
  {
   "cell_type": "code",
   "execution_count": null,
   "id": "2871a09d-027e-4dcb-ba40-6ed02be450b1",
   "metadata": {},
   "outputs": [],
   "source": []
  }
 ],
 "metadata": {
  "kernelspec": {
   "display_name": "Python 3 (ipykernel)",
   "language": "python",
   "name": "python3"
  },
  "language_info": {
   "codemirror_mode": {
    "name": "ipython",
    "version": 3
   },
   "file_extension": ".py",
   "mimetype": "text/x-python",
   "name": "python",
   "nbconvert_exporter": "python",
   "pygments_lexer": "ipython3",
   "version": "3.12.2"
  }
 },
 "nbformat": 4,
 "nbformat_minor": 5
}
