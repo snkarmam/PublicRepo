




















# Importation de librairies standards:
import numpy as np
import pandas as pd
import matplotlib.pyplot as plt
%matplotlib inline  

# un nouvel import utile pour la 3D:
from matplotlib import cm

# Les instructions suivantes sont TRES utiles pour recharger automatiquement 
# le code modifié dans les librairies externes
%load_ext autoreload
%autoreload 2

# Pour mesurer le temps
import time

# Importation de votre librairie iads:
# La ligne suivante permet de préciser le chemin d'accès à la librairie iads
import sys
sys.path.append('../')   # iads doit être dans le répertoire père du répertoire courant !

# Importation de la librairie iads
import iads as iads

# importation de Classifiers
from iads import Classifiers as classif

# importation de utils
from iads import utils as ut

# importation de evaluation
from iads import evaluation as ev

# importation de Clustering
from iads import Clustering as clust

# commande TRES utile pour recharger automatiquement le code que vous modifiez dans les modules
%load_ext autoreload
%autoreload 2





pip install -U ucimlrepo





from ucimlrepo import fetch_ucirepo, list_available_datasets

# check which datasets can be imported
#list_available_datasets()

# import dataset
pen_dataset = fetch_ucirepo(id=81)

# access data
X = pen_dataset.data.features
y = pen_dataset.data.targets

# access metadata
print(pen_dataset.metadata.uci_id)
print(pen_dataset.metadata.num_instances)
print(pen_dataset.metadata.additional_info.summary)

# access variable info in tabular format
print(pen_dataset.variables)

















import matplotlib.pyplot as plt
for i in range(0,13,2):
    x0 = X.iloc[0][i]
    y0=X.iloc[0][i+1]
    x1 = X.iloc[0][i+2]
    y1 = X.iloc[0][i+3]
    plt.plot([x0,x1],[y0,y1])
plt.show()





import matplotlib.pyplot as plt

data_x_normal = clust.normalisation(X)
data_x_normal_vit = data_x_normal[0:50] 
attributes = data_x_normal.columns

# Créer un nuage de points pour chaque paire d'attributs
for i in range(len(attributes)):
    for j in range(i+1, len(attributes)):
        plt.scatter(data_x_normal_vit[attributes[i]], data_x_normal_vit[attributes[j]])
        plt.xlabel(attributes[i])
        plt.ylabel(attributes[j])
        plt.title(f'Scatter Plot of {attributes[i]} vs {attributes[j]}')
        plt.show()


X.iloc[ :5, 0:5]


import seaborn as sns

# Subset the data
subset = X.iloc[:12, :5].copy()

# Rename columns for better visualization (optional)
subset.columns = [f'Attribute_{i+1}' for i in range(5)]

# Add the target column to the DataFrame
subset['target'] = y.iloc[:12]

# Plot the pairplot with seaborn
sns.pairplot(subset, hue='target', palette='bright')


data_x_normal[0:5]


clust.CHA_centroid(data_x_normal[0:50],verbose=True,dendrogramme=True)


print("Centroide de toutes les données de la base:\n",clust.centroide(data_x_normal))


print(f"inertie de l'ensemble : {clust.inertie_cluster(data_x_normal):1.4f}")


np.random.seed(42)   # supprimer cette ligne une fois la mise au point terminée

# Par exemple (mais vous ne devriez pas pouvoir retrouver exactement les mêmes !)
Centroides_test = clust.init_kmeans(3,data_x_normal)
Centroides_test


plt.scatter(data_x_normal['Attribute1'][:500:10],data_x_normal['Attribute2'][:500:10],color='blue')
plt.scatter(Centroides_test[:,0],Centroides_test[:,1],color='red')


for i in range(0,len(data_x_normal[0:10])):
    pproche = clust.plus_proche(data_x_normal.iloc[i],Centroides_test)
    print("L'exemple ",i," est le plus proche du centroide ",pproche)


DictAffect = clust.affecte_cluster(data_x_normal, Centroides_test)
print("longeur clé = ",len(DictAffect))
print(DictAffect.keys())
DictAffect


data_x_normal.iloc[DictAffect[0]]


clust.nouveaux_centroides(data_x_normal, DictAffect)


print(f'Inertie globale: {clust.inertie_globale(data_x_normal,DictAffect):1.4f}')


np.random.seed(42)   # supprimer cette ligne une fois la mise au point terminée

les_centres, l_affectation = clust.kmoyennes(2, data_x_normal, 0.05, 100)

print("Affichage des centres: ",les_centres)
print("Affichage des affectations: ",l_affectation)


np.random.seed(42)   # supprimer cette ligne une fois la mise au point terminée

les_centres, l_affectation = clust.kmoyennes(3, data_x_normal[::10], 0.005, 100)

print("Affichage des centres: ",les_centres)


plt.scatter(data_x_normal['Attribute1'][::10],data_x_normal['Attribute2'][::10],color='b')
plt.scatter(les_centres[:,0],les_centres[:,1],color='r',marker='x')


def affiche_resultat(Base, Centres, Affect):
    # Supposons que le nombre de clusters est égal au nombre de lignes dans Centres
    couleurs = cm.tab20(np.linspace(0, 1, len(Centres)))

    
    # Affichage des points par cluster
    for i, points_indices in Affect.items():
        plt.scatter(Base.iloc[points_indices, 0], Base.iloc[points_indices, 1], color=couleurs[i], label=f'Cluster {i}')
    
    # Affichage des centres des clusters
    for i, center_coords in enumerate(Centres):
        plt.scatter(center_coords[0], center_coords[1], color=couleurs[i], marker='x', s=100, label=f'Centre {i}')

    plt.show()


affiche_resultat(data_x_normal[::10],les_centres,l_affectation)







