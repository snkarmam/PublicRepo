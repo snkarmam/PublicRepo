

















# Importation de librairies standards:
import numpy as np
import pandas as pd
import matplotlib.pyplot as plt
%matplotlib inline  

# un nouvel import utile pour la 3D:
from matplotlib import cm

# Les instructions suivantes sont TRES utiles pour recharger automatiquement 
# le code modifié dans les librairies externes
%load_ext autoreload
%autoreload 2

# Pour mesurer le temps
import time

# Importation de votre librairie iads:
# La ligne suivante permet de préciser le chemin d'accès à la librairie iads
import sys
sys.path.append('../')   # iads doit être dans le répertoire père du répertoire courant !

# Importation de la librairie iads
import iads as iads

# importation de Classifiers
from iads import Classifiers as classif

# importation de utils
from iads import utils as ut

# importation de evaluation
from iads import evaluation as ev

# importation de Clustering
from iads import Clustering as clust

# commande TRES utile pour recharger automatiquement le code que vous modifiez dans les modules
%load_ext autoreload
%autoreload 2











data_2D = pd.read_csv("data/base-2D.csv")
data_2D[0:5] 





data_2D_norm = clust.normalisation(data_2D)

plt.scatter(data_2D_norm['X1'],data_2D_norm['X2'],)


clust.CHA_centroid(data_2D_norm,verbose=False,dendrogramme=True)


print("Centroide de toutes les données de la base:\n",clust.centroide(data_2D_norm))








def inertie_cluster(Ens):
    """ Array -> float
        Ens: array qui représente un cluster
        Hypothèse: len(Ens)> >= 2
        L'inertie est la somme (au carré) des distances des points au centroide.
    """
    cent = clust.centroide(Ens)
    somme = 0
    for elem in np.array(Ens) :
        somme += (clust.dist_euclidienne(elem,cent))**2 
    return somme 
        
    


print(f"inertie de l'ensemble : {inertie_cluster(data_2D_norm):1.4f}")






import random
def init_kmeans(K,Ens):
    """ int * Array -> Array
        K : entier >1 et <=n (le nombre d'exemples de Ens)
        Ens: Array contenant n exemples
    """
    lens = np.array(Ens)
    ind = [i for i in range(0,len(lens))]
    np.random.shuffle(ind)
    l = ind[:K]
    
    return lens[l] 


np.random.seed(42)   # supprimer cette ligne une fois la mise au point terminée

# Par exemple (mais vous ne devriez pas pouvoir retrouver exactement les mêmes !)
Centroides_test = init_kmeans(3,data_2D_norm)
Centroides_test


plt.scatter(data_2D_norm['X1'],data_2D_norm['X2'],color='blue')
plt.scatter(Centroides_test[:,0],Centroides_test[:,1],color='red')





def plus_proche(Exe, Centres):
    """ Array * Array -> int
        Exe : Array contenant un exemple
        Centres : Array contenant les K centres
    """
    min_dist = float('inf')  # Initialise avec l'infini
    indice_plus_proche = -1

    for j, centre in enumerate(Centres):
        dist = clust.dist_euclidienne(Exe, centre)  # Calcul de la distance
        if dist < min_dist: 
            min_dist = dist
            indice_plus_proche = j
    return indice_plus_proche

    


# Exemple (vérifier le résultat avec l'affichage graphique réalisé précédemment):

for i in range(0,len(data_2D_norm)):
    pproche = plus_proche(data_2D_norm.iloc[i],Centroides_test)
    print("L'exemple ",i," est le plus proche du centroide ",pproche)

















from collections import OrderedDict
def affecte_cluster(Base,Centres):
    """ Array * Array -> dict[int,list[int]]
        Base: Array contenant la base d'apprentissage
        Centres : Array contenant des centroides
    """
    dic = dict()
    for i in range(0,len(Base)):
        c = plus_proche(Base.iloc[i], Centres)
        if c not in dic.keys() : 
            dic[c] = []
        dic[c].append(i)


    return dict(OrderedDict(sorted(dic.items())))

    


DictAffect = affecte_cluster(data_2D_norm, Centroides_test)
DictAffect






def nouveaux_centroides(Base,U):
    """ Array * dict[int,list[int]] -> DataFrame
        Base : Array contenant la base d'apprentissage
        U : Dictionnaire d'affectation
    """
    l = []
    for i in U.keys(): 
        l.append(list(clust.centroide(Base.iloc[U[i]])))
    return np.array(l)
        
    


data_2D_norm.iloc[DictAffect[0]]





clust.centroide(data_2D_norm.iloc[DictAffect[0]])


nouveaux_centroides(data_2D_norm, DictAffect)





def inertie_globale(Base, U):
    """ Array * dict[int,list[int]] -> float
        Base : Array pour la base d'apprentissage
        U : Dictionnaire d'affectation
    """
    somme = 0
    for i in U.keys():
        somme += inertie_cluster(Base.iloc[U[i]])
    return somme


print(f'Inertie globale: {inertie_globale(data_2D_norm,DictAffect):1.4f}')





import numpy as np

def kmoyennes(K, Base, epsilon, iter_max):
    """
    int * Array * float * int -> tuple(Array, dict[int,list[int]])
    K : entier > 1 (nombre de clusters)
    Base : Array pour la base d'apprentissage
    epsilon : réel > 0
    iter_max : entier > 1
    """
    # Définir des centroides
    Centres = init_kmeans(K, Base)
    
    for i in range(iter_max):
        # définir matrice d'affectation
        Affect = affecte_cluster(Base, Centres)
        new_Centres = np.array([clust.centroide(Base.iloc[Affect[k]]) for k in range(K)] )
        # Calcul de l'inertie globale actuelle
        int_glo = inertie_globale(Base, Affect)
        # Critère de convergence
        if i > 0 and np.abs(int_glo - iner_pre) < epsilon:
            print("itération ",i," Inertie : ",int_glo," Difference: ",np.abs(int_glo - iner_pre))
            return (new_Centres, Affect)
    
        if i == 0 : 
            print("itération ",i," Inertie : ",int_glo," Difference: ",np.abs(int_glo))
        if i > 0 :
            print("itération ",i," Inertie : ",int_glo," Difference: ",np.abs(int_glo - iner_pre))
                  
        Centres = new_Centres
        iner_pre = int_glo
        
    return (Centres, Affect)


np.random.seed(42)   # supprimer cette ligne une fois la mise au point terminée

les_centres, l_affectation = kmoyennes(2, data_2D_norm, 0.05, 100)

print("Affichage des centres: ",les_centres)
print("Affichage des affectations: ",l_affectation)


np.random.seed(42)   # supprimer cette ligne une fois la mise au point terminée

les_centres, l_affectation = kmoyennes(3, data_2D_norm, 0.05, 100)

print("Affichage des centres: ",les_centres)
print("Affichage des affectations: ",l_affectation)





plt.scatter(data_2D_norm['X1'],data_2D_norm['X2'],color='b')
plt.scatter(les_centres[:,0],les_centres[:,1],color='r',marker='x')








# Librairie pour manipuler les colormaps:
import matplotlib.cm as cm

# on transforme le colormap en couleurs utilisable par plt.scatter:
couleurs = cm.tab20(np.linspace(0, 1, 20))

print("nombre de couleurs différentes",len(couleurs))

# Pour voir ces couleurs, on va afficher 20 points aléatoirement définis:
x = np.random.randn(len(couleurs))
y = np.random.randn(len(couleurs))       

for (x,y,c) in zip(x,y,couleurs):
    plt.scatter(x, y, color=c)
data_2D_norm


import matplotlib.cm as cm


def affiche_resultat(Base, Centres, Affect):
    # Supposons que le nombre de clusters est égal au nombre de lignes dans Centres
    couleurs = cm.tab20(np.linspace(0, 1, len(Centres)))
    

    
    # Affichage des points par cluster
    for i, points_indices in Affect.items():
        plt.scatter(Base.iloc[points_indices, 0], Base.iloc[points_indices, 1], color=couleurs[i], label=f'Cluster {i}')
    
    # Affichage des centres des clusters
    for i, center_coords in enumerate(Centres):
        plt.scatter(center_coords[0], center_coords[1], color=couleurs[i], marker='x', s=100, label=f'Centre {i}')

    plt.show()



affiche_resultat(data_2D_norm,les_centres,l_affectation)

# Remarque:
#  - les centres sont représentés par des croix rouges





data_2D_diff = clust.normalisation(pd.read_csv("data/base-2D-diff.csv"))
# ------------------------ 

print("Il y a", len(data_2D_diff), "exemples dans la base.")

data_2D_diff

plt.scatter(data_2D_diff['X1'],data_2D_diff['X2'],)

data_2D_norm


np.random.seed(42)   # supprimer cette ligne une fois la mise au point terminée

les_centres, l_affectation = kmoyennes(3, data_2D_diff, 0.05, 100)

print("Affichage des centres: ",les_centres)
print("Affichage des affectations: ",l_affectation)

affiche_resultat(data_2D_diff,les_centres,l_affectation)



np.random.seed(1)   # supprimer cette ligne une fois la mise au point terminée

les_centres, l_affectation = kmoyennes(3, data_2D_diff, 0.05, 100)

print("Affichage des centres: ",les_centres)
print("Affichage des affectations: ",l_affectation)

affiche_resultat(data_2D_diff,les_centres,l_affectation)






np.random.seed(42)   # on prend 42 comme graine


nb_points = 500 

# génération des groupes de points 
cluster1_centre = np.array([2,1])
cluster1_sigma = np.array([[1,0],[0,1]])
cluster2_centre = np.array([-2,-2])
cluster2_sigma = np.array([[1.5,0],[0,1.5]])
cluster1_points = np.random.multivariate_normal(cluster1_centre,cluster1_sigma,nb_points)
cluster2_points = np.random.multivariate_normal(cluster2_centre,cluster2_sigma,nb_points)

# on stocke les points dans un dataframe (en les normalisant)
desc = np.concatenate((cluster1_points, cluster2_points))
data_rand = clust.normalisation(pd.DataFrame(desc,columns=['X1','X2']))
    
print("Taille du dataset généré :", data_rand.shape[0], "exemples")

# Affichage des points obtenus:
plt.scatter(data_rand['X1'],data_rand['X2'])




np.random.seed(42)   # supprimer cette ligne une fois la mise au point terminée

val_k = 2
les_centres, l_affectation = kmoyennes(val_k, data_rand, 0.05, 100)

print("Pour k=",val_k,"\nAffichage des centres: ",les_centres)
#print("Affichage des affectations: ",l_affectation)

affiche_resultat(data_rand,les_centres,l_affectation)



# On peut essayer avec plus de clusters que prévu :

np.random.seed(42)   

val_k = 4
les_centres, l_affectation = kmoyennes(val_k, data_rand, 0.05, 100)

print("Pour k=",val_k,"\nAffichage des centres: ",les_centres)
#print("Affichage des affectations: ",l_affectation)

affiche_resultat(data_rand,les_centres,l_affectation)



# Autre exécution avec le même k que précédemment

np.random.seed(2023)  

val_k = 4
les_centres, l_affectation = kmoyennes(val_k, data_rand, 0.05, 100)

print("Pour k=",val_k,"\nAffichage des centres: ",les_centres)
#print("Affichage des affectations: ",l_affectation)

affiche_resultat(data_rand,les_centres,l_affectation)













