{
 "cells": [
  {
   "cell_type": "markdown",
   "metadata": {},
   "source": [
    "IA & Data science (LU3IN0226) -- 2023-2024\n",
    "--------\n",
    "*&copy; Equipe pédagogique: Téo Guichoux, Christophe Marsala, Olivier Schwander, Jean-Noël Vittaut.*\n"
   ]
  },
  {
   "cell_type": "markdown",
   "metadata": {},
   "source": [
    "<font size=\"+1\" color=\"RED\">**[Q]**</font> **Indiquer dans la boîte ci-dessous vos noms et prénoms :**"
   ]
  },
  {
   "cell_type": "markdown",
   "metadata": {},
   "source": [
    "MUNSUP Warintara 28707636"
   ]
  },
  {
   "cell_type": "markdown",
   "metadata": {},
   "source": [
    "<font color=\"RED\" size=\"+1\">**[Q]**</font> **Renommer ce fichier ipython**\n",
    "\n",
    "Tout en haut de cette page, cliquer sur <tt>tme-04</tt> et rajouter à la suite de <tt>tme-04</tt> les noms des membres du binômes séparés par un tiret.\n",
    "\n",
    "<font color=\"RED\" size=\"+1\">IMPORTANT: soumission de votre fichier final</font>\n",
    "\n",
    "**Nom à donner au fichier à poster** : *tme-04-Nom1_Nom2.ipynb* \n",
    "- *Nom1* et *Nom2* : noms des membres du binôme\n",
    "- ne pas compresser ou faire une archive: il faut rendre le fichier ipython tel quel, éventuellement, si vous avez d'autres fichiers vous les rendez séparément.\n",
    "\n",
    "**Echancier pour la soumission de votre compte-rendu:**\n",
    "- le compte-rendu d'une séance doit être remis obligatoirement <font color=\"RED\">avant la séance suivante</font>.\n",
    "\n",
    "**Le compte-rendu est soumis sur la page Moodle.**"
   ]
  },
  {
   "cell_type": "code",
   "execution_count": 1,
   "metadata": {},
   "outputs": [],
   "source": [
    "# Importation de librairies standards:\n",
    "import numpy as np\n",
    "import pandas as pd\n",
    "import matplotlib.pyplot as plt\n",
    "%matplotlib inline  \n",
    "\n",
    "# un nouvel import utile pour la 3D:\n",
    "from matplotlib import cm\n",
    "\n",
    "# Les instructions suivantes sont TRES utiles pour recharger automatiquement \n",
    "# le code modifié dans les librairies externes\n",
    "%load_ext autoreload\n",
    "%autoreload 2"
   ]
  },
  {
   "cell_type": "markdown",
   "metadata": {},
   "source": [
    "## Création d'une librairie\n",
    "\n",
    "<div class=\"alert alert-block alert-success\">\n",
    "\n",
    "Afin de pouvoir réutiliser les classes et fonctions écrites précédemment dans les séances de TDTME, vous allez construire une librairie avec vos fonctions.\n",
    "\n",
    "Cette librairie, qui s'appellera IADS, contiendra toutes les classes et fonctions que vous allez développer lors de vos séances de TDTME. Elle sera construite donc séance après séance par l'ajout des nouvelles classes et fonctions que vous écrirez.\n",
    "\n",
    "<font color=\"RED\">Important:</font> dans un premier temps, **vous devez écrire les classes et fonctions demandées dans le notebook** de la séance de TDTME courante. A la séance suivante, ou une fois que tout fonctionne correctement, vous rajouterez les classes et fonctions écrites et testées dans vos fichiers de la librairie IADS pour pouvoir réutiliser vos classifieurs par la suite dans les séances suivantes.\n",
    "\n",
    "Récupérer et désarchiver l'archive `iads.tgz` de telle sorte que le répertoire `iads` soit un **répertoire frère** du répertoire `tme04`.\n",
    "\n",
    "Ainsi, vous devrez avoir une arborescence qui ressemble à ça:\n",
    "\n",
    "    - LU3IN026/\n",
    "        - tme-01/\n",
    "            - tme-01.ipynb\n",
    "        - tme-02/\n",
    "            - tme-02.ipynb\n",
    "        - tme-03/\n",
    "            - tme-03.ipynb\n",
    "        - tme-04/\n",
    "            - tme-04.ipynb\n",
    "        - iads/\n",
    "            - Classifiers.py\n",
    "            - Clustering.py\n",
    "            - utils.py\n",
    "            - evaluation.py\n",
    "            - __init__.py\n",
    "          \n",
    "\n",
    "<b>Important</b> :\n",
    "- ce fichier `tme-04.ipynb` doit toujours rester dans le répertoire `tme-04/`\n",
    "- pour ouvrir les fichiers python (extension .py) qui se trouvent dans le répertoire iads/ il est nécessaire d'utiliser un éditeur de texte comme emacs, gedit, idle,...\n",
    "</div>\n",
    "\n",
    "<font color=\"RED\" size=\"+1\">**[Q]**</font> **Ouvrir et compléter les fichiers Classifiers.py et utils.py**\n",
    "\n",
    "Pour compléter ces fichiers, reprendre le code écrit dans les TDTME précédents.\n",
    "- dans `utils.py`: `genere_dataset_uniform`, `genere_dataset_gaussian`, `plot2DSet`, `plot_frontiere` et `create_XOR`\n",
    "- dans `Classifiers.py`: reprendre le code des classifiers que vous avez déjà définis.\n",
    " "
   ]
  },
  {
   "cell_type": "markdown",
   "metadata": {},
   "source": [
    "<font color=\"RED\" size=\"+1\">**[Q]**</font> **Mise à jour de la librairie `iads`**\n",
    "\n",
    "En premier lieu, vérifier que votre librairie `iads` est bien à jour : elle doit maintenant contenir toutes les fonctions et classes que mises au point et testées dans les séances précédentes. Une fois à jour, importer la librairie pour pouvoir l'utiliser dans ce notebook:"
   ]
  },
  {
   "cell_type": "code",
   "execution_count": 2,
   "metadata": {},
   "outputs": [],
   "source": [
    "# Importation de votre librairie iads:\n",
    "# La ligne suivante permet de préciser le chemin d'accès à la librairie iads\n",
    "import sys\n",
    "sys.path.append('../')   # iads doit être dans le répertoire père du répertoire courant !\n",
    "\n",
    "# Importation de la librairie iads\n",
    "import iads as iads\n",
    "\n",
    "# importation de Classifiers\n",
    "from iads import Classifiers as classif\n",
    "\n",
    "# importation de utils\n",
    "from iads import utils as ut"
   ]
  },
  {
   "cell_type": "markdown",
   "metadata": {},
   "source": [
    "<b>Attention:</b> à partir d'ici, lorsque vous voulez utiliser un algorithme qui se trouve dans le fichier `Classifier.py` il est nécessaire de préfixer son nom par `classif.` qui est le nom du fichier de la librairie. Pour utiliser une fonction du fichier `utils.py`, il faut préfixer le nom de la fonction par `ut.`\n",
    "\n",
    "\n",
    "Dans les boîtes qui vont suivre, on appliquera ce principe."
   ]
  },
  {
   "cell_type": "code",
   "execution_count": 3,
   "metadata": {},
   "outputs": [
    {
     "name": "stdout",
     "output_type": "stream",
     "text": [
      "Taille du dataset généré : (200, 2) exemples\n"
     ]
    },
    {
     "data": {
      "image/png": "[encoded data removed]",
      "text/plain": [
       "<Figure size 432x288 with 1 Axes>"
      ]
     },
     "metadata": {
      "needs_background": "light"
     },
     "output_type": "display_data"
    }
   ],
   "source": [
    "# REMARQUE: une fois les importations faites, les fonctions de utils sont utilisables\n",
    "#  en mettant ut. devant leur nom:\n",
    "\n",
    "# Exemple d'utilisation:\n",
    "np.random.seed(42)   # on prend 42 comme graine\n",
    "\n",
    "d_desc_gauss, d_lab_gauss = ut.genere_dataset_gaussian(np.array([1,1]) ,np.array([[1,0],[0,1]]), \\\n",
    "                                                       np.array([-0.5,-1]), np.array([[1,0],[0,1]]), \\\n",
    "                                                       100)\n",
    "\n",
    "print(\"Taille du dataset généré :\", np.shape(d_desc_gauss), \"exemples\")\n",
    "\n",
    "# Affichage :\n",
    "ut.plot2DSet(d_desc_gauss,d_lab_gauss)"
   ]
  },
  {
   "cell_type": "code",
   "execution_count": 4,
   "metadata": {},
   "outputs": [
    {
     "name": "stdout",
     "output_type": "stream",
     "text": [
      "Accuracy :  0.89\n",
      "(label -1: o_rouge; label +1: x_bleu)\n"
     ]
    },
    {
     "data": {
      "image/png": "[encoded data removed]",
      "text/plain": [
       "<Figure size 432x288 with 1 Axes>"
      ]
     },
     "metadata": {
      "needs_background": "light"
     },
     "output_type": "display_data"
    }
   ],
   "source": [
    "data = d_desc_gauss\n",
    "label = d_lab_gauss\n",
    "\n",
    "# Réinitialisation de la graine pour la mise au point (à enlever ensuite !)\n",
    "np.random.seed(42)   # on prend 42 comme graine\n",
    "\n",
    "# De même, les classes de Classifiers sont utilisables en mettant classif. devant leur nom:\n",
    "# Création d'un perceptron\n",
    "perceptron1 = classif.ClassifierPerceptron(2, learning_rate=0.01, init=True)\n",
    "\n",
    "perceptron1.train(data, label)\n",
    "print(\"Accuracy : \", perceptron1.accuracy(data,label))\n",
    "\n",
    "# Affichage de la frontière de séparation des classes\n",
    "ut.plot_frontiere(data,label,perceptron1,step=60)\n",
    "ut.plot2DSet(data,label)\n",
    "print(\"(label -1: o_rouge; label +1: x_bleu)\")"
   ]
  },
  {
   "cell_type": "markdown",
   "metadata": {},
   "source": [
    "Voilà, à partir de maintenant, vous pourrez donc ainsi réutiliser dans vos notebooks des classes et des fonctions écrites précédemment sans avoir à recopier tout le code implémenté !\n",
    "\n",
    "Dans les prochains notebooks, vous mettrez au point les fonctions et classes demandées et une fois qu'elles seront au point et validées, vous pourrez les transférer dans votre librairie IADS pour pouvoir les réutiliser dans les séances suivantes."
   ]
  },
  {
   "cell_type": "markdown",
   "metadata": {},
   "source": [
    "<font color=\"RED\" size=\"+1\">**[Q]**</font> Pour étudier la convergence du perceptron, on a besoin de garder une trace de tous les poids $w$ qui ont été utilisés. Pour cela, rajouter à la classe `ClassifierPerceptron` un attribut de nom `allw` qui est initialisé aux poids initiaux dans `__init__` par:\n",
    "\n",
    "    self.allw =[self.w.copy()] # stockage des premiers poids\n",
    "        \n",
    "cet attribut est à mettre jour pendant l'entraînement `train_step` du perceptron, **après chaque changement de valeur des poids**. \n",
    "\n",
    "<b>Remarque</b>: attention ! pour copier le vecteur $w$ penser à faire une copie profonde...\n",
    "\n",
    "\n",
    "Ajouter aussi dans la classe un accesseur `get_allw()` pour récupérer la valeur de `allw`.\n"
   ]
  },
  {
   "cell_type": "code",
   "execution_count": 5,
   "metadata": {},
   "outputs": [
    {
     "data": {
      "text/plain": [
       "<matplotlib.legend.Legend at 0x7fe8333f9fa0>"
      ]
     },
     "execution_count": 5,
     "metadata": {},
     "output_type": "execute_result"
    },
    {
     "data": {
      "image/png": "[encoded data removed]",
      "text/plain": [
       "<Figure size 432x288 with 1 Axes>"
      ]
     },
     "metadata": {
      "needs_background": "light"
     },
     "output_type": "display_data"
    }
   ],
   "source": [
    "# A utiliser une fois la classe ClassifierPerceptron modifiée par l'ajout de allw\n",
    "\n",
    "# Paramètres pour le perceptron:\n",
    "dim = 2\n",
    "eps = 5e-3    # learning rate\n",
    "poids_0 = True   # valeur initiale des poids à 0\n",
    "\n",
    "# Réinitialisation de la graine pour la mise au point (à enlever ensuite !)\n",
    "np.random.seed(42)   # on prend 42 comme graine\n",
    "\n",
    "perceptron2 = classif.ClassifierPerceptron(dim, learning_rate=eps, init=poids_0)\n",
    "\n",
    "les_differences = perceptron2.train(data, label,nb_max=100)\n",
    "\n",
    "# récupération de l'évolution des w au cours de l'apprentissage \n",
    "# perceptron initialisé à 0\n",
    "# si allw est sous forme de liste de couples [w1, w2], on doit la convertir en np.array pour la suite:\n",
    "allw = np.array(perceptron2.get_allw()) \n",
    "\n",
    "# Tracé de l'évolution des w:\n",
    "plt.figure()\n",
    "plt.plot(allw[:,0]) # première coordonnée du vecteur poids: w1\n",
    "plt.plot(allw[:,1]) # deuxième coordonnée du vecteur poids: w2\n",
    "plt.title('Evolution des w')\n",
    "plt.xlabel('Nombre de modifications')\n",
    "plt.legend(['w1','w2'])\n",
    "\n",
    "# Sauvegarde de la figure obtenue (décommenter la ligne ci-dessous et créer le sous-répertoire out/):\n",
    "#plt.savefig('out/cvg.png')"
   ]
  },
  {
   "cell_type": "markdown",
   "metadata": {},
   "source": [
    "## Compléments sur le perceptron\n",
    "\n",
    "<div class=\"alert alert-block alert-info\">\n",
    "\n",
    "Afin d'améliorer notre classifieur perceptron, nous allons considérer une version modifiée de la classe `ClassifierPerceptronBiais`, que nous appellerons `ClassifierPerceptronBiais` pour construire un perceptron en utilisant un <b>biais</b> qui facilite la convergence du modèle: pour déterminer si une mise à jour des poids doit être faite, le critère de mauvaise classification est remplacé par\n",
    "$$ f(\\mathbf x_i) y_i < 1 $$\n",
    "où $f(\\mathbf x_i)$ est le score obtenu pour $x_i$.\n",
    "\n",
    "<b>Idée</b>: on veut que $f(\\mathbf x_i)$ et $y_i$ soient du même signe ET que $f(\\mathbf x_i)$ soit suffisamment grand (en valeur absolue).\n",
    "    \n",
    "C'est une version dite *stabilisée* du perceptron où les points ne sont considérés bien classés que lorsque $f(\\mathbf x_i) y_i \\geq 1$. Dans le cas contraire, on met à jour les poids.\n",
    "\n",
    "La mise à jour des poids tient alors compte de ce biais: $$ w = w +\\epsilon (y_i- f(\\mathbf x_i))x_i.$$\n",
    "\n",
    "</div>    \n",
    "    \n"
   ]
  },
  {
   "cell_type": "markdown",
   "metadata": {},
   "source": [
    "<font color=\"RED\" size=\"+1\"><b>[Q]</b></font> Ecrire la classe `ClassifierPerceptronBiais` (tout d'abord dans une boîte de ce notebook, puis vous la copierez dans votre fichier `Classifiers.py`) et tester le code suivant qui doit être fonctionnel. \n",
    "\n",
    "Pour éviter d'avoir à récrire les fonctions déjà écrites pour le perceptron et qui ne changeront pas dans le cas du perceptron avec biais, on fait hériter la classe `ClassifierPerceptronBiais` de la classe `ClassifierPerceptron`.\n"
   ]
  },
  {
   "cell_type": "code",
   "execution_count": 6,
   "metadata": {},
   "outputs": [],
   "source": [
    "# ------------------------ A COMPLETER :\n",
    "\n",
    "# Remarque : quand vous transférerez cette classe dans le fichier classifieur.py \n",
    "# de votre librairie, il faudra enlever \"classif.\" en préfixe de la classe ClassifierPerceptron:\n",
    "\n",
    "class ClassifierPerceptronBiais(classif.ClassifierPerceptron):\n",
    "    \"\"\" Perceptron de Rosenblatt avec biais\n",
    "        Variante du perceptron de base\n",
    "    \"\"\"\n",
    "    def __init__(self, input_dimension, learning_rate=0.01, init=True):\n",
    "        \"\"\" Constructeur de Classifier\n",
    "            Argument:\n",
    "                - input_dimension (int) : dimension de la description des exemples (>0)\n",
    "                - learning_rate (par défaut 0.01): epsilon\n",
    "                - init est le mode d'initialisation de w: \n",
    "                    - si True (par défaut): initialisation à 0 de w,\n",
    "                    - si False : initialisation par tirage aléatoire de valeurs petites\n",
    "        \"\"\"\n",
    "        # Appel du constructeur de la classe mère\n",
    "        super().__init__(input_dimension, learning_rate, init)\n",
    "        # Affichage pour information (décommentez pour la mise au point)\n",
    "        # print(\"Init perceptron biais: w= \",self.w,\" learning rate= \",learning_rate)\n",
    "        \n",
    "    def train_step(self, desc_set, label_set):\n",
    "        \"\"\" Réalise une unique itération sur tous les exemples du dataset\n",
    "            donné en prenant les exemples aléatoirement.\n",
    "            Arguments:\n",
    "                - desc_set: ndarray avec des descriptions\n",
    "                - label_set: ndarray avec les labels correspondants\n",
    "        \"\"\"  \n",
    "        ind = [i for i in range(0,desc_set.shape[0])]\n",
    "        np.random.shuffle(ind)\n",
    "        for i in ind : \n",
    "            # ŷi = xi * w\n",
    "            if self.score(desc_set[i])*label_set[i] < 1 :\n",
    "                self.allw.append(self.w)\n",
    "                self.w = self.w + self.epsilon * (label_set[i] - self.score(desc_set[i]))*(desc_set[i]) \n",
    "        \n",
    "        \n",
    "        "
   ]
  },
  {
   "cell_type": "code",
   "execution_count": 7,
   "metadata": {},
   "outputs": [
    {
     "data": {
      "text/plain": [
       "<matplotlib.legend.Legend at 0x7fe8333115b0>"
      ]
     },
     "execution_count": 7,
     "metadata": {},
     "output_type": "execute_result"
    },
    {
     "data": {
      "image/png": "[encoded data removed]",
      "text/plain": [
       "<Figure size 432x288 with 1 Axes>"
      ]
     },
     "metadata": {
      "needs_background": "light"
     },
     "output_type": "display_data"
    }
   ],
   "source": [
    "np.random.seed(42)   # on prend 42 comme graine\n",
    "\n",
    "# Paramètres pour le perceptron:\n",
    "dim = 2\n",
    "eps = 5e-3    # learning rate\n",
    "poids_0 = True   # valeur initiale des poids à 0\n",
    "\n",
    "# Création et entraînement du perceptron sur les données générées\n",
    "\n",
    "# -------------------------------\n",
    "#### ATTENTION : commenter la ligne qui correspond à votre cas :\n",
    "\n",
    "## La classe ClassifierPerceptronBiais a été mise dans Classifier.py :\n",
    "#perc = classif.ClassifierPerceptronBiais(dim, eps)\n",
    "\n",
    "## La classe ClassifierPerceptronBiais se trouve dans ce notebook :\n",
    "perceptron_biais = ClassifierPerceptronBiais(dim, learning_rate=eps, init=poids_0)\n",
    "# -------------------------------\n",
    "\n",
    "les_differences = perceptron_biais.train(data, label)\n",
    "\n",
    "# récupération de l'évolution des w au cours de l'apprentissage \n",
    "# perceptron initialisé à 0\n",
    "# si allw est sous forme de liste de couples [w1, w2], on doit la convertir en np.array pour la suite:\n",
    "allw = np.array(perceptron_biais.get_allw()) \n",
    "\n",
    "# Tracé de l'évolution des w:\n",
    "plt.figure()\n",
    "plt.plot(allw[:,0]) # première coordonnée du vecteur poids: w1\n",
    "plt.plot(allw[:,1]) # deuxième coordonnée du vecteur poids: w2\n",
    "plt.title('Evolution des w')\n",
    "plt.xlabel('Nombre de modifications')\n",
    "plt.legend(['w1','w2'])\n",
    "\n",
    "# Sauvegarde de la figure obtenue (décommenter la ligne ci-dessous):\n",
    "# et créer un répertoire out/ dans le répertoire tme04\n",
    "# puis aller dans le répertoire `out` avec un navigateur de fichiers (ou par le terminal)\n",
    "# pour visualiser l'image obtenue par :\n",
    "\n",
    "# plt.savefig('out/cvg.png')"
   ]
  },
  {
   "cell_type": "markdown",
   "metadata": {},
   "source": [
    "<b>Remarque</b>: dans ce qui suit, on considére que la classe `ClassifierPerceptronBiais` se trouve dans ce notebook, pensez à corriger si vous avez déplacé votre classe dans `Classifiers.py` de votre librairie IADS."
   ]
  },
  {
   "cell_type": "markdown",
   "metadata": {},
   "source": [
    "# Lien avec l'optimisation des fonctions de coût\n",
    "\n",
    "Après ces rappels de code, nous entrons maintenant dans le vif du sujet !\n",
    "\n",
    "<div class=\"alert alert-block alert-info\">\n",
    "    \n",
    "L'évolution des poids du perceptron correspond en réalité à l'optimisation de la fonction coût suivante (cela sera développé en cours):\n",
    "\n",
    "$$ \\mathcal C = \\sum_{i=1}^N [1- f(\\mathbf x_i) y_i]_+, \\qquad \\mbox{avec: } \n",
    "[\\alpha]_+ = \\left\\{\\begin{array}{ll}\n",
    "\\alpha & \\mbox{ si } \\alpha >0\\\\\n",
    "0 & \\mbox{ sinon }\n",
    "\\end{array}\\right.$$\n",
    "\n",
    "Nous utilisons ici une version *stabilisée* du perceptron où les points ne sont bien classé que lorsque \n",
    "$f(\\mathbf x_i) y_i>1$\n",
    "\n",
    "Le perceptron est une simple descente de gradient.\n",
    "\n",
    "Deux questions se posent alors :\n",
    "1. Quelle est l'évolution de $\\mathcal C$ au cours des itérations ?\n",
    "1. Quel chemin de variations prennent les $w$ dans le cas 2D ?\n",
    "    \n",
    "</div>    "
   ]
  },
  {
   "cell_type": "markdown",
   "metadata": {},
   "source": [
    "<font color=\"RED\" size=\"+1\">**[Q]**</font> Donner les instructions qui permettent de tracer l'évolution du coût $ \\mathcal C$ au cours des itérations lors de l'apprentissage précédent. Pour cela, vous utiliserez les valeurs de $w$ sauvegardées lors de l'apprentissage."
   ]
  },
  {
   "cell_type": "code",
   "execution_count": 8,
   "metadata": {},
   "outputs": [
    {
     "data": {
      "image/png": "[encoded data removed]",
      "text/plain": [
       "<Figure size 432x288 with 1 Axes>"
      ]
     },
     "metadata": {
      "needs_background": "light"
     },
     "output_type": "display_data"
    }
   ],
   "source": [
    "# Toujours avec les mêmes données :\n",
    "X = data\n",
    "Y = label\n",
    "C =[]\n",
    "# on considère les poids de perceptron_biais généré dans une boite précédente:\n",
    "allw = np.array(perceptron_biais.get_allw()) \n",
    "\n",
    "# ############### A COMPLETER\n",
    "list = []\n",
    "def score(x,w) :\n",
    "    return x.dot(w)\n",
    "\n",
    "\n",
    "def C(X,Y,w) : \n",
    "    res= 0\n",
    "    for i in range(len(X)):\n",
    "        res += (1- score(X[i],w) * Y[i] if 1- score(X[i],w) * Y[i] > 0 else 0)\n",
    "    return res \n",
    "\n",
    "cout= [C(X,Y,w) for w in allw]\n",
    "\n",
    "plt.plot(cout, [i for i in range(len(allw))])  \n",
    "plt.ylabel('lenC')\n",
    "plt.xlabel(\"C\")\n",
    "plt.show()\n"
   ]
  },
  {
   "cell_type": "code",
   "execution_count": 9,
   "metadata": {},
   "outputs": [
    {
     "data": {
      "text/plain": [
       "array([[0.        , 0.        ],\n",
       "       [0.        , 0.        ],\n",
       "       [0.00699207, 0.0025404 ],\n",
       "       [0.01307874, 0.00641661],\n",
       "       [0.02003174, 0.01157935]])"
      ]
     },
     "execution_count": 9,
     "metadata": {},
     "output_type": "execute_result"
    }
   ],
   "source": [
    "allw[0:5]"
   ]
  },
  {
   "cell_type": "markdown",
   "metadata": {},
   "source": [
    "### Evolution des poids dans l'espace des paramètres\n",
    "\n",
    "Le code pour étudier l'évolution des poids dans l'espace des paramères est presque entièrement donné ci-dessous... Sauf une ligne critique !\n",
    "\n",
    "<b>Remarque</b>: il faut absolument comprendre la signification du code et de l'image produite.\n",
    "\n",
    "Pour cela, regarder la documentation des fonctions\n",
    "- `numpy.meshgrid` : https://numpy.org/doc/stable/reference/generated/numpy.meshgrid.html\n",
    "- `numpy.linspace` : https://numpy.org/doc/stable/reference/generated/numpy.linspace.html\n",
    "- `matplotlib.pyplot.scatter` : : https://matplotlib.org/stable/api/_as_gen/matplotlib.pyplot.scatter.html\n"
   ]
  },
  {
   "cell_type": "code",
   "execution_count": 10,
   "metadata": {},
   "outputs": [
    {
     "name": "stderr",
     "output_type": "stream",
     "text": [
      "/tmp/ipykernel_12049/3158366524.py:28: UserWarning: No contour levels were found within the data range.\n",
      "  CS = ax.contour(x1grid,x2grid,res)\n"
     ]
    },
    {
     "data": {
      "text/plain": [
       "<matplotlib.collections.PathCollection at 0x7fe83315e220>"
      ]
     },
     "execution_count": 10,
     "metadata": {},
     "output_type": "execute_result"
    },
    {
     "data": {
      "image/png": "[encoded data removed]",
      "text/plain": [
       "<Figure size 432x288 with 1 Axes>"
      ]
     },
     "metadata": {
      "needs_background": "light"
     },
     "output_type": "display_data"
    }
   ],
   "source": [
    "# Evolution des poids dans l'espace des paramètres\n",
    "# le code est presque entièrement donné... Sauf une ligne critique\n",
    "# Il faut absolument comprendre la signification du code et de l'image produite\n",
    "\n",
    "# 1. Construction d'une grille de 'toutes' les valeurs possibles de w dans les bornes de allw\n",
    "mmax=allw.max(0)\n",
    "mmin=allw.min(0)\n",
    "x1grid,x2grid=np.meshgrid(np.linspace(mmin[0],mmax[0],30),np.linspace(mmin[1],mmax[1],30))\n",
    "grid=np.hstack((x1grid.reshape(x1grid.size,1),x2grid.reshape(x2grid.size,1)))\n",
    "\n",
    "# 2. Evaluation du cout pour toutes ces solutions potentielles\n",
    "\n",
    "##########\n",
    "# LIGNE A COMPLETER:\n",
    "# construction de res = calcul du cout du perceptron pour tous les couples\n",
    "# (w1,w2) définis dans grid\n",
    "\n",
    "res = np.zeros(x1grid.shape)\n",
    "\n",
    "##########\n",
    "\n",
    "# remise en forme de res\n",
    "res=res.reshape(x1grid.shape) \n",
    "\n",
    "fig, ax = plt.subplots() # pour 1 et 2\n",
    "ax.set_xlabel('$w_1$')\n",
    "ax.set_ylabel('$w_2$')\n",
    "CS = ax.contour(x1grid,x2grid,res)\n",
    "ax.clabel(CS, inline=1, fontsize=10)\n",
    "\n",
    "# ajoute de la couleur: jaune = plus grande itération\n",
    "ax.scatter(allw[:,0], allw[:,1], c=np.arange(len(allw)))\n",
    "\n",
    "# Sauvegarde de la figure obtenue (décommenter la ligne ci-dessous):\n",
    "#plt.savefig(\"out/espace_param.png\")"
   ]
  },
  {
   "cell_type": "markdown",
   "metadata": {},
   "source": [
    "La solution initiale $w=[0,0]$ correspond à un coût élevé. L'algorithme du perceptron fait évoluer les poids du modèle pour aller dans une zone de l'espace où le coût est moindre.\n",
    "\n",
    "**ATTENTION** à ne pas confondre l'espace de représentation des points (où les axes sont $X_1,X_2$) et l'espace de représentation des paramètres (ici, où chaque point correspond à un classifieur associé à un niveau de coût)."
   ]
  },
  {
   "cell_type": "markdown",
   "metadata": {},
   "source": [
    "# Validation Croisée\n",
    "\n",
    "Dans le but d'évaluer un classifier, nous avons vu dans le TME 3 qu'il était important de posséder un ensemble de données de test, différent de l'ensemble d'apprentissage.\n",
    "\n",
    "Nous allons voir maintenant une méthode encore plus efficace pour bien évaluer un algorithme.\n",
    "\n",
    "<div class=\"alert alert-block alert-info\">\n",
    "\n",
    "La procédure de la <b>validation croisée</b> (ou <i>cross validation</i>) est au centre de la plupart des applications de machine learning: il est temps pour nous de travailler sur une implémentation.\n",
    "\n",
    "L'idée est de concevoir la fonction suivante:\n",
    "```\n",
    "Xapp,Yapp,Xtest,Ytest = crossval(X, Y, n_iterations, iteration)\n",
    "```\n",
    "- ```X, Y``` sont les données du dataset **mélangées aléatoirement** (on ne mélange pas physiquement les données, mais seulement leurs indices)\n",
    "- ```n_iterations``` est le nombre d'ensembles de test au total.\n",
    "- ```iteration``` est l'itération concernée: on ne renvoit pas les mêmes données en fonction des itérations.\n",
    "\n",
    "Après séparation des indices en ```n_iterations``` groupes, isoler 1 groupe pour le test et les autres pour l'apprentissage.\n",
    "\n",
    "\n",
    "<b>Remarques:</b>\n",
    "- on fait l'hypothèse que le dataset (`X`, `Y`) garde toujours le même ordre entre 2 appels de `crossval` successif avec des valeurs d'itération différentes.\n",
    "- cette fonction ne doit pas mélanger les données du dataset fourni (qui doit être mélangé au préalable), elle sert juste à extraire de ce dataset 2 sous-datasets: un dataset d'apprentissage (`Xapp`, `Yapp`) et un dataset de test (`Xtest`, `Ytest`).\n",
    "- elle extrait les datasets demandés comme suit:\n",
    "    - le dataset de test pour l'itération $i$ contient les exemples du dataset $X$ dont les indices vont de $i\\frac{len(X)}{n}$ à  $(i+1)\\frac{len(X)}{n}-1$ (avec $n$ le nombre d'itérations `n_iterations` fixé).\n",
    "    - le dataset d'apprentissage pour l'itération $i$ contient les exemples du dataset $X$ contient les exemples qui ne sont pas dans le dataset de test.\n",
    "\n",
    "</div>    \n",
    "    \n",
    "**Note** Pour mélanger les données au départ, avant le premier appel de `crossval`, vous pouvez utiliser les commandes suivantes:\n",
    "```\n",
    "index = np.random.permutation(len(X)) # mélange des index\n",
    "Xm = X[index]\n",
    "Ym = Y[index]\n",
    "\n",
    "# check: malgré le mélange, les données doivent être les mêmes\n",
    "plt.figure()\n",
    "plt.scatter(Xm[Ym==1,0], Xm[Ym==1,1], c='b')\n",
    "plt.scatter(Xm[Ym==-1,0], Xm[Ym==-1,1], c='r')\n",
    "```\n"
   ]
  },
  {
   "cell_type": "code",
   "execution_count": 12,
   "metadata": {},
   "outputs": [
    {
     "data": {
      "text/plain": [
       "<matplotlib.collections.PathCollection at 0x7f38fc1a53d0>"
      ]
     },
     "execution_count": 12,
     "metadata": {},
     "output_type": "execute_result"
    },
    {
     "data": {
      "image/png": "[encoded data removed]",
      "text/plain": [
       "<Figure size 640x480 with 1 Axes>"
      ]
     },
     "metadata": {},
     "output_type": "display_data"
    }
   ],
   "source": [
    "index = np.random.permutation(len(X)) # mélange des index\n",
    "Xm = X[index]\n",
    "Ym = Y[index]\n",
    "\n",
    "# check: malgré le mélange, les données doivent être les mêmes\n",
    "plt.figure()\n",
    "plt.scatter(Xm[Ym==1,0], Xm[Ym==1,1], c='b')\n",
    "plt.scatter(Xm[Ym==-1,0], Xm[Ym==-1,1], c='r')"
   ]
  },
  {
   "cell_type": "markdown",
   "metadata": {},
   "source": [
    "<font color=\"RED\" size=\"+1\">**[Q]**</font> Donner la définition de la fonction `crossval` telle qu'elle est décrite."
   ]
  },
  {
   "cell_type": "code",
   "execution_count": 13,
   "metadata": {},
   "outputs": [],
   "source": [
    "def crossval(X, Y, n_iterations, iteration):\n",
    "    i = int(iteration*(len(X)/n_iterations))\n",
    "    j = int((iteration+1)*(len(X)/n_iterations)-1)\n",
    "    Xtest = X[i:j]\n",
    "    Ytest = Y[i:j]\n",
    "    Xapp = X[[n for n in range(len(X)) if n not in range(i,j)]]\n",
    "    Yapp = Y[[n for n in range(len(Y)) if n not in range(i,j)]]\n",
    "    return Xapp, Yapp, Xtest, Ytest\n",
    "\n"
   ]
  },
  {
   "cell_type": "markdown",
   "metadata": {},
   "source": [
    "Regarder l'exemple d'utilisation suivant, sur un dataset jouet, pour comprendre comment sont pris les exemples à chaque appel différent."
   ]
  },
  {
   "cell_type": "code",
   "execution_count": 14,
   "metadata": {},
   "outputs": [
    {
     "name": "stdout",
     "output_type": "stream",
     "text": [
      "========== ITERATION :  0  ==========\n",
      " Xapp= [ 5  6  7  8  9 10 11 12 13 14 15 16 17 18 19 20 21 22 23] \n",
      " Yapp= [ 5  6  7  8  9 10 11 12 13 14 15 16 17 18 19 20 21 22 23] \n",
      " Xtest= [0 1 2 3 4] \n",
      " Ytest= [0 1 2 3 4]\n",
      "========== ITERATION :  1  ==========\n",
      " Xapp= [ 0  1  2  3  4  5 11 12 13 14 15 16 17 18 19 20 21 22 23] \n",
      " Yapp= [ 0  1  2  3  4  5 11 12 13 14 15 16 17 18 19 20 21 22 23] \n",
      " Xtest= [ 6  7  8  9 10] \n",
      " Ytest= [ 6  7  8  9 10]\n",
      "========== ITERATION :  2  ==========\n",
      " Xapp= [ 0  1  2  3  4  5  6  7  8  9 10 11 17 18 19 20 21 22 23] \n",
      " Yapp= [ 0  1  2  3  4  5  6  7  8  9 10 11 17 18 19 20 21 22 23] \n",
      " Xtest= [12 13 14 15 16] \n",
      " Ytest= [12 13 14 15 16]\n",
      "========== ITERATION :  3  ==========\n",
      " Xapp= [ 0  1  2  3  4  5  6  7  8  9 10 11 12 13 14 15 16 17 23] \n",
      " Yapp= [ 0  1  2  3  4  5  6  7  8  9 10 11 12 13 14 15 16 17 23] \n",
      " Xtest= [18 19 20 21 22] \n",
      " Ytest= [18 19 20 21 22]\n",
      "\n",
      "*********************\n",
      "Et on peut rappeler la fonction avec 0 par exemple: \n",
      " Xapp= [ 5  6  7  8  9 10 11 12 13 14 15 16 17 18 19 20 21 22 23] \n",
      " Yapp= [ 5  6  7  8  9 10 11 12 13 14 15 16 17 18 19 20 21 22 23] \n",
      " Xtest= [0 1 2 3 4] \n",
      " Ytest= [0 1 2 3 4]\n"
     ]
    }
   ],
   "source": [
    "# Pour vérifier que le traitement est bien réalisé et que tout marche bien \n",
    "# en particulier (très important !) que le lien entre descriptions X et classes Y n'est pas perdu,\n",
    "# on peut regarder ce qui se passe si X et Y sont les mêmes:\n",
    "\n",
    "N = 24  # Nombre d'exemples dans le dataset\n",
    "Xjouet = np.array([i for i in range(0,N)])   \n",
    "Yjouet = Xjouet  # Yjouet est identique à Xjouet\n",
    "\n",
    "niter = 4\n",
    "for i in range(niter):\n",
    "    Xapp,Yapp,Xtest,Ytest = crossval(Xjouet, Yjouet, niter, i)\n",
    "    print(\"========== ITERATION : \",i,\" ==========\")\n",
    "    print(\" Xapp=\", Xapp.T,\"\\n\",\"Yapp=\", Yapp,\"\\n\",\"Xtest=\",Xtest.T,\"\\n\",\"Ytest=\", Ytest)\n",
    "    \n",
    "    \n",
    "print(\"\\n*********************\\nEt on peut rappeler la fonction avec 0 par exemple: \")    \n",
    "Xapp,Yapp,Xtest,Ytest = crossval(Xjouet, Yjouet, niter, 0)\n",
    "print(\" Xapp=\", Xapp.T,\"\\n\",\"Yapp=\", Yapp,\"\\n\",\"Xtest=\",Xtest.T,\"\\n\",\"Ytest=\", Ytest)\n"
   ]
  },
  {
   "cell_type": "markdown",
   "metadata": {},
   "source": [
    "<font color=\"RED\" size=\"+1\">**[Q]**</font> En fait, pour faire les choses correctement, il faut que la séparation des ensembles train/test respecte la distribution des classes dans le dataset de départ. Ecrire la fonction `crossval_strat` qui effectue la même chose que la fonction précédente mais en respectant la distribution des classes. La solution passe par un découpage qui s'effectue par classe.\n"
   ]
  },
  {
   "cell_type": "code",
   "execution_count": 32,
   "metadata": {},
   "outputs": [],
   "source": [
    "def crossval_strat(X,Y,n_iterations,iteration):\n",
    "    unique_classes = np.unique(Y)\n",
    "    class_counts = {c: np.sum(Y == c) for c in unique_classes}\n",
    "\n",
    "    fold_size = len(X) // n_iterations\n",
    "\n",
    "    test_indices = []\n",
    "    for c in unique_classes:\n",
    "        class_indices = np.where(Y == c)[0]\n",
    "        class_fold_size = len(class_indices) // n_iterations\n",
    "        start_index = iteration * class_fold_size\n",
    "        end_index = (iteration + 1) * class_fold_size\n",
    "        test_indices.extend(class_indices[start_index:end_index])\n",
    "\n",
    "    train_indices = np.setdiff1d(np.arange(len(X)), test_indices)\n",
    "\n",
    "    X_train, X_test = X[train_indices], X[test_indices]\n",
    "    Y_train, Y_test = Y[train_indices], Y[test_indices]\n",
    "\n",
    "    return X_train, Y_train, X_test, Y_test"
   ]
  },
  {
   "cell_type": "code",
   "execution_count": 16,
   "metadata": {},
   "outputs": [
    {
     "name": "stdout",
     "output_type": "stream",
     "text": [
      "========== ITERATION :  0  ==========\n",
      " Xapp= [ 5  6  7  8  9 10 11 12 13 14 15 16 17 18 19 20 21 22 23] \n",
      " Yapp= [-1 -1 -1 -1 -1 -1 -1  1  1  1  1  1  1  1  1  1  1  1  1] \n",
      " Xtest= [ 0  1  2  3  4 12 13 14 15 16] \n",
      " Ytest= [-1 -1 -1 -1 -1  1  1  1  1  1]\n",
      "========== ITERATION :  1  ==========\n",
      " Xapp= [ 0 11 12 13 14 15 16 17 18 19 20 21 22 23] \n",
      " Yapp= [-1 -1  1  1  1  1  1  1  1  1  1  1  1  1] \n",
      " Xtest= [ 1  2  3  4  5  6  7  8  9 10 13 14 15 16 17 18 19 20 21 22] \n",
      " Ytest= [-1 -1 -1 -1 -1 -1 -1 -1 -1 -1  1  1  1  1  1  1  1  1  1  1]\n",
      "========== ITERATION :  2  ==========\n",
      " Xapp= [ 0  1  2 18 19 20 21 22 23] \n",
      " Yapp= [-1 -1 -1  1  1  1  1  1  1] \n",
      " Xtest= [ 3  4  5  6  7  8  9 10 11 15 16 17 18 19 20 21 22 23] \n",
      " Ytest= [-1 -1 -1 -1 -1 -1 -1 -1 -1  1  1  1  1  1  1  1  1  1]\n"
     ]
    }
   ],
   "source": [
    "# Exemple d'utilisation avec un dataset jouet (1 Dimension)\n",
    "N = 24  # Nombre d'exemples dans le dataset\n",
    "#Xtoy = np.arange(N).reshape(N,1)\n",
    "Xtoy = np.array([i for i in range(0,N)])   \n",
    "Ytoy = np.array([-1]*(N//2) + [1]*(N//2))\n",
    "#index = np.random.permutation(len(Xtoy)) # mélange des index\n",
    "#XtoyMelange = Xtoy[index]\n",
    "#YtoyMelange = Ytoy[index]\n",
    "\n",
    "niter = 3\n",
    "for i in range(niter):\n",
    "    Xapp,Yapp,Xtest,Ytest = crossval_strat(Xtoy, Ytoy, niter, i)\n",
    "    print(\"========== ITERATION : \",i,\" ==========\")\n",
    "    print(\" Xapp=\", Xapp.T,\"\\n\",\"Yapp=\", Yapp,\"\\n\",\"Xtest=\",Xtest.T,\"\\n\",\"Ytest=\", Ytest)"
   ]
  },
  {
   "cell_type": "markdown",
   "metadata": {},
   "source": [
    "**Remarque**: il est important, avant d'utiliser `crossval` ou `crossval_strat` de mélanger le dataset. Ce mélange aléatoire doit être fait une seule fois avant le premier appel de la fonction (et jamais entre 2 appels)."
   ]
  },
  {
   "cell_type": "code",
   "execution_count": 17,
   "metadata": {},
   "outputs": [
    {
     "name": "stdout",
     "output_type": "stream",
     "text": [
      "========== ITERATION :  0  ==========\n",
      " Xapp= [ 9  1  5  2  3  4  7 10  6 13 21 12 15 22 17 20 23 14 19] \n",
      " Yapp= [-1 -1 -1 -1 -1 -1 -1 -1 -1  1  1  1  1  1  1  1  1  1  1] \n",
      " Xtest= [ 8  0 11  9  1 16 18 13 21 12] \n",
      " Ytest= [-1 -1 -1 -1 -1  1  1  1  1  1]\n",
      "========== ITERATION :  1  ==========\n",
      " Xapp= [ 8  3  4  7 10  6 12 15 22 17 20 23 14 19] \n",
      " Yapp= [-1 -1 -1 -1 -1 -1  1  1  1  1  1  1  1  1] \n",
      " Xtest= [ 0 11  9  1  5  2  3  4  7 10 18 13 21 12 15 22 17 20 23 14] \n",
      " Ytest= [-1 -1 -1 -1 -1 -1 -1 -1 -1 -1  1  1  1  1  1  1  1  1  1  1]\n",
      "========== ITERATION :  2  ==========\n",
      " Xapp= [ 8  0  7 10  6 16 23 14 19] \n",
      " Yapp= [-1 -1 -1 -1 -1  1  1  1  1] \n",
      " Xtest= [ 9  1  5  2  3  4  7 10  6 21 12 15 22 17 20 23 14 19] \n",
      " Ytest= [-1 -1 -1 -1 -1 -1 -1 -1 -1  1  1  1  1  1  1  1  1  1]\n"
     ]
    }
   ],
   "source": [
    "np.random.seed(42)   # on prend 42 comme graine\n",
    "\n",
    "# Exemple d'utilisation avec un dataset jouet (1 Dimension)\n",
    "N = 24  # Nombre d'exemples dans le dataset\n",
    "Xtoy = np.array([i for i in range(0,N)])   \n",
    "Ytoy = np.array([-1]*(N//2) + [1]*(N//2))\n",
    "index = np.random.permutation(len(Xtoy)) # mélange des index\n",
    "XtoyMelange = Xtoy[index]\n",
    "YtoyMelange = Ytoy[index]\n",
    "\n",
    "niter = 3\n",
    "for i in range(niter):\n",
    "    Xapp,Yapp,Xtest,Ytest = crossval_strat(XtoyMelange, YtoyMelange, niter, i)\n",
    "    print(\"========== ITERATION : \",i,\" ==========\")\n",
    "    print(\" Xapp=\", Xapp.T,\"\\n\",\"Yapp=\", Yapp,\"\\n\",\"Xtest=\",Xtest.T,\"\\n\",\"Ytest=\", Ytest)"
   ]
  },
  {
   "cell_type": "markdown",
   "metadata": {},
   "source": [
    "## Tests de la procédure de validation croisée \n",
    "\n",
    "Sur des données réelles et sur des données jouets\n"
   ]
  },
  {
   "cell_type": "code",
   "execution_count": 18,
   "metadata": {},
   "outputs": [
    {
     "name": "stdout",
     "output_type": "stream",
     "text": [
      "Perf  [0.9473684210526315, 0.8947368421052632, 0.7368421052631579, 0.8421052631578947, 0.8947368421052632, 0.8947368421052632, 0.9473684210526315, 0.8421052631578947, 0.8947368421052632, 0.8947368421052632]\n"
     ]
    }
   ],
   "source": [
    "np.random.seed(42)   # on prend 42 comme graine\n",
    "# test sur les données jouet X, Y supposées pré-existantes\n",
    "\n",
    "index = np.random.permutation(len(X)) # mélange des index\n",
    "Xm = X[index]\n",
    "Ym = Y[index]\n",
    "niter = 10\n",
    "perf = []\n",
    "\n",
    "# Paramètres pour le perceptron:\n",
    "dim = 2\n",
    "eps = 1e-3    # learning rate\n",
    "poids_0 = True   # valeur initiale des poids à 0\n",
    "\n",
    "for i in range(niter):\n",
    "    Xapp,Yapp,Xtest,Ytest = crossval(Xm, Ym, niter, i)\n",
    "    perceptron4 = ClassifierPerceptronBiais(dim, eps, poids_0)\n",
    "    perceptron4.train(Xapp, Yapp)\n",
    "    perf.append(perceptron4.accuracy(Xtest, Ytest))\n",
    "    \n",
    "print(\"Perf \",perf)"
   ]
  },
  {
   "cell_type": "markdown",
   "metadata": {},
   "source": [
    "<font color=\"RED\" size=\"+1\">**[Q]**</font> Tester la validation croisée sur les données USPS.\n",
    "\n",
    "**Remarque:** pour utiliser les données USPS, il vous faut\n",
    "- soit créer un lien symbolique (cf. TME 3) dans le sous-répertoire `ressources` de ce TME 4 vers le fichier `usps.pkl` du TME 2\n",
    "- soit modifier le nom du fichier dans la commande `open` du code ci-dessous en mettant le chemin d'accès vers l'endroit où se trouve votre fichier `usps.pkl`"
   ]
  },
  {
   "cell_type": "code",
   "execution_count": 19,
   "metadata": {},
   "outputs": [
    {
     "name": "stdout",
     "output_type": "stream",
     "text": [
      "Itération  0  : taille base app. =  1073  taille base test=  118  Taux de bonne classif:   0.9745762711864406\n",
      "Itération  1  : taille base app. =  1073  taille base test=  118  Taux de bonne classif:   0.9915254237288136\n",
      "Itération  2  : taille base app. =  1073  taille base test=  118  Taux de bonne classif:   0.9915254237288136\n",
      "Itération  3  : taille base app. =  1073  taille base test=  118  Taux de bonne classif:   0.9745762711864406\n",
      "Itération  4  : taille base app. =  1073  taille base test=  118  Taux de bonne classif:   0.9830508474576272\n",
      "Itération  5  : taille base app. =  1073  taille base test=  118  Taux de bonne classif:   1.0\n",
      "Itération  6  : taille base app. =  1073  taille base test=  118  Taux de bonne classif:   0.9491525423728814\n",
      "Itération  7  : taille base app. =  1073  taille base test=  118  Taux de bonne classif:   0.9745762711864406\n",
      "Itération  8  : taille base app. =  1073  taille base test=  118  Taux de bonne classif:   0.9915254237288136\n",
      "Itération  9  : taille base app. =  1072  taille base test=  119  Taux de bonne classif:   0.9915966386554622\n",
      "Perf obtenues :  [0.9745762711864406, 0.9915254237288136, 0.9915254237288136, 0.9745762711864406, 0.9830508474576272, 1.0, 0.9491525423728814, 0.9745762711864406, 0.9915254237288136, 0.9915966386554622]\n"
     ]
    }
   ],
   "source": [
    "# test sur les données USPS\n",
    "import pickle as pkl\n",
    "\n",
    "data = pkl.load(open('ressources/usps.pkl', 'rb'))\n",
    "Xu = np.array(data['X_train'], dtype=float) # conversion de type pour une meilleure compatibilité\n",
    "Yu = np.array(data['Y_train'], dtype=float)\n",
    "\n",
    "# Création d'un sous groupe de données\n",
    "c1 = 2  # ---> sera associée au label +1  \n",
    "c2 = 6  # ---> sera associée au label -1\n",
    "X12 = Xu[(Yu==c1) | (Yu==c2)]\n",
    "Y12 = np.where(Yu[(Yu==c1) | (Yu==c2)]==c1, 1, -1)\n",
    "\n",
    "np.random.seed(42)   # on prend 42 comme graine\n",
    "\n",
    "# Paramètres pour le perceptron:\n",
    "dim = X12.shape[1]   # la dimension est donnée par le nombre de colonnes de X12\n",
    "eps = 1e-3    # learning rate\n",
    "poids_0 = True   # valeur initiale des poids à 0\n",
    "\n",
    "# Nombre d'itérations voulues pour la validation croisée:\n",
    "nb_iter = 10\n",
    "# Liste pour stocker les taux de bonne classification à chaque itération\n",
    "perf = []\n",
    "\n",
    "\n",
    "# 1) mélanger des exemples \n",
    "index = np.random.permutation(len(X12)) # mélange des index\n",
    "Xm12 = X12[index]\n",
    "Ym12 = Y12[index]\n",
    "\n",
    "# 2) réaliser une validation croisée complète \n",
    "for i in range(nb_iter) :\n",
    "    Xapp,Yapp,Xtest,Ytest = crossval(Xm12, Ym12, niter, i)\n",
    "    perceptron5 = ClassifierPerceptronBiais(dim, eps, poids_0)\n",
    "    perceptron5.train(Xapp, Yapp)\n",
    "    perf.append(perceptron5.accuracy(Xtest, Ytest))\n",
    "    print(\"Itération \",i,\" : taille base app. = \",Xapp.shape[0],\" taille base test= \", Xtest.shape[0],\" Taux de bonne classif:  \",perf[i] )\n",
    "# ###########################\n",
    "    \n",
    "print(\"Perf obtenues : \",perf)"
   ]
  },
  {
   "cell_type": "markdown",
   "metadata": {},
   "source": [
    "<font color=\"RED\" size=\"+1\">**[Q]**</font> Pour évaluer un classifieur, on regarde la moyenne et l'écart type de son taux de bonne classification lors d'une validation croisée.\n",
    "\n",
    "Ecrire la fonction `analyse_perfs` qui prend en argument une liste de nombres réels (non vide) et renvoie le tuple constitué de la moyenne et de l'écart type de ces nombres.\n",
    "\n",
    "**Remarque**: l'écart type donne une information sur la \"robustesse\" du modèle. Plus il est grand, est plus cela signifie que la performance du classifieur dépend du jeu d'apprentissage qui a servi à le construire."
   ]
  },
  {
   "cell_type": "code",
   "execution_count": 20,
   "metadata": {},
   "outputs": [],
   "source": [
    "# ------------------------ A COMPLETER\n",
    "def analyse_perfs(L):\n",
    "    \"\"\" L : liste de nombres réels non vide\n",
    "        rend le tuple (moyenne, écart-type)\n",
    "    \"\"\"\n",
    "    return (np.mean(L),np.std(L)) \n"
   ]
  },
  {
   "cell_type": "code",
   "execution_count": 21,
   "metadata": {},
   "outputs": [
    {
     "data": {
      "text/plain": [
       "(0.9822105113231734, 0.013904130380532159)"
      ]
     },
     "execution_count": 21,
     "metadata": {},
     "output_type": "execute_result"
    }
   ],
   "source": [
    "# Sur les résultats obtenus dans la boîte précédemment:\n",
    "analyse_perfs(perf)"
   ]
  },
  {
   "cell_type": "markdown",
   "metadata": {},
   "source": [
    "<font color=\"RED\" size=\"+1\">**[Q]**</font> Quelle information apporte ici l'écart type ?\n"
   ]
  },
  {
   "cell_type": "code",
   "execution_count": null,
   "metadata": {},
   "outputs": [],
   "source": []
  },
  {
   "cell_type": "markdown",
   "metadata": {},
   "source": [
    "## Etude des classifieurs knn, perceptron et perceptron biais\n",
    "\n",
    "<font color=\"RED\" size=\"+1\">**[Q]**</font> Comparer les performances sur le jeu de données USPS (par exemple, en prenant le label 1 et le label 7 pour avoir 2 classes), par une validation croisée en 10 groupes, de tous les classifieurs que vous avez déjà implémentés. Que peut-on en conclure ?"
   ]
  },
  {
   "cell_type": "code",
   "execution_count": 22,
   "metadata": {},
   "outputs": [
    {
     "name": "stdout",
     "output_type": "stream",
     "text": [
      "Pas d'apprentissage pour ce classifieur\n",
      "Pas d'apprentissage pour ce classifieur\n",
      "Pas d'apprentissage pour ce classifieur\n",
      "Pas d'apprentissage pour ce classifieur\n",
      "Pas d'apprentissage pour ce classifieur\n",
      "Pas d'apprentissage pour ce classifieur\n",
      "Pas d'apprentissage pour ce classifieur\n",
      "Pas d'apprentissage pour ce classifieur\n",
      "Pas d'apprentissage pour ce classifieur\n",
      "Pas d'apprentissage pour ce classifieur\n",
      "Perf knn :  (0.9948420479302833, 0.007403764082230778)\n",
      "Perf lineaire random :  (0.3986873638344227, 0.20314980448550113)\n",
      "Perf perceptron :  (0.9977886710239652, 0.0033778900808947784)\n",
      "Perf perceptron biais :  (0.9970479302832244, 0.004903703393961489)\n"
     ]
    }
   ],
   "source": [
    "c1 = 1\n",
    "c7 = 7\n",
    "X17 = Xu[(Yu==c1) | (Yu==c7)]\n",
    "Y17 = Yu[(Yu==c1) | (Yu==c7)]\n",
    "Y17 = np.where(Y17==c1, 1, -1)\n",
    "\n",
    "np.random.seed(42)\n",
    "\n",
    "dim = X17.shape[1]\n",
    "\n",
    "# paramètres pour le perceptron\n",
    "eps = 1e-3\n",
    "poids_0 = True\n",
    "\n",
    "# paramètres pour le knn\n",
    "k = 5\n",
    "\n",
    "# nombre d'itérations pour la validation croisée\n",
    "nb_iter = 10\n",
    "\n",
    "# liste pour stocker les taux de bonne classification à chaque itération\n",
    "perf_perceptron = []\n",
    "perf_knn = []\n",
    "perf_lineaire_random = []\n",
    "perf_perceptron_biais = []\n",
    "\n",
    "for i in range(nb_iter):\n",
    "    Xapp, Yapp, Xtest, Ytest = crossval(X17, Y17, nb_iter, i)\n",
    "\n",
    "    perceptron = classif.ClassifierPerceptron(dim, eps, poids_0)\n",
    "    perceptron.train(Xapp, Yapp)\n",
    "    perf_perceptron.append(perceptron.accuracy(Xtest, Ytest))\n",
    "\n",
    "    knn = classif.ClassifierKNN(dim, k)\n",
    "    knn.train(Xapp, Yapp)\n",
    "    perf_knn.append(knn.accuracy(Xtest, Ytest))\n",
    "\n",
    "    lineaire_random = classif.ClassifierLineaireRandom(dim)\n",
    "    lineaire_random.train(Xapp, Yapp)\n",
    "    perf_lineaire_random.append(lineaire_random.accuracy(Xtest, Ytest))\n",
    "\n",
    "    perceptron_biais = ClassifierPerceptronBiais(dim, eps, poids_0)\n",
    "    perceptron_biais.train(Xapp, Yapp)\n",
    "    perf_perceptron_biais.append(perceptron_biais.accuracy(Xtest, Ytest))\n",
    "\n",
    "print(\"Perf knn : \",analyse_perfs(perf_knn))\n",
    "print(\"Perf lineaire random : \",analyse_perfs(perf_lineaire_random))\n",
    "print(\"Perf perceptron : \",analyse_perfs(perf_perceptron))\n",
    "print(\"Perf perceptron biais : \",analyse_perfs(perf_perceptron_biais))\n"
   ]
  },
  {
   "cell_type": "markdown",
   "metadata": {},
   "source": [
    "# Plus loin avec le multi-classes\n",
    "\n",
    "<div class=\"alert alert-block alert-info\">\n",
    "\n",
    "Le perceptron est un algorithme fondamentalement bi-classes: il est même lié à la manière dont sont encodées les étiquettes $\\{+1,-1\\}$. La plupart des problèmes réels sont pourtant multi-classes (e.g. USPS).\n",
    "Si cet algorithme a pu rester aussi classique, c'est qu'il existe un moyen d'étendre un classifieur binaire en une extension multi-classes simple et efficace: le *un-contre-tous* (ou *One-Against-All* en anglais):\n",
    "    \n",
    "<i>(si l'image ci-dessous ne s'affiche pas, aller la voir dans le répertoire ressources)</i>\n",
    "\n",
    "<img src=\"ressources/multi2.png\">\n",
    "\n",
    "    \n",
    "Dans l'approche *un-contre-tous* l'idée est d'apprendre autant de classifieurs binaires que de classes. \n",
    "\n",
    "Dans l'exemple ci-dessus, cela donne:\n",
    "\n",
    "1. Traitement de la classe 0\n",
    "1. redéfinition de:\n",
    "$$Y_{tmp} = \\left\\{\n",
    "\\begin{array}{ll}\n",
    "1 & \\text{ si } Y = 0\\\\ -1 & \\text{ si } Y \\neq 0\\\\\n",
    "\\end{array}\n",
    "\\right.\n",
    "$$\n",
    "1. apprentissage de $f_0$ sur $X,Y_{tmp}$\n",
    "1. Traitement de la classe 1\n",
    "1. redéfinition de:\n",
    "$$Y_{tmp} = \\left\\{\n",
    "\\begin{array}{ll}\n",
    "1 & \\text{ si } Y = 1\\\\\n",
    "-1 & \\text{ si } Y \\neq 1\\\\\n",
    "\\end{array}\\right.\n",
    "$$\n",
    "1. apprentissage de $f_1$ sur $X,Y_{tmp}$\n",
    "1. etc...\n",
    "\n",
    "\n",
    "En inférence, lorsqu'un nouveau point $\\mathbf x$ est présenté il faut:\n",
    "1. calculer $score = [f_0(\\mathbf x),  f_1(\\mathbf x), \\ldots f_C(\\mathbf x)]$\n",
    "1. prédire $\\text{argmax}_c (score)$\n",
    "\n",
    "<br>\n",
    "\n",
    "Pour implémenter cela, on ne va pas définir une version multi-classe pour chaque classifieur binaire que l'on a écrit, cela ne serait pas de la programmation efficace...\n",
    "On va définir un nouveau classifieur générique multi-classes qui utilisera un classifieur binaire (en POO, on va se baser sur le *pattern composite*) en respectant le schéma suivant:\n",
    "\n",
    "1. ```ClassifierMultiOAA``` prend un classifieur binaire en argument lors de la création. Il initialise une liste vide de classifieurs.\n",
    "\n",
    "1. Dans la méthode ```train```, penser à cloner le classifeur de référence ```nCl``` fois (autant de classifieurs que de classes dans la base d'apprentissage).\n",
    "Il faut utiliser la méthode ```deepcopy``` du module standard python ```copy```\n",
    "\n",
    "1. Dans un boucle for, redéfinir les étiquettes $ytmp$ et apprendre des classifieurs binaires\n",
    "\n",
    "1. Dans ```score``` faire appel aux méthodes ```score``` des classifieurs binaires et stocker les résultats\n",
    "\n",
    "1. Dans ```predict``` renvoyer l'argmax des scores.<BR>\n",
    "**Note:** en faisant cette opération, on fait l'hypothèse que les étiquettes sont définies sur $[0,nCl]$. Pour lever cette hypothèse, il faudrait stocker les classes et convertir le résultat de argmax.\n",
    "\n",
    "    \n",
    "**Important:**\n",
    "La fonction ```accuracy``` de la classe mère doit être compatible avec les définitions précédentes... Par exemple:\n",
    "```\n",
    "def accuracy(self, desc_set, label_set):\n",
    "        yhat = np.array([self.predict(x) for x in desc_set])\n",
    "        return np.where(label_set == yhat, 1., 0.).mean()\n",
    "```\n",
    "\n",
    " <b>Attention:</b> on fait ici l'hypothèse que l'on ne considère que des classes numérotées de $0$ à $9$, comme celles dans USPS. Ainsi, le premier classifieur reconnaît la classe $0$ contre toutes les autres, le deuxième classifieur reconnaît la classe $1$ contre les autres, etc.\n",
    "Pour une solution plus générale, la fonction `predict` ne devra pas rendre l'indice du maximum (argmax) mais la classe qui correspond à ce maximum.\n",
    "    \n",
    "    \n",
    "</div>    "
   ]
  },
  {
   "cell_type": "code",
   "execution_count": 29,
   "metadata": {},
   "outputs": [],
   "source": [
    "import copy\n",
    "import numpy as np\n",
    "\n",
    "class ClassifierMultiOAA(classif.Classifier):\n",
    "    \"\"\" Classifieur multi-classes utilisant la stratégie un-contre-tous avec des classifieurs binaires. \"\"\"\n",
    "    def __init__(self, cl_bin):\n",
    "        \"\"\" Constructeur\n",
    "        Arguments:\n",
    "            - cl_bin: classifieur binaire à utiliser pour chaque classe.\n",
    "        \"\"\"\n",
    "        self.cl_bin = cl_bin  # Classifieur binaire de base.\n",
    "        self.classifiers = []  # Liste pour stocker un classifieur pour chaque classe.\n",
    "        self.classes = []  # Stocker les classes uniques rencontrées lors de l'entraînement.\n",
    "\n",
    "    def train(self, desc_set, label_set):\n",
    "        \"\"\" Entraînement du modèle sur l'ensemble donné.\n",
    "        Arguments:\n",
    "            - desc_set: descriptions des exemples (features).\n",
    "            - label_set: étiquettes correspondantes.\n",
    "        \"\"\"\n",
    "        self.classes = np.unique(label_set)\n",
    "        self.classifiers = []\n",
    "        for c in self.classes:\n",
    "            # Création d'une nouvelle étiquette pour la stratégie un-contre-tous\n",
    "            y_tmp = np.where(label_set == c, 1, -1)\n",
    "            # Clonage du classifieur binaire et entraînement sur les données redéfinies\n",
    "            clf = copy.deepcopy(self.cl_bin)\n",
    "            clf.train(desc_set, y_tmp)\n",
    "            self.classifiers.append(clf)\n",
    "\n",
    "    def score(self, x):\n",
    "        \"\"\" Calcule les scores de prédiction sur x pour chaque classifieur.\n",
    "        Arguments:\n",
    "            - x: une description.\n",
    "        Retourne:\n",
    "            - Une liste de scores pour chaque classe.\n",
    "        \"\"\"\n",
    "        scores = [clf.score(x) for clf in self.classifiers]\n",
    "        return scores\n",
    "\n",
    "    def predict(self, x):\n",
    "        \"\"\" Renvoie la prédiction sur x.\n",
    "        Arguments:\n",
    "            - x: une description.\n",
    "        Retourne:\n",
    "            - L'étiquette de classe prédite.\n",
    "        \"\"\"\n",
    "        scores = self.score(x)\n",
    "        # Sélection de l'indice du score le plus élevé\n",
    "        index = np.argmax(scores)\n",
    "        # Retourne l'étiquette de classe correspondante\n",
    "        return self.classes[index]"
   ]
  },
  {
   "cell_type": "code",
   "execution_count": 30,
   "metadata": {},
   "outputs": [],
   "source": [
    "# opération assez couteuse sur toutes les données !\n",
    "# A faire dans une boite séparée\n",
    "\n",
    "index = np.random.permutation(len(Yu))\n",
    "Xm = Xu[index]\n",
    "Ym = Yu[index]\n"
   ]
  },
  {
   "cell_type": "code",
   "execution_count": null,
   "metadata": {},
   "outputs": [
    {
     "name": "stdout",
     "output_type": "stream",
     "text": [
      "Attention: l'exécution peut prendre du temps !\n",
      "Iteration  0 : taille base d'apprentissage:  5610  taille base de test:  619\n",
      "Iteration  1 : taille base d'apprentissage:  5610  taille base de test:  619\n",
      "Iteration  2 : taille base d'apprentissage:  5610  taille base de test:  619\n",
      "Iteration  3 : taille base d'apprentissage:  5610  taille base de test:  619\n",
      "Iteration  4 : taille base d'apprentissage:  5610  taille base de test:  619\n",
      "Iteration  5 : taille base d'apprentissage:  5610  taille base de test:  619\n",
      "Iteration  6 : taille base d'apprentissage:  5610  taille base de test:  619\n",
      "Iteration  7 : taille base d'apprentissage:  5610  taille base de test:  619\n"
     ]
    }
   ],
   "source": [
    "niter = 10   # nombre d'itérations\n",
    "perf_T = []  # accuracies sur la base d'apprentissage\n",
    "perf_A = []  # accuracies sur la base de test\n",
    "\n",
    "dim = Xm.shape[1]\n",
    "\n",
    "# Résultats avec un perceptron biais (init w=0 et learning_rate=1e-3):\n",
    "\n",
    "print(\"Attention: l'exécution peut prendre du temps !\")\n",
    "\n",
    "#print(\"\\nPerf A (apprentissage): \",perf_A)\n",
    "#print(\"\\nPerf T (test) : \",perf_T)\n",
    "##################### \n",
    "\n",
    "# Classe ClassifierMultiOAA avec perceptron biais\n",
    "Classmoaa = ClassifierMultiOAA(ClassifierPerceptronBiais(dim, 1e-3, True))\n",
    "\n",
    "for i in range(niter):\n",
    "    Xapp,Yapp,Xtest,Ytest = crossval_strat(Xm, Ym, niter, i)\n",
    "    print(\"Iteration \",i,\": taille base d'apprentissage: \",len(Xapp),\" taille base de test: \",len(Xtest))\n",
    "    Classmoaa.train(Xapp, Yapp)\n",
    "    perf_A.append(Classmoaa.accuracy(Xapp, Yapp))\n",
    "    perf_T.append(Classmoaa.accuracy(Xtest, Ytest))\n",
    "\n",
    "perf_A,perf_T = analyse_perfs(perf_A), analyse_perfs(perf_T)\n",
    "\n",
    "##################### \n",
    "print(\"\\nPerf A (apprentissage): \",perf_A)\n",
    "print(\"\\nPerf T (test) : \",perf_T)"
   ]
  },
  {
   "cell_type": "markdown",
   "metadata": {},
   "source": [
    "## Toujours plus loin...\n",
    "\n",
    "<font color=\"RED\" size=\"+1\">**[Q]**</font> Comparer à nouveau les performances de vos classifieurs sur le jeu de données USPS, par une validation croisée en 10 groupes, mais cette fois-ci en traitant le problème comme un problème multi-classes."
   ]
  },
  {
   "cell_type": "code",
   "execution_count": null,
   "metadata": {},
   "outputs": [],
   "source": []
  }
 ],
 "metadata": {
  "kernelspec": {
   "display_name": "Python 3 (ipykernel)",
   "language": "python",
   "name": "python3"
  },
  "language_info": {
   "codemirror_mode": {
    "name": "ipython",
    "version": 3
   },
   "file_extension": ".py",
   "mimetype": "text/x-python",
   "name": "python",
   "nbconvert_exporter": "python",
   "pygments_lexer": "ipython3",
   "version": "3.11.7"
  }
 },
 "nbformat": 4,
 "nbformat_minor": 4
}
