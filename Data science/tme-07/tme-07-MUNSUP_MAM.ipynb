{
 "cells": [
  {
   "cell_type": "markdown",
   "metadata": {},
   "source": [
    "IA & Data science (LU3IN0226) -- 2023-2024\n",
    "--------\n",
    "*&copy; Equipe pédagogique: Téo Guichoux, Christophe Marsala, Olivier Schwander, Jean-Noël Vittaut.*\n"
   ]
  },
  {
   "cell_type": "markdown",
   "metadata": {},
   "source": [
    "# TD-TME07: les arbres de décision (catégoriel)\n",
    "\n",
    "L'objectif de ce notebook est d'implémenter un algorithme d'apprentissage supervisé qui travaille sur des données catégorielles, l'algorithme de construction d'arbres de décision.\n"
   ]
  },
  {
   "cell_type": "markdown",
   "metadata": {},
   "source": [
    "## Préparation du notebook"
   ]
  },
  {
   "cell_type": "markdown",
   "metadata": {},
   "source": [
    "<font size=\"+1\" color=\"RED\">**[Q]**</font> **Indiquer dans la boîte ci-dessous vos noms et prénoms :**"
   ]
  },
  {
   "cell_type": "markdown",
   "metadata": {},
   "source": [
    "MUNSUP Warintara 28707636\n",
    "MAM Snkar 21300810"
   ]
  },
  {
   "cell_type": "markdown",
   "metadata": {},
   "source": [
    "<font color=\"RED\" size=\"+1\">**[Q]**</font> **Renommer ce fichier ipython**\n",
    "\n",
    "Comme lors des précédents TME, renommer ce fichier en incluant les noms de votre binôme.\n"
   ]
  },
  {
   "cell_type": "markdown",
   "metadata": {},
   "source": [
    "<font color=\"RED\" size=\"+1\">**[Q]**</font> **Mise à jour de la librairie `iads`**\n",
    "\n",
    "En premier lieu, vérifier que votre librairie `iads` est bien à jour et qu'elle inclut bien tout ce que vous avez programmé jusque là."
   ]
  },
  {
   "cell_type": "code",
   "execution_count": 146,
   "metadata": {},
   "outputs": [
    {
     "name": "stdout",
     "output_type": "stream",
     "text": [
      "The autoreload extension is already loaded. To reload it, use:\n",
      "  %reload_ext autoreload\n"
     ]
    }
   ],
   "source": [
    "# Importation de librairies standards:\n",
    "import numpy as np\n",
    "import pandas as pd\n",
    "import matplotlib.pyplot as plt\n",
    "%matplotlib inline  \n",
    "\n",
    "# un nouvel import utile pour la 3D:\n",
    "from matplotlib import cm\n",
    "\n",
    "# Les instructions suivantes sont TRES utiles pour recharger automatiquement \n",
    "# le code modifié dans les librairies externes\n",
    "%load_ext autoreload\n",
    "%autoreload 2\n",
    "\n",
    "# Pour mesurer le temps\n",
    "import time\n",
    "\n",
    "# Importation de votre librairie iads:\n",
    "# La ligne suivante permet de préciser le chemin d'accès à la librairie iads\n",
    "import sys\n",
    "sys.path.append('../')   # iads doit être dans le répertoire père du répertoire courant !\n",
    "\n",
    "# Importation de la librairie iads\n",
    "import iads as iads\n",
    "\n",
    "# importation de Classifiers\n",
    "from iads import Classifiers as classif\n",
    "\n",
    "# importation de utils\n",
    "from iads import utils as ut\n",
    "\n",
    "# importation de evaluation\n",
    "from iads import evaluation as ev\n",
    "    "
   ]
  },
  {
   "cell_type": "code",
   "execution_count": 147,
   "metadata": {},
   "outputs": [
    {
     "name": "stdout",
     "output_type": "stream",
     "text": [
      "Numéro de version de Numpy:  1.24.2\n",
      "Numéro de version de Pandas:  2.2.0\n"
     ]
    }
   ],
   "source": [
    "print(\"Numéro de version de Numpy: \",np.__version__)\n",
    "print(\"Numéro de version de Pandas: \",pd.__version__)"
   ]
  },
  {
   "cell_type": "markdown",
   "metadata": {},
   "source": [
    "Afin de réaliser les premiers essais avec les fonctions que l'on va programmer, on charge la base sur les élections vue dans le cours 7."
   ]
  },
  {
   "cell_type": "code",
   "execution_count": 148,
   "metadata": {},
   "outputs": [
    {
     "data": {
      "text/html": [
       "<div>\n",
       "<style scoped>\n",
       "    .dataframe tbody tr th:only-of-type {\n",
       "        vertical-align: middle;\n",
       "    }\n",
       "\n",
       "    .dataframe tbody tr th {\n",
       "        vertical-align: top;\n",
       "    }\n",
       "\n",
       "    .dataframe thead th {\n",
       "        text-align: right;\n",
       "    }\n",
       "</style>\n",
       "<table border=\"1\" class=\"dataframe\">\n",
       "  <thead>\n",
       "    <tr style=\"text-align: right;\">\n",
       "      <th></th>\n",
       "      <th>Adresse</th>\n",
       "      <th>Majeur?</th>\n",
       "      <th>Nationalite</th>\n",
       "      <th>Label</th>\n",
       "    </tr>\n",
       "  </thead>\n",
       "  <tbody>\n",
       "    <tr>\n",
       "      <th>0</th>\n",
       "      <td>Paris</td>\n",
       "      <td>oui</td>\n",
       "      <td>Francais</td>\n",
       "      <td>1</td>\n",
       "    </tr>\n",
       "    <tr>\n",
       "      <th>1</th>\n",
       "      <td>Paris</td>\n",
       "      <td>non</td>\n",
       "      <td>Francais</td>\n",
       "      <td>-1</td>\n",
       "    </tr>\n",
       "    <tr>\n",
       "      <th>2</th>\n",
       "      <td>Montpellier</td>\n",
       "      <td>oui</td>\n",
       "      <td>Italien</td>\n",
       "      <td>1</td>\n",
       "    </tr>\n",
       "    <tr>\n",
       "      <th>3</th>\n",
       "      <td>Paris</td>\n",
       "      <td>oui</td>\n",
       "      <td>Suisse</td>\n",
       "      <td>-1</td>\n",
       "    </tr>\n",
       "    <tr>\n",
       "      <th>4</th>\n",
       "      <td>Strasbourg</td>\n",
       "      <td>non</td>\n",
       "      <td>Italien</td>\n",
       "      <td>-1</td>\n",
       "    </tr>\n",
       "    <tr>\n",
       "      <th>5</th>\n",
       "      <td>Strasbourg</td>\n",
       "      <td>non</td>\n",
       "      <td>Francais</td>\n",
       "      <td>-1</td>\n",
       "    </tr>\n",
       "    <tr>\n",
       "      <th>6</th>\n",
       "      <td>Strasbourg</td>\n",
       "      <td>oui</td>\n",
       "      <td>Francais</td>\n",
       "      <td>1</td>\n",
       "    </tr>\n",
       "    <tr>\n",
       "      <th>7</th>\n",
       "      <td>Montpellier</td>\n",
       "      <td>oui</td>\n",
       "      <td>Suisse</td>\n",
       "      <td>-1</td>\n",
       "    </tr>\n",
       "  </tbody>\n",
       "</table>\n",
       "</div>"
      ],
      "text/plain": [
       "       Adresse Majeur? Nationalite  Label\n",
       "0        Paris     oui    Francais      1\n",
       "1        Paris     non    Francais     -1\n",
       "2  Montpellier     oui     Italien      1\n",
       "3        Paris     oui      Suisse     -1\n",
       "4   Strasbourg     non     Italien     -1\n",
       "5   Strasbourg     non    Francais     -1\n",
       "6   Strasbourg     oui    Francais      1\n",
       "7  Montpellier     oui      Suisse     -1"
      ]
     },
     "execution_count": 148,
     "metadata": {},
     "output_type": "execute_result"
    }
   ],
   "source": [
    "# Chargement des fichiers de données :\n",
    "\n",
    "elections_df = pd.read_csv(\"data/elections.csv\")\n",
    "elections_df\n"
   ]
  },
  {
   "cell_type": "markdown",
   "metadata": {},
   "source": [
    "Le résultat est un **dataframe**, qui est une structure de données de la librairie Panda qui fournit des fonctionnalités plus souples que les arrays de Numpy. Penser à revoir la documentation de Panda (cf. 1er TME).\n",
    "\n",
    "Pour pouvoir appliquer certaines des fonctions écrites dans les TME précédents, on commence par convertir les données du dataframe en array."
   ]
  },
  {
   "cell_type": "code",
   "execution_count": 149,
   "metadata": {},
   "outputs": [
    {
     "data": {
      "text/plain": [
       "Index(['Adresse', 'Majeur?', 'Nationalite', 'Label'], dtype='object')"
      ]
     },
     "execution_count": 149,
     "metadata": {},
     "output_type": "execute_result"
    }
   ],
   "source": [
    "# Pour avoir le nom des colonnes de ce dataframe :\n",
    "elections_df.columns"
   ]
  },
  {
   "cell_type": "code",
   "execution_count": 150,
   "metadata": {},
   "outputs": [
    {
     "name": "stdout",
     "output_type": "stream",
     "text": [
      "Noms des features:  ['Adresse', 'Majeur?', 'Nationalite']\n"
     ]
    }
   ],
   "source": [
    "# Pour ne garder que le nom des variables de description (et pas la classe):\n",
    "# sous la forme d'une liste:\n",
    "elections_noms = [nom for nom in elections_df.columns if nom != 'Label']\n",
    "\n",
    "# Passer du dataframe à des arrays:\n",
    "elections_desc = np.array(elections_df[elections_noms])\n",
    "elections_label = np.array(elections_df['Label']) \n",
    "\n",
    "print(\"Noms des features: \",elections_noms)\n"
   ]
  },
  {
   "cell_type": "code",
   "execution_count": 151,
   "metadata": {},
   "outputs": [
    {
     "data": {
      "text/plain": [
       "array([ 1, -1, -1])"
      ]
     },
     "execution_count": 151,
     "metadata": {},
     "output_type": "execute_result"
    }
   ],
   "source": [
    "elections_label[elections_desc[:,0] == \"Paris\"]"
   ]
  },
  {
   "cell_type": "markdown",
   "metadata": {},
   "source": [
    "## Premières fonctions: entropie et classe majoritaire"
   ]
  },
  {
   "cell_type": "markdown",
   "metadata": {},
   "source": [
    "<font color=\"RED\" size=\"+1\">**[Q]**</font> Ecrire la fonction <code>classe_majoritaire</code> qui, étant donné un array de labels rend la classe majoritaire (celle qui est possédée par le plus grand nombre d'exemples donc...). En cas d'égalité, cette fonction rend la première classe rencontrée.\n",
    "\n",
    "**Remarque :** on utilise la fonction numpy `unique` qui permet d'obtenir les valeurs différentes d'un array ainsi que leur décompte."
   ]
  },
  {
   "cell_type": "code",
   "execution_count": 152,
   "metadata": {},
   "outputs": [
    {
     "name": "stdout",
     "output_type": "stream",
     "text": [
      "Valeurs différentes dans l'array           :  [-1  1]\n",
      "Décompte de chaque valeur (respectivement) :  [5 3]\n"
     ]
    }
   ],
   "source": [
    "# Exemple d'utilisation de la fonction numpy `unique`\n",
    "\n",
    "valeurs, nb_fois = np.unique(elections_label,return_counts=True)\n",
    "\n",
    "print(\"Valeurs différentes dans l'array           : \",valeurs)\n",
    "print(\"Décompte de chaque valeur (respectivement) : \",nb_fois)"
   ]
  },
  {
   "cell_type": "code",
   "execution_count": 153,
   "metadata": {},
   "outputs": [],
   "source": [
    "def classe_majoritaire(Y):\n",
    "    \"\"\" Y : (array) : array de labels\n",
    "        rend la classe majoritaire ()\n",
    "    \"\"\"\n",
    "    if len(Y) == 0:\n",
    "        return None  # Ou retourner une valeur par défaut si approprié\n",
    "\n",
    "    valeurs, nb_fois = np.unique(Y, return_counts=True)\n",
    "    # np.argmax retourne l'indice du premier maximum trouvé, ce qui simplifie le code\n",
    "    ind_max = np.argmax(nb_fois)\n",
    "    return valeurs[ind_max]"
   ]
  },
  {
   "cell_type": "code",
   "execution_count": 154,
   "metadata": {},
   "outputs": [
    {
     "data": {
      "text/plain": [
       "-1"
      ]
     },
     "execution_count": 154,
     "metadata": {},
     "output_type": "execute_result"
    }
   ],
   "source": [
    "#Vérification sur nos données:\n",
    "classe_majoritaire(elections_label)"
   ]
  },
  {
   "cell_type": "markdown",
   "metadata": {},
   "source": [
    "### Entropie et gain d'information\n",
    "\n",
    "<div class=\"alert alert-block alert-warning\">\n",
    "    \n",
    "On note $\\{c_1, c_2,..., c_k\\}$, l'ensemble des valeurs de classes possibles dans un ensemble $Y$.\n",
    "\n",
    "On note $p_1$ la probabilité de la classe $c_1$ parmi $Y$, etc., et on note $P=(p_1, p_2,..., p_k)$ la distribution de probabilités sur les classes (on a $\\sum_{i=1}^{k} p_i =1$ et $p_i \\in [0,1]$ pour tout $i$).\n",
    "\n",
    "L'**entropie de Shannon** de la distribution $P$ est donnée par:\n",
    "\n",
    "$ H_S(P) = -\\sum_{i=1}^{k} p_i \\log_k(p_i)$\n",
    "\n",
    "Le logarithme utilisé est le logarithme en base $k$ afin d'obtenir une valeur comprise entre $0$ et $1$ de l'entropie. \n",
    "</div>\n"
   ]
  },
  {
   "cell_type": "markdown",
   "metadata": {},
   "source": [
    "Pour ce qui suit, une *distribution de probabilités* est représentée par une **liste** Python $P=[p_1,...,p_k]$ de valeurs réelles telle que\n",
    "* pour tout $i=1,..., k$ : $0 \\leq p_i \\leq 1$\n",
    "* $\\sum_{i=1}^{k}p_i = 1$\n",
    "\n",
    "<font color=\"RED\" size=\"+1\">**[Q]**</font> \n",
    "Ecrire la fonction `shannon` qui, étant donné une distribution de probabilités $P$ rend la valeur de $H_S(P)$, l'entropie de Shannon de la distribution asociée à $P$.\n",
    "\n",
    "La **base du log** à utiliser est donnée par le nombre d'éléments dans $P$.\n",
    "\n",
    "\n",
    "\n",
    "\n"
   ]
  },
  {
   "cell_type": "code",
   "execution_count": 155,
   "metadata": {},
   "outputs": [],
   "source": [
    "import math\n",
    "def shannon(P):\n",
    "    \"\"\" list[Number] -> float\n",
    "        Hypothèse: P est une distribution de probabilités\n",
    "        - P: distribution de probabilités\n",
    "        rend la valeur de l'entropie de Shannon correspondante\n",
    "    \"\"\"\n",
    "    somme = 0 \n",
    "    k = len(P)\n",
    "    if k > 1 : \n",
    "        for i in range(k):\n",
    "            if P[i] != 0 :\n",
    "                somme -= (P[i] * math.log(P[i],k))\n",
    "            \n",
    "        return (somme)\n",
    "    \n",
    "    else : \n",
    "        return 0.0"
   ]
  },
  {
   "cell_type": "code",
   "execution_count": 156,
   "metadata": {},
   "outputs": [
    {
     "name": "stdout",
     "output_type": "stream",
     "text": [
      "H([1]) =  0.0\n",
      "\n",
      "H([1,0]) =  0.0\n",
      "\n",
      "H([0.25, 0.25, 0.25, 0.25]) =  1.0\n",
      "\n",
      "H([0.7, 0.1, 0.2, 0.0]) =  0.5783898247235197\n",
      "\n",
      "H([1.0/3, 2.0/3]) =  0.9182958340544896\n"
     ]
    }
   ],
   "source": [
    "# Exemples d'utilisation:\n",
    "print(\"H([1]) = \", shannon([1]))\n",
    "\n",
    "print(\"\\nH([1,0]) = \", shannon([1, 0]))\n",
    "\n",
    "print(\"\\nH([0.25, 0.25, 0.25, 0.25]) = \", shannon([0.25, 0.25, 0.25, 0.25]))\n",
    "\n",
    "print(\"\\nH([0.7, 0.1, 0.2, 0.0]) = \", shannon([0.7, 0.1, 0.2, 0.0]))\n",
    "\n",
    "print(\"\\nH([1.0/3, 2.0/3]) = \", shannon([1.0/3, 2.0/3]))\n",
    "\n"
   ]
  },
  {
   "cell_type": "markdown",
   "metadata": {},
   "source": [
    "<font color=\"RED\" size=\"+1\">**[Q]**</font> Tracer, à l'aide de la fonction `plot`, la courbe donnant la valeur de `shannon([p, 1-p])` en fonction de `p`."
   ]
  },
  {
   "cell_type": "code",
   "execution_count": 157,
   "metadata": {},
   "outputs": [],
   "source": [
    "a = np.arange(0.0,1.0,0.1)\n"
   ]
  },
  {
   "cell_type": "code",
   "execution_count": 158,
   "metadata": {},
   "outputs": [
    {
     "data": {
      "image/png": "[encoded data removed]",
      "text/plain": [
       "<Figure size 640x480 with 1 Axes>"
      ]
     },
     "metadata": {},
     "output_type": "display_data"
    }
   ],
   "source": [
    "# Tracé de la courbe:\n",
    "\n",
    "x= np.arange(0.0,1.01,0.01)\n",
    "y = []\n",
    "\n",
    "for i in x : \n",
    "    y.append(shannon([i,1-i]))\n",
    "plt.ylabel(\"shanon([p,1-p])\")\n",
    "plt.xlabel(\"p\")\n",
    "plt.plot(x,y)\n",
    "plt.show()"
   ]
  },
  {
   "cell_type": "markdown",
   "metadata": {},
   "source": [
    "<font color=\"RED\" size=\"+1\">**[Q]**</font> A l'aide de la fonction <code>shannon</code>, écrire la fonction <code>entropie</code> qui prend un ensemble de labels en argument et renvoie l'entropie de la distribution des classes dans cet ensemble."
   ]
  },
  {
   "cell_type": "code",
   "execution_count": 159,
   "metadata": {},
   "outputs": [],
   "source": [
    "def entropie(Y):\n",
    "    \"\"\" Y : (array) : ensemble de labels de classe\n",
    "        rend l'entropie de l'ensemble Y\n",
    "    \"\"\"\n",
    "    valeurs, nb_fois = np.unique(Y,return_counts=True)\n",
    "    tt= np.sum(nb_fois)\n",
    "    tab = []\n",
    "    for i in nb_fois : \n",
    "        tab.append(i/tt)\n",
    "\n",
    "    return shannon(tab)"
   ]
  },
  {
   "cell_type": "code",
   "execution_count": 160,
   "metadata": {},
   "outputs": [],
   "source": [
    "def cherche_val(valcherhce,val,nb_fois): \n",
    "\n",
    "    for i in range(0,len(nb_fois)) : \n",
    "        if  valcherhce == val[i] :\n",
    "            return nb_fois[i]\n",
    "        else : \n",
    "            return -1\n",
    "\n",
    "        "
   ]
  },
  {
   "cell_type": "code",
   "execution_count": 161,
   "metadata": {},
   "outputs": [
    {
     "name": "stdout",
     "output_type": "stream",
     "text": [
      "Entropie de  [ 1 -1  1 -1 -1 -1  1 -1] :  0.9544340029249649\n",
      "Entropie de  [ 1 -1  1 -1] :  1.0\n"
     ]
    }
   ],
   "source": [
    "# Exemple sur nos données :\n",
    "print(\"Entropie de \", elections_label,\": \",entropie(elections_label))\n",
    "\n",
    "print(\"Entropie de \", elections_label[0:4],\": \",entropie(elections_label[0:4]))"
   ]
  },
  {
   "cell_type": "markdown",
   "metadata": {},
   "source": [
    "## Arbres de décision\n",
    "\n",
    "Dans cette partie, on réalise l'implémentation de l'algorithme de construction d'un arbre de décision."
   ]
  },
  {
   "cell_type": "markdown",
   "metadata": {},
   "source": [
    "### Représentation d'un arbre en Python"
   ]
  },
  {
   "cell_type": "markdown",
   "metadata": {},
   "source": [
    "<div class=\"alert alert-block alert-warning\">\n",
    "Pour représenter un arbre en Python, on a besoin de définir une structure de données adéquate. \n",
    "\n",
    "Un arbre de décision est défini par des **noeuds** qui sont de 2 types :\n",
    "- *noeud interne* : c'est un noeud qui est associé à un attribut (ie. une feature de description des exemples) et qui possède des fils qui sont aussi des noeuds. \n",
    "- *feuille* : c'est un noeud qui est associé à un label de la classe et qui a la particularité de ne pas avoir de descendants.\n",
    "</div>\n",
    "\n",
    "Pour représenter des noeuds, nous définissons la classe `NoeudCategoriel` suivante:"
   ]
  },
  {
   "cell_type": "code",
   "execution_count": 162,
   "metadata": {},
   "outputs": [],
   "source": [
    "# La librairie suivante est nécessaire pour l'affichage graphique de l'arbre:\n",
    "import graphviz as gv\n",
    "\n",
    "# Eventuellement, il peut être nécessaire d'installer graphviz sur votre compte:\n",
    "\n",
    "\n",
    "class NoeudCategoriel:\n",
    "    \"\"\" Classe pour représenter des noeuds d'un arbre de décision\n",
    "    \"\"\"\n",
    "    def __init__(self, num_att=-1, nom=''):\n",
    "        \"\"\" Constructeur: il prend en argument\n",
    "            - num_att (int) : le numéro de l'attribut auquel il se rapporte: de 0 à ...\n",
    "              si le noeud se rapporte à la classe, le numéro est -1, on n'a pas besoin\n",
    "              de le préciser\n",
    "            - nom (str) : une chaîne de caractères donnant le nom de l'attribut si\n",
    "              il est connu (sinon, on ne met rien et le nom sera donné de façon \n",
    "              générique: \"att_Numéro\")\n",
    "        \"\"\"\n",
    "        self.attribut = num_att    # numéro de l'attribut\n",
    "        if (nom == ''):            # son nom si connu\n",
    "            self.nom_attribut = 'att_'+str(num_att)\n",
    "        else:\n",
    "            self.nom_attribut = nom \n",
    "        self.Les_fils = None       # aucun fils à la création, ils seront ajoutés\n",
    "        self.classe   = None       # valeur de la classe si c'est une feuille\n",
    "        \n",
    "    def est_feuille(self):\n",
    "        \"\"\" rend True si l'arbre est une feuille \n",
    "            c'est une feuille s'il n'a aucun fils\n",
    "        \"\"\"\n",
    "        return self.Les_fils == None\n",
    "    \n",
    "    def ajoute_fils(self, valeur, Fils):\n",
    "        \"\"\" valeur : valeur de l'attribut de ce noeud qui doit être associée à Fils\n",
    "                     le type de cette valeur dépend de la base\n",
    "            Fils (NoeudCategoriel) : un nouveau fils pour ce noeud\n",
    "            Les fils sont stockés sous la forme d'un dictionnaire:\n",
    "            Dictionnaire {valeur_attribut : NoeudCategoriel}\n",
    "        \"\"\"\n",
    "        if self.Les_fils == None:\n",
    "            self.Les_fils = dict()\n",
    "        self.Les_fils[valeur] = Fils\n",
    "        # Rem: attention, on ne fait aucun contrôle, la nouvelle association peut\n",
    "        # écraser une association existante.\n",
    "    \n",
    "    def ajoute_feuille(self,classe):\n",
    "        \"\"\" classe: valeur de la classe\n",
    "            Ce noeud devient un noeud feuille\n",
    "        \"\"\"\n",
    "        self.classe    = classe\n",
    "        self.Les_fils  = None   # normalement, pas obligatoire ici, c'est pour être sûr\n",
    "        \n",
    "    def classifie(self, exemple):\n",
    "        \"\"\" exemple : numpy.array\n",
    "            rend la classe de l'exemple \n",
    "            on rend la valeur None si l'exemple ne peut pas être classé (cf. les questions\n",
    "            posées en fin de ce notebook)\n",
    "        \"\"\"\n",
    "        if self.est_feuille():\n",
    "            return self.classe\n",
    "        if exemple[self.attribut] in self.Les_fils:\n",
    "            # descente récursive dans le noeud associé à la valeur de l'attribut\n",
    "            # pour cet exemple:\n",
    "            return self.Les_fils[exemple[self.attribut]].classifie(exemple)\n",
    "        else:\n",
    "            # Cas particulier : on ne trouve pas la valeur de l'exemple dans la liste des\n",
    "            # fils du noeud... Voir la fin de ce notebook pour essayer de résoudre ce mystère...\n",
    "            print('\\t*** Warning: attribut ',self.nom_attribut,' -> Valeur inconnue: ',exemple[self.attribut])\n",
    "            return None\n",
    "    \n",
    "    def compte_feuilles(self):\n",
    "        \"\"\" rend le nombre de feuilles sous ce noeud\n",
    "        \"\"\"\n",
    "        cpt = 0\n",
    "        if self.est_feuille():\n",
    "            return 1\n",
    "        else :\n",
    "            for v in self.Les_fils.values() : \n",
    "                cpt += v.compte_feuilles()\n",
    "            return cpt\n",
    "\n",
    "     \n",
    "    def to_graph(self, g, prefixe='A'):\n",
    "        \"\"\" construit une représentation de l'arbre pour pouvoir l'afficher graphiquement\n",
    "            Cette fonction ne nous intéressera pas plus que ça, elle ne sera donc pas expliquée            \n",
    "        \"\"\"\n",
    "        if self.est_feuille():\n",
    "            g.node(prefixe,str(self.classe),shape='box')\n",
    "        else:\n",
    "            g.node(prefixe, self.nom_attribut)\n",
    "            i =0\n",
    "            for (valeur, sous_arbre) in self.Les_fils.items():\n",
    "                sous_arbre.to_graph(g,prefixe+str(i))\n",
    "                g.edge(prefixe,prefixe+str(i), valeur)\n",
    "                i = i+1        \n",
    "        return g\n"
   ]
  },
  {
   "cell_type": "code",
   "execution_count": 163,
   "metadata": {},
   "outputs": [
    {
     "name": "stdout",
     "output_type": "stream",
     "text": [
      "Requirement already satisfied: graphviz in /users/Etu6/28707636/.local/lib/python3.11/site-packages (0.20.3)\n",
      "Note: you may need to restart the kernel to use updated packages.\n"
     ]
    }
   ],
   "source": [
    "pip install --user -U graphviz"
   ]
  },
  {
   "cell_type": "code",
   "execution_count": 164,
   "metadata": {},
   "outputs": [
    {
     "data": {
      "image/svg+xml": [
       "<?xml version=\"1.0\" encoding=\"UTF-8\" standalone=\"no\"?>\n",
       "<!DOCTYPE svg PUBLIC \"-//W3C//DTD SVG 1.1//EN\"\n",
       " \"http://www.w3.org/Graphics/SVG/1.1/DTD/svg11.dtd\">\n",
       "<!-- Generated by graphviz version 2.43.0 (0)\n",
       " -->\n",
       "<!-- Title: %3 Pages: 1 -->\n",
       "<svg width=\"179pt\" height=\"218pt\"\n",
       " viewBox=\"0.00 0.00 179.00 218.00\" xmlns=\"http://www.w3.org/2000/svg\" xmlns:xlink=\"http://www.w3.org/1999/xlink\">\n",
       "<g id=\"graph0\" class=\"graph\" transform=\"scale(1 1) rotate(0) translate(4 214)\">\n",
       "<title>%3</title>\n",
       "<polygon fill=\"white\" stroke=\"transparent\" points=\"-4,4 -4,-214 175,-214 175,4 -4,4\"/>\n",
       "<!-- A -->\n",
       "<g id=\"node1\" class=\"node\">\n",
       "<title>A</title>\n",
       "<ellipse fill=\"none\" stroke=\"black\" cx=\"116\" cy=\"-192\" rx=\"36.29\" ry=\"18\"/>\n",
       "<text text-anchor=\"middle\" x=\"116\" y=\"-188.3\" font-family=\"Times,serif\" font-size=\"14.00\">nom3</text>\n",
       "</g>\n",
       "<!-- A0 -->\n",
       "<g id=\"node2\" class=\"node\">\n",
       "<title>A0</title>\n",
       "<ellipse fill=\"none\" stroke=\"black\" cx=\"63\" cy=\"-105\" rx=\"36.29\" ry=\"18\"/>\n",
       "<text text-anchor=\"middle\" x=\"63\" y=\"-101.3\" font-family=\"Times,serif\" font-size=\"14.00\">nom2</text>\n",
       "</g>\n",
       "<!-- A&#45;&gt;A0 -->\n",
       "<g id=\"edge3\" class=\"edge\">\n",
       "<title>A&#45;&gt;A0</title>\n",
       "<path fill=\"none\" stroke=\"black\" d=\"M105.1,-174.71C101.22,-168.84 96.87,-162.16 93,-156 88.05,-148.11 82.78,-139.44 78.06,-131.56\"/>\n",
       "<polygon fill=\"black\" stroke=\"black\" points=\"80.95,-129.57 72.83,-122.77 74.94,-133.15 80.95,-129.57\"/>\n",
       "<text text-anchor=\"middle\" x=\"108.5\" y=\"-144.8\" font-family=\"Times,serif\" font-size=\"14.00\">val3</text>\n",
       "</g>\n",
       "<!-- A1 -->\n",
       "<g id=\"node5\" class=\"node\">\n",
       "<title>A1</title>\n",
       "<polygon fill=\"none\" stroke=\"black\" points=\"171,-123 117,-123 117,-87 171,-87 171,-123\"/>\n",
       "<text text-anchor=\"middle\" x=\"144\" y=\"-101.3\" font-family=\"Times,serif\" font-size=\"14.00\">1</text>\n",
       "</g>\n",
       "<!-- A&#45;&gt;A1 -->\n",
       "<g id=\"edge4\" class=\"edge\">\n",
       "<title>A&#45;&gt;A1</title>\n",
       "<path fill=\"none\" stroke=\"black\" d=\"M121.53,-174.21C125.42,-162.41 130.7,-146.38 135.16,-132.82\"/>\n",
       "<polygon fill=\"black\" stroke=\"black\" points=\"138.58,-133.64 138.38,-123.05 131.93,-131.45 138.58,-133.64\"/>\n",
       "<text text-anchor=\"middle\" x=\"146.5\" y=\"-144.8\" font-family=\"Times,serif\" font-size=\"14.00\">val4</text>\n",
       "</g>\n",
       "<!-- A00 -->\n",
       "<g id=\"node3\" class=\"node\">\n",
       "<title>A00</title>\n",
       "<polygon fill=\"none\" stroke=\"black\" points=\"54,-36 0,-36 0,0 54,0 54,-36\"/>\n",
       "<text text-anchor=\"middle\" x=\"27\" y=\"-14.3\" font-family=\"Times,serif\" font-size=\"14.00\">&#45;1</text>\n",
       "</g>\n",
       "<!-- A0&#45;&gt;A00 -->\n",
       "<g id=\"edge1\" class=\"edge\">\n",
       "<title>A0&#45;&gt;A00</title>\n",
       "<path fill=\"none\" stroke=\"black\" d=\"M54.57,-87.41C51.73,-81.63 48.62,-75.08 46,-69 42.77,-61.53 39.53,-53.32 36.66,-45.75\"/>\n",
       "<polygon fill=\"black\" stroke=\"black\" points=\"39.9,-44.43 33.13,-36.28 33.34,-46.87 39.9,-44.43\"/>\n",
       "<text text-anchor=\"middle\" x=\"61.5\" y=\"-57.8\" font-family=\"Times,serif\" font-size=\"14.00\">val1</text>\n",
       "</g>\n",
       "<!-- A01 -->\n",
       "<g id=\"node4\" class=\"node\">\n",
       "<title>A01</title>\n",
       "<polygon fill=\"none\" stroke=\"black\" points=\"126,-36 72,-36 72,0 126,0 126,-36\"/>\n",
       "<text text-anchor=\"middle\" x=\"99\" y=\"-14.3\" font-family=\"Times,serif\" font-size=\"14.00\">1</text>\n",
       "</g>\n",
       "<!-- A0&#45;&gt;A01 -->\n",
       "<g id=\"edge2\" class=\"edge\">\n",
       "<title>A0&#45;&gt;A01</title>\n",
       "<path fill=\"none\" stroke=\"black\" d=\"M70.11,-87.21C75.16,-75.29 82.03,-59.06 87.81,-45.42\"/>\n",
       "<polygon fill=\"black\" stroke=\"black\" points=\"91.1,-46.62 91.78,-36.05 84.66,-43.89 91.1,-46.62\"/>\n",
       "<text text-anchor=\"middle\" x=\"99.5\" y=\"-57.8\" font-family=\"Times,serif\" font-size=\"14.00\">val2</text>\n",
       "</g>\n",
       "</g>\n",
       "</svg>\n"
      ],
      "text/plain": [
       "<graphviz.graphs.Digraph at 0x7f4ea5994a10>"
      ]
     },
     "execution_count": 164,
     "metadata": {},
     "output_type": "execute_result"
    }
   ],
   "source": [
    "# Exemple d'utilisation: \n",
    "un_noeud0= NoeudCategoriel() \n",
    "un_noeud0.ajoute_feuille(-1)\n",
    "\n",
    "un_noeud1= NoeudCategoriel()\n",
    "un_noeud1.ajoute_feuille(+1)\n",
    "\n",
    "un_noeud2= NoeudCategoriel(42,\"nom2\")\n",
    "un_noeud2.ajoute_fils(\"val1\",un_noeud0)\n",
    "un_noeud2.ajoute_fils(\"val2\",un_noeud1)\n",
    "\n",
    "un_noeud3 = NoeudCategoriel(11,\"nom3\")\n",
    "un_noeud3.ajoute_fils(\"val3\",un_noeud2)\n",
    "\n",
    "un_noeud4= NoeudCategoriel() \n",
    "un_noeud4.ajoute_feuille(1)\n",
    "un_noeud3.ajoute_fils(\"val4\",un_noeud4)\n",
    "\n",
    "# L'affichage se fait en 2 temps\n",
    "# 1) on initialise un graphe orienté :\n",
    "gtree = gv.Digraph(format='png')\n",
    "# 2) on le rempli en appelant la méthode de la classe NoeudCategoriel\n",
    "un_noeud3.to_graph(gtree)"
   ]
  },
  {
   "cell_type": "markdown",
   "metadata": {},
   "source": [
    "### Construction de l'arbre de décision"
   ]
  },
  {
   "cell_type": "markdown",
   "metadata": {},
   "source": [
    "<div class=\"alert alert-block alert-warning\">\n",
    "Comme on l'a vu dans le cours, pour construire un arbre de décision à partir d'un dataset ($X$, $Y$), il faut réaliser les étapes suivantes:\n",
    "    \n",
    "1. calculer l'entropie de Shannon de l'ensemble des classes $Y$, on la note $H_S(Y)$.\n",
    "    \n",
    "2. si $H_S(Y)$ est inférieure à epsilon (qui est un réel positif donné en paramètre de l'algorithme), alors construire une feuille avec cet ensemble, la classe associée à cette feuille est la classe majoritaire dans $Y$.\n",
    "    \n",
    "3. sinon, pour chaque attribut $X_j$ qui décrit les exemples de $X$,\n",
    "    \n",
    "    3.1. pour chacune des valeurs $v_{jl}$ de $X_j$ construire l'ensemble des exemples de $X$ qui possède la valeur $v_{jl}$ ainsi que l'ensemble de leurs labels.\n",
    "    \n",
    "    3.2. calculer l'entropie conditionnelle de Shannon de la classe relativement à l'attribut $X_j$. On note $H_S(Y|X_j)$ cette entropie    \n",
    "    \n",
    "4. l'attribut $X_{best}$ qui **maximise le gain d'information** est choisi pour constituer un nouveau noeud $\\eta$ de l'arbre de décision:\n",
    "    \n",
    "    4.1. chaque valeur de $X_{best}$ est utilisée pour décomposer ($X$, $Y$) en autant de datasets que $X_{best}$ possède de valeurs: chaque dataset est séparant $X$ et $Y$ selon la valeur prise pour $X_{best}$. \n",
    "    \n",
    "    4.2. pour chaque dataset obtenu on reprend en 1 pour construire chacun des fils de $\\eta$. \n",
    "\n",
    "\n",
    "On rappelle que le gain d'information est:\n",
    "\n",
    "$$I_S(X_j,Y) = H_S(Y) - H_S(Y|X_j)$$\n",
    "\n",
    "**Remarque**: si le gain d'information est nul pour tous les attributs, alors on arrête la décomposition et on construit une feuille avec cet ensemble en donnant la classe majoritaire comme étiquette à cette feuille.\n",
    "</div>"
   ]
  },
  {
   "cell_type": "markdown",
   "metadata": {},
   "source": [
    "<font color=\"RED\" size=\"+1\">**[Q]**</font> Compléter la fonction `construit_AD`suivante afin qu'elle permette de construire un arbre de décision. Cette fonction rend un `NoeudCategoriel` qui correspond à l'arbre construit pour le dataset $(X,Y)$ donné."
   ]
  },
  {
   "cell_type": "code",
   "execution_count": 165,
   "metadata": {},
   "outputs": [],
   "source": [
    "\n",
    "def construit_AD(X,Y,epsilon,LNoms = []):\n",
    "    \"\"\" X,Y : dataset\n",
    "        epsilon : seuil d'entropie pour le critère d'arrêt \n",
    "        LNoms : liste des noms de features (colonnes) de description \n",
    "    \"\"\"\n",
    "    \n",
    "    entropie_ens = entropie(Y)\n",
    "    if (entropie_ens <= epsilon):\n",
    "        # ARRET : on crée une feuille\n",
    "        noeud = NoeudCategoriel(-1,\"Label\")\n",
    "        noeud.ajoute_feuille(classe_majoritaire(Y))\n",
    "    else:\n",
    "        min_entropie = 1.1\n",
    "        i_best = -1\n",
    "        Xbest_valeurs = None\n",
    "        \n",
    "        #############\n",
    "        somme = 0\n",
    "        \n",
    "        for i in range(0,X.shape[1]):\n",
    "            # recupérer valeurs \n",
    "            ent = 0\n",
    "            valeurs, nb_fois = np.unique(X[:,i],return_counts=True)\n",
    "            for v in valeurs : \n",
    "                \n",
    "                tt= np.sum(nb_fois)\n",
    "                prob = nb_fois[valeurs==v]/tt\n",
    "\n",
    "                ent += prob * entropie(Y[X[:,i]==v])\n",
    "\n",
    "            if min_entropie > ent :\n",
    "                i_best = i \n",
    "                min_entropie = ent\n",
    "                Xbest_valeurs = valeurs\n",
    "        print(LNoms[i_best])\n",
    "\n",
    "\n",
    "        \n",
    "        #############################################\n",
    "\n",
    "        if (entropie_ens - min_entropie) == 0: # pas de gain d'information possible\n",
    "            # ARRET : on crée une feuille\n",
    "            noeud = NoeudCategoriel(-1,\"Label\")\n",
    "            noeud.ajoute_feuille(classe_majoritaire(Y))\n",
    "            \n",
    "        if len(LNoms)>0:  # si on a des noms de features\n",
    "            noeud = NoeudCategoriel(i_best,LNoms[i_best])    \n",
    "        else:\n",
    "            noeud = NoeudCategoriel(i_best)\n",
    "        for v in Xbest_valeurs:\n",
    "            noeud.ajoute_fils(v,construit_AD(X[X[:,i_best]==v], Y[X[:,i_best]==v],epsilon,LNoms))\n",
    "    return noeud"
   ]
  },
  {
   "cell_type": "markdown",
   "metadata": {},
   "source": [
    "La classe pour implémenter un arbre de décision dérive de la classe `Classifier`. Elle utilise la fonction `construit_AD` dans sa méthode `train` pour construire un arbre à partir d'un dataset donné.\n",
    "\n",
    "<font color=\"RED\" size=\"+1\">**[Q]**</font> Compléter la classe suivante en donnant le code des méthodes `train` et `predict`.\n",
    "\n",
    "**Remarque :** la méthode `score` ne fera rien dans notre cas, on verra dans un autre notebook comment on pourrait la définir."
   ]
  },
  {
   "cell_type": "code",
   "execution_count": 166,
   "metadata": {},
   "outputs": [],
   "source": [
    "\n",
    "class ClassifierArbreDecision(classif.Classifier):\n",
    "    \"\"\" Classe pour représenter un classifieur par arbre de décision\n",
    "    \"\"\"\n",
    "    \n",
    "    def __init__(self, input_dimension, epsilon, LNoms=[]):\n",
    "        \"\"\" Constructeur\n",
    "            Argument:\n",
    "                - intput_dimension (int) : dimension de la description des exemples\n",
    "                - epsilon (float) : paramètre de l'algorithme (cf. explications précédentes)\n",
    "                - LNoms : Liste des noms de dimensions (si connues)\n",
    "            Hypothèse : input_dimension > 0\n",
    "        \"\"\"\n",
    "        self.dimension = input_dimension\n",
    "        self.epsilon = epsilon\n",
    "        self.LNoms = LNoms\n",
    "        # l'arbre est manipulé par sa racine qui sera un Noeud\n",
    "        self.racine = None\n",
    "        \n",
    "    def toString(self):\n",
    "        \"\"\"  -> str\n",
    "            rend le nom du classifieur avec ses paramètres\n",
    "        \"\"\"\n",
    "        return 'ClassifierArbreDecision ['+str(self.dimension) + '] eps='+str(self.epsilon)\n",
    "        \n",
    "    def train(self, desc_set, label_set):\n",
    "        \"\"\" Permet d'entrainer le modele sur l'ensemble donné\n",
    "            desc_set: ndarray avec des descriptions\n",
    "            label_set: ndarray avec les labels correspondants\n",
    "            Hypothèse: desc_set et label_set ont le même nombre de lignes\n",
    "        \"\"\"        \n",
    "        self.racine  =construit_AD(desc_set,label_set,self.epsilon,self.LNoms)\n",
    "    def score(self,x):\n",
    "        \"\"\" rend le score de prédiction sur x (valeur réelle)\n",
    "            x: une description\n",
    "        \"\"\"\n",
    "        # cette méthode ne fait rien dans notre implémentation :\n",
    "        pass\n",
    "    \n",
    "    def predict(self, x):\n",
    "        \"\"\" x (array): une description d'exemple\n",
    "            rend la prediction sur x             \n",
    "        \"\"\"\n",
    "        return self.racine.classifie(x)\n",
    "    \n",
    "    def number_leaves(self):\n",
    "        \"\"\" rend le nombre de feuilles de l'arbre\n",
    "        \"\"\"\n",
    "        return self.racine.compte_feuilles()\n",
    "    \n",
    "    def draw(self,GTree):\n",
    "        \"\"\" affichage de l'arbre sous forme graphique\n",
    "            Cette fonction modifie GTree par effet de bord\n",
    "        \"\"\"\n",
    "        self.racine.to_graph(GTree)"
   ]
  },
  {
   "cell_type": "markdown",
   "metadata": {},
   "source": [
    "### Premières expérimentations"
   ]
  },
  {
   "cell_type": "markdown",
   "metadata": {},
   "source": [
    "Apprentissage d'un arbre de décision avec la base sur les élections :"
   ]
  },
  {
   "cell_type": "code",
   "execution_count": 167,
   "metadata": {},
   "outputs": [
    {
     "name": "stdout",
     "output_type": "stream",
     "text": [
      "['Adresse', 'Majeur?', 'Nationalite']\n",
      "Majeur?\n",
      "Nationalite\n"
     ]
    },
    {
     "data": {
      "image/svg+xml": [
       "<?xml version=\"1.0\" encoding=\"UTF-8\" standalone=\"no\"?>\n",
       "<!DOCTYPE svg PUBLIC \"-//W3C//DTD SVG 1.1//EN\"\n",
       " \"http://www.w3.org/Graphics/SVG/1.1/DTD/svg11.dtd\">\n",
       "<!-- Generated by graphviz version 2.43.0 (0)\n",
       " -->\n",
       "<!-- Title: %3 Pages: 1 -->\n",
       "<svg width=\"247pt\" height=\"218pt\"\n",
       " viewBox=\"0.00 0.00 247.00 218.00\" xmlns=\"http://www.w3.org/2000/svg\" xmlns:xlink=\"http://www.w3.org/1999/xlink\">\n",
       "<g id=\"graph0\" class=\"graph\" transform=\"scale(1 1) rotate(0) translate(4 214)\">\n",
       "<title>%3</title>\n",
       "<polygon fill=\"white\" stroke=\"transparent\" points=\"-4,4 -4,-214 243,-214 243,4 -4,4\"/>\n",
       "<!-- A -->\n",
       "<g id=\"node1\" class=\"node\">\n",
       "<title>A</title>\n",
       "<ellipse fill=\"none\" stroke=\"black\" cx=\"52\" cy=\"-192\" rx=\"48.99\" ry=\"18\"/>\n",
       "<text text-anchor=\"middle\" x=\"52\" y=\"-188.3\" font-family=\"Times,serif\" font-size=\"14.00\">Majeur?</text>\n",
       "</g>\n",
       "<!-- A0 -->\n",
       "<g id=\"node2\" class=\"node\">\n",
       "<title>A0</title>\n",
       "<polygon fill=\"none\" stroke=\"black\" points=\"54,-123 0,-123 0,-87 54,-87 54,-123\"/>\n",
       "<text text-anchor=\"middle\" x=\"27\" y=\"-101.3\" font-family=\"Times,serif\" font-size=\"14.00\">&#45;1</text>\n",
       "</g>\n",
       "<!-- A&#45;&gt;A0 -->\n",
       "<g id=\"edge1\" class=\"edge\">\n",
       "<title>A&#45;&gt;A0</title>\n",
       "<path fill=\"none\" stroke=\"black\" d=\"M46.94,-173.8C43.48,-162.05 38.83,-146.24 34.89,-132.84\"/>\n",
       "<polygon fill=\"black\" stroke=\"black\" points=\"38.23,-131.78 32.05,-123.18 31.52,-133.76 38.23,-131.78\"/>\n",
       "<text text-anchor=\"middle\" x=\"53.5\" y=\"-144.8\" font-family=\"Times,serif\" font-size=\"14.00\">non</text>\n",
       "</g>\n",
       "<!-- A1 -->\n",
       "<g id=\"node3\" class=\"node\">\n",
       "<title>A1</title>\n",
       "<ellipse fill=\"none\" stroke=\"black\" cx=\"134\" cy=\"-105\" rx=\"62.29\" ry=\"18\"/>\n",
       "<text text-anchor=\"middle\" x=\"134\" y=\"-101.3\" font-family=\"Times,serif\" font-size=\"14.00\">Nationalite</text>\n",
       "</g>\n",
       "<!-- A&#45;&gt;A1 -->\n",
       "<g id=\"edge5\" class=\"edge\">\n",
       "<title>A&#45;&gt;A1</title>\n",
       "<path fill=\"none\" stroke=\"black\" d=\"M67.81,-174.61C79.98,-161.99 96.99,-144.36 110.72,-130.13\"/>\n",
       "<polygon fill=\"black\" stroke=\"black\" points=\"113.53,-132.26 117.96,-122.63 108.5,-127.4 113.53,-132.26\"/>\n",
       "<text text-anchor=\"middle\" x=\"108\" y=\"-144.8\" font-family=\"Times,serif\" font-size=\"14.00\">oui</text>\n",
       "</g>\n",
       "<!-- A10 -->\n",
       "<g id=\"node4\" class=\"node\">\n",
       "<title>A10</title>\n",
       "<polygon fill=\"none\" stroke=\"black\" points=\"76,-36 22,-36 22,0 76,0 76,-36\"/>\n",
       "<text text-anchor=\"middle\" x=\"49\" y=\"-14.3\" font-family=\"Times,serif\" font-size=\"14.00\">1</text>\n",
       "</g>\n",
       "<!-- A1&#45;&gt;A10 -->\n",
       "<g id=\"edge2\" class=\"edge\">\n",
       "<title>A1&#45;&gt;A10</title>\n",
       "<path fill=\"none\" stroke=\"black\" d=\"M97.17,-90.33C86.64,-84.98 75.9,-77.95 68,-69 62.3,-62.54 58.23,-54.19 55.37,-46.17\"/>\n",
       "<polygon fill=\"black\" stroke=\"black\" points=\"58.63,-44.89 52.35,-36.36 51.94,-46.95 58.63,-44.89\"/>\n",
       "<text text-anchor=\"middle\" x=\"99\" y=\"-57.8\" font-family=\"Times,serif\" font-size=\"14.00\">Francais</text>\n",
       "</g>\n",
       "<!-- A11 -->\n",
       "<g id=\"node5\" class=\"node\">\n",
       "<title>A11</title>\n",
       "<polygon fill=\"none\" stroke=\"black\" points=\"161,-36 107,-36 107,0 161,0 161,-36\"/>\n",
       "<text text-anchor=\"middle\" x=\"134\" y=\"-14.3\" font-family=\"Times,serif\" font-size=\"14.00\">1</text>\n",
       "</g>\n",
       "<!-- A1&#45;&gt;A11 -->\n",
       "<g id=\"edge3\" class=\"edge\">\n",
       "<title>A1&#45;&gt;A11</title>\n",
       "<path fill=\"none\" stroke=\"black\" d=\"M134,-86.8C134,-75.16 134,-59.55 134,-46.24\"/>\n",
       "<polygon fill=\"black\" stroke=\"black\" points=\"137.5,-46.18 134,-36.18 130.5,-46.18 137.5,-46.18\"/>\n",
       "<text text-anchor=\"middle\" x=\"157\" y=\"-57.8\" font-family=\"Times,serif\" font-size=\"14.00\">Italien</text>\n",
       "</g>\n",
       "<!-- A12 -->\n",
       "<g id=\"node6\" class=\"node\">\n",
       "<title>A12</title>\n",
       "<polygon fill=\"none\" stroke=\"black\" points=\"233,-36 179,-36 179,0 233,0 233,-36\"/>\n",
       "<text text-anchor=\"middle\" x=\"206\" y=\"-14.3\" font-family=\"Times,serif\" font-size=\"14.00\">&#45;1</text>\n",
       "</g>\n",
       "<!-- A1&#45;&gt;A12 -->\n",
       "<g id=\"edge4\" class=\"edge\">\n",
       "<title>A1&#45;&gt;A12</title>\n",
       "<path fill=\"none\" stroke=\"black\" d=\"M161.39,-88.77C169.44,-83.32 177.75,-76.62 184,-69 189.65,-62.12 194.11,-53.57 197.5,-45.49\"/>\n",
       "<polygon fill=\"black\" stroke=\"black\" points=\"200.82,-46.61 201.11,-36.02 194.28,-44.12 200.82,-46.61\"/>\n",
       "<text text-anchor=\"middle\" x=\"215.5\" y=\"-57.8\" font-family=\"Times,serif\" font-size=\"14.00\">Suisse</text>\n",
       "</g>\n",
       "</g>\n",
       "</svg>\n"
      ],
      "text/plain": [
       "<graphviz.graphs.Digraph at 0x7f4ea54afbd0>"
      ]
     },
     "execution_count": 167,
     "metadata": {},
     "output_type": "execute_result"
    }
   ],
   "source": [
    "# Initialiation d'un arbre pour le dataset Elections:\n",
    "print(elections_noms)\n",
    "arbre_elections = ClassifierArbreDecision(len(elections_noms), 0.0, elections_noms)\n",
    "\n",
    "# Construction de l'arbre de décision à partir du dataset Elections\n",
    "arbre_elections.train(elections_desc,elections_label)\n",
    "\n",
    "# Construction de la représentation graphique (affichage)\n",
    "graphe_arbre_elections = gv.Digraph(format='png')\n",
    "arbre_elections.draw(graphe_arbre_elections)\n",
    "\n",
    "# Affichage du graphe obtenu:\n",
    "graphe_arbre_elections"
   ]
  },
  {
   "cell_type": "markdown",
   "metadata": {},
   "source": [
    "Pour classer un nouvel exemple avec un arbre de décision, on utilise la méthode <code>predict</code> qui utilise la méthode `classifie` de la classe `NoeudCategoriel` pour classer un nouvel exemple et renvoyer le label +1 ou -1 selon le cas. \n",
    "\n",
    "Exemple de classification d'un exemple avec l'arbre obtenu :"
   ]
  },
  {
   "cell_type": "code",
   "execution_count": 168,
   "metadata": {},
   "outputs": [
    {
     "data": {
      "text/plain": [
       "1"
      ]
     },
     "execution_count": 168,
     "metadata": {},
     "output_type": "execute_result"
    }
   ],
   "source": [
    "arbre_elections.predict(elections_desc[0,:])"
   ]
  },
  {
   "cell_type": "markdown",
   "metadata": {},
   "source": [
    "Classification d'un nouvel exemple qui n'appartient à pas au dataset d'apprentissage :"
   ]
  },
  {
   "cell_type": "code",
   "execution_count": 169,
   "metadata": {},
   "outputs": [
    {
     "data": {
      "text/plain": [
       "1"
      ]
     },
     "execution_count": 169,
     "metadata": {},
     "output_type": "execute_result"
    }
   ],
   "source": [
    "# Rappel : elections_noms = ['Adresse', 'Majeur?', 'Nationalite']\n",
    "arbre_elections.predict(np.array(['Paris','oui','Italien']))"
   ]
  },
  {
   "cell_type": "markdown",
   "metadata": {},
   "source": [
    "Mesure de l'accuracy de l'arbre obtenu :"
   ]
  },
  {
   "cell_type": "code",
   "execution_count": 170,
   "metadata": {},
   "outputs": [
    {
     "data": {
      "text/plain": [
       "1.0"
      ]
     },
     "execution_count": 170,
     "metadata": {},
     "output_type": "execute_result"
    }
   ],
   "source": [
    "arbre_elections.accuracy(elections_desc,elections_label)"
   ]
  },
  {
   "cell_type": "markdown",
   "metadata": {},
   "source": [
    "## Première expérimentation avec la base Mushrooms"
   ]
  },
  {
   "cell_type": "markdown",
   "metadata": {},
   "source": [
    "Pour mieux évaluer notre nouvel algortithme d'apprentissage, on va utiliser la base des champignons `mushrooms-1000.csv` qui est fournie dans le répertoire `data`. Ce dataset est une version réduite du dataset original qui comporte plus de 8000 champignons.\n",
    "\n",
    "\n",
    "\n",
    "Dans le répertorie `data/` fourni avec ce sujet, vous pouvez trouver 6 fichiers `mushrooms-****.csv`. Ces 6 fichiers ont été obtenus en partitionant le fichier orignal `mushrooms.csv` que l'on peut trouver sur internet. Dans cette base originale, il y a **8124 champignons** recensés. Ce fichier original a été découpé en 5 fichiers de 1400 champignons et 1 fichier de 1124 champignons. L'union de ces 6 fichiers permet donc de recomposer le fichier original.\n"
   ]
  },
  {
   "cell_type": "markdown",
   "metadata": {},
   "source": [
    "### Construction d'un arbre de décision\n",
    "\n",
    "Dans un premier temps, on vérifie que notre algorithme d'apprentissage fonctionne correctement en construisant un arbre de décision à partir d'un des fichiers.\n",
    "\n",
    "On commence par charger le fichier dans un dataframe et on le transforme en dataset (cf. le notebook précédent pour le détail des étapes):"
   ]
  },
  {
   "cell_type": "code",
   "execution_count": 171,
   "metadata": {},
   "outputs": [
    {
     "data": {
      "text/html": [
       "<div>\n",
       "<style scoped>\n",
       "    .dataframe tbody tr th:only-of-type {\n",
       "        vertical-align: middle;\n",
       "    }\n",
       "\n",
       "    .dataframe tbody tr th {\n",
       "        vertical-align: top;\n",
       "    }\n",
       "\n",
       "    .dataframe thead th {\n",
       "        text-align: right;\n",
       "    }\n",
       "</style>\n",
       "<table border=\"1\" class=\"dataframe\">\n",
       "  <thead>\n",
       "    <tr style=\"text-align: right;\">\n",
       "      <th></th>\n",
       "      <th>class</th>\n",
       "      <th>cap-shape</th>\n",
       "      <th>cap-surface</th>\n",
       "      <th>cap-color</th>\n",
       "      <th>bruises</th>\n",
       "      <th>odor</th>\n",
       "      <th>gill-attachment</th>\n",
       "      <th>gill-spacing</th>\n",
       "      <th>gill-size</th>\n",
       "      <th>gill-color</th>\n",
       "      <th>...</th>\n",
       "      <th>stalk-surface-below-ring</th>\n",
       "      <th>stalk-color-above-ring</th>\n",
       "      <th>stalk-color-below-ring</th>\n",
       "      <th>veil-type</th>\n",
       "      <th>veil-color</th>\n",
       "      <th>ring-number</th>\n",
       "      <th>ring-type</th>\n",
       "      <th>spore-print-color</th>\n",
       "      <th>population</th>\n",
       "      <th>habitat</th>\n",
       "    </tr>\n",
       "  </thead>\n",
       "  <tbody>\n",
       "    <tr>\n",
       "      <th>0</th>\n",
       "      <td>p</td>\n",
       "      <td>x</td>\n",
       "      <td>y</td>\n",
       "      <td>n</td>\n",
       "      <td>f</td>\n",
       "      <td>y</td>\n",
       "      <td>f</td>\n",
       "      <td>c</td>\n",
       "      <td>n</td>\n",
       "      <td>b</td>\n",
       "      <td>...</td>\n",
       "      <td>s</td>\n",
       "      <td>p</td>\n",
       "      <td>w</td>\n",
       "      <td>p</td>\n",
       "      <td>w</td>\n",
       "      <td>o</td>\n",
       "      <td>e</td>\n",
       "      <td>w</td>\n",
       "      <td>v</td>\n",
       "      <td>d</td>\n",
       "    </tr>\n",
       "    <tr>\n",
       "      <th>1</th>\n",
       "      <td>p</td>\n",
       "      <td>x</td>\n",
       "      <td>s</td>\n",
       "      <td>n</td>\n",
       "      <td>f</td>\n",
       "      <td>y</td>\n",
       "      <td>f</td>\n",
       "      <td>c</td>\n",
       "      <td>n</td>\n",
       "      <td>b</td>\n",
       "      <td>...</td>\n",
       "      <td>k</td>\n",
       "      <td>p</td>\n",
       "      <td>w</td>\n",
       "      <td>p</td>\n",
       "      <td>w</td>\n",
       "      <td>o</td>\n",
       "      <td>e</td>\n",
       "      <td>w</td>\n",
       "      <td>v</td>\n",
       "      <td>l</td>\n",
       "    </tr>\n",
       "    <tr>\n",
       "      <th>2</th>\n",
       "      <td>p</td>\n",
       "      <td>x</td>\n",
       "      <td>f</td>\n",
       "      <td>y</td>\n",
       "      <td>f</td>\n",
       "      <td>f</td>\n",
       "      <td>f</td>\n",
       "      <td>c</td>\n",
       "      <td>b</td>\n",
       "      <td>g</td>\n",
       "      <td>...</td>\n",
       "      <td>k</td>\n",
       "      <td>b</td>\n",
       "      <td>p</td>\n",
       "      <td>p</td>\n",
       "      <td>w</td>\n",
       "      <td>o</td>\n",
       "      <td>l</td>\n",
       "      <td>h</td>\n",
       "      <td>v</td>\n",
       "      <td>d</td>\n",
       "    </tr>\n",
       "    <tr>\n",
       "      <th>3</th>\n",
       "      <td>p</td>\n",
       "      <td>x</td>\n",
       "      <td>f</td>\n",
       "      <td>y</td>\n",
       "      <td>f</td>\n",
       "      <td>f</td>\n",
       "      <td>f</td>\n",
       "      <td>c</td>\n",
       "      <td>b</td>\n",
       "      <td>g</td>\n",
       "      <td>...</td>\n",
       "      <td>k</td>\n",
       "      <td>n</td>\n",
       "      <td>b</td>\n",
       "      <td>p</td>\n",
       "      <td>w</td>\n",
       "      <td>o</td>\n",
       "      <td>l</td>\n",
       "      <td>h</td>\n",
       "      <td>y</td>\n",
       "      <td>g</td>\n",
       "    </tr>\n",
       "    <tr>\n",
       "      <th>4</th>\n",
       "      <td>p</td>\n",
       "      <td>x</td>\n",
       "      <td>f</td>\n",
       "      <td>y</td>\n",
       "      <td>f</td>\n",
       "      <td>f</td>\n",
       "      <td>f</td>\n",
       "      <td>c</td>\n",
       "      <td>b</td>\n",
       "      <td>h</td>\n",
       "      <td>...</td>\n",
       "      <td>k</td>\n",
       "      <td>p</td>\n",
       "      <td>b</td>\n",
       "      <td>p</td>\n",
       "      <td>w</td>\n",
       "      <td>o</td>\n",
       "      <td>l</td>\n",
       "      <td>h</td>\n",
       "      <td>y</td>\n",
       "      <td>d</td>\n",
       "    </tr>\n",
       "    <tr>\n",
       "      <th>...</th>\n",
       "      <td>...</td>\n",
       "      <td>...</td>\n",
       "      <td>...</td>\n",
       "      <td>...</td>\n",
       "      <td>...</td>\n",
       "      <td>...</td>\n",
       "      <td>...</td>\n",
       "      <td>...</td>\n",
       "      <td>...</td>\n",
       "      <td>...</td>\n",
       "      <td>...</td>\n",
       "      <td>...</td>\n",
       "      <td>...</td>\n",
       "      <td>...</td>\n",
       "      <td>...</td>\n",
       "      <td>...</td>\n",
       "      <td>...</td>\n",
       "      <td>...</td>\n",
       "      <td>...</td>\n",
       "      <td>...</td>\n",
       "      <td>...</td>\n",
       "    </tr>\n",
       "    <tr>\n",
       "      <th>1395</th>\n",
       "      <td>p</td>\n",
       "      <td>x</td>\n",
       "      <td>y</td>\n",
       "      <td>e</td>\n",
       "      <td>f</td>\n",
       "      <td>f</td>\n",
       "      <td>f</td>\n",
       "      <td>c</td>\n",
       "      <td>n</td>\n",
       "      <td>b</td>\n",
       "      <td>...</td>\n",
       "      <td>k</td>\n",
       "      <td>w</td>\n",
       "      <td>w</td>\n",
       "      <td>p</td>\n",
       "      <td>w</td>\n",
       "      <td>o</td>\n",
       "      <td>e</td>\n",
       "      <td>w</td>\n",
       "      <td>v</td>\n",
       "      <td>p</td>\n",
       "    </tr>\n",
       "    <tr>\n",
       "      <th>1396</th>\n",
       "      <td>e</td>\n",
       "      <td>f</td>\n",
       "      <td>y</td>\n",
       "      <td>n</td>\n",
       "      <td>t</td>\n",
       "      <td>n</td>\n",
       "      <td>f</td>\n",
       "      <td>c</td>\n",
       "      <td>b</td>\n",
       "      <td>p</td>\n",
       "      <td>...</td>\n",
       "      <td>s</td>\n",
       "      <td>w</td>\n",
       "      <td>g</td>\n",
       "      <td>p</td>\n",
       "      <td>w</td>\n",
       "      <td>o</td>\n",
       "      <td>p</td>\n",
       "      <td>k</td>\n",
       "      <td>v</td>\n",
       "      <td>d</td>\n",
       "    </tr>\n",
       "    <tr>\n",
       "      <th>1397</th>\n",
       "      <td>e</td>\n",
       "      <td>f</td>\n",
       "      <td>f</td>\n",
       "      <td>e</td>\n",
       "      <td>t</td>\n",
       "      <td>n</td>\n",
       "      <td>f</td>\n",
       "      <td>c</td>\n",
       "      <td>b</td>\n",
       "      <td>n</td>\n",
       "      <td>...</td>\n",
       "      <td>s</td>\n",
       "      <td>p</td>\n",
       "      <td>g</td>\n",
       "      <td>p</td>\n",
       "      <td>w</td>\n",
       "      <td>o</td>\n",
       "      <td>p</td>\n",
       "      <td>n</td>\n",
       "      <td>y</td>\n",
       "      <td>d</td>\n",
       "    </tr>\n",
       "    <tr>\n",
       "      <th>1398</th>\n",
       "      <td>p</td>\n",
       "      <td>x</td>\n",
       "      <td>f</td>\n",
       "      <td>y</td>\n",
       "      <td>f</td>\n",
       "      <td>f</td>\n",
       "      <td>f</td>\n",
       "      <td>c</td>\n",
       "      <td>b</td>\n",
       "      <td>p</td>\n",
       "      <td>...</td>\n",
       "      <td>k</td>\n",
       "      <td>n</td>\n",
       "      <td>b</td>\n",
       "      <td>p</td>\n",
       "      <td>w</td>\n",
       "      <td>o</td>\n",
       "      <td>l</td>\n",
       "      <td>h</td>\n",
       "      <td>y</td>\n",
       "      <td>d</td>\n",
       "    </tr>\n",
       "    <tr>\n",
       "      <th>1399</th>\n",
       "      <td>e</td>\n",
       "      <td>f</td>\n",
       "      <td>f</td>\n",
       "      <td>e</td>\n",
       "      <td>t</td>\n",
       "      <td>n</td>\n",
       "      <td>f</td>\n",
       "      <td>c</td>\n",
       "      <td>b</td>\n",
       "      <td>u</td>\n",
       "      <td>...</td>\n",
       "      <td>s</td>\n",
       "      <td>w</td>\n",
       "      <td>g</td>\n",
       "      <td>p</td>\n",
       "      <td>w</td>\n",
       "      <td>o</td>\n",
       "      <td>p</td>\n",
       "      <td>k</td>\n",
       "      <td>v</td>\n",
       "      <td>d</td>\n",
       "    </tr>\n",
       "  </tbody>\n",
       "</table>\n",
       "<p>1400 rows × 23 columns</p>\n",
       "</div>"
      ],
      "text/plain": [
       "     class cap-shape cap-surface cap-color bruises odor gill-attachment  \\\n",
       "0        p         x           y         n       f    y               f   \n",
       "1        p         x           s         n       f    y               f   \n",
       "2        p         x           f         y       f    f               f   \n",
       "3        p         x           f         y       f    f               f   \n",
       "4        p         x           f         y       f    f               f   \n",
       "...    ...       ...         ...       ...     ...  ...             ...   \n",
       "1395     p         x           y         e       f    f               f   \n",
       "1396     e         f           y         n       t    n               f   \n",
       "1397     e         f           f         e       t    n               f   \n",
       "1398     p         x           f         y       f    f               f   \n",
       "1399     e         f           f         e       t    n               f   \n",
       "\n",
       "     gill-spacing gill-size gill-color  ... stalk-surface-below-ring  \\\n",
       "0               c         n          b  ...                        s   \n",
       "1               c         n          b  ...                        k   \n",
       "2               c         b          g  ...                        k   \n",
       "3               c         b          g  ...                        k   \n",
       "4               c         b          h  ...                        k   \n",
       "...           ...       ...        ...  ...                      ...   \n",
       "1395            c         n          b  ...                        k   \n",
       "1396            c         b          p  ...                        s   \n",
       "1397            c         b          n  ...                        s   \n",
       "1398            c         b          p  ...                        k   \n",
       "1399            c         b          u  ...                        s   \n",
       "\n",
       "     stalk-color-above-ring stalk-color-below-ring veil-type veil-color  \\\n",
       "0                         p                      w         p          w   \n",
       "1                         p                      w         p          w   \n",
       "2                         b                      p         p          w   \n",
       "3                         n                      b         p          w   \n",
       "4                         p                      b         p          w   \n",
       "...                     ...                    ...       ...        ...   \n",
       "1395                      w                      w         p          w   \n",
       "1396                      w                      g         p          w   \n",
       "1397                      p                      g         p          w   \n",
       "1398                      n                      b         p          w   \n",
       "1399                      w                      g         p          w   \n",
       "\n",
       "     ring-number ring-type spore-print-color population habitat  \n",
       "0              o         e                 w          v       d  \n",
       "1              o         e                 w          v       l  \n",
       "2              o         l                 h          v       d  \n",
       "3              o         l                 h          y       g  \n",
       "4              o         l                 h          y       d  \n",
       "...          ...       ...               ...        ...     ...  \n",
       "1395           o         e                 w          v       p  \n",
       "1396           o         p                 k          v       d  \n",
       "1397           o         p                 n          y       d  \n",
       "1398           o         l                 h          y       d  \n",
       "1399           o         p                 k          v       d  \n",
       "\n",
       "[1400 rows x 23 columns]"
      ]
     },
     "execution_count": 171,
     "metadata": {},
     "output_type": "execute_result"
    }
   ],
   "source": [
    "# Chargement des fichiers de données sur les mushrooms:\n",
    "\n",
    "# On commence par travailler sur un des fichier \"mushrooms-1400\"\n",
    "mushrooms_1_df = pd.read_csv(\"data/mushrooms-1400-1.csv\")\n",
    "\n",
    "mushrooms_1_df\n"
   ]
  },
  {
   "cell_type": "code",
   "execution_count": 172,
   "metadata": {},
   "outputs": [],
   "source": [
    "# Dans ce dataframe, la colonne de classe s'appelle 'class'\n",
    "mushrooms_1_noms = [nom for nom in mushrooms_1_df.columns if nom != 'class']\n",
    "\n",
    "# Passer du dataframe à un dataset (2 arrays desc & labels):\n",
    "mushrooms_1_desc = np.array(mushrooms_1_df[mushrooms_1_noms])\n",
    "mushrooms_1_label = np.array(mushrooms_1_df['class'])\n"
   ]
  },
  {
   "cell_type": "markdown",
   "metadata": {},
   "source": [
    "Ensuite, on construit l'arbre de décision correspondant.\n",
    "\n",
    "<font color=\"RED\" size=\"+1\">**[Q]**</font> Compléter le code suivant pour apprendre l'arbre et l'afficher ensuite:"
   ]
  },
  {
   "cell_type": "code",
   "execution_count": 173,
   "metadata": {},
   "outputs": [
    {
     "name": "stdout",
     "output_type": "stream",
     "text": [
      "odor\n",
      "spore-print-color\n",
      "cap-color\n",
      "cap-surface\n"
     ]
    },
    {
     "data": {
      "image/svg+xml": [
       "<?xml version=\"1.0\" encoding=\"UTF-8\" standalone=\"no\"?>\n",
       "<!DOCTYPE svg PUBLIC \"-//W3C//DTD SVG 1.1//EN\"\n",
       " \"http://www.w3.org/Graphics/SVG/1.1/DTD/svg11.dtd\">\n",
       "<!-- Generated by graphviz version 2.43.0 (0)\n",
       " -->\n",
       "<!-- Title: %3 Pages: 1 -->\n",
       "<svg width=\"1015pt\" height=\"392pt\"\n",
       " viewBox=\"0.00 0.00 1015.00 392.00\" xmlns=\"http://www.w3.org/2000/svg\" xmlns:xlink=\"http://www.w3.org/1999/xlink\">\n",
       "<g id=\"graph0\" class=\"graph\" transform=\"scale(1 1) rotate(0) translate(4 388)\">\n",
       "<title>%3</title>\n",
       "<polygon fill=\"white\" stroke=\"transparent\" points=\"-4,4 -4,-388 1011,-388 1011,4 -4,4\"/>\n",
       "<!-- A -->\n",
       "<g id=\"node1\" class=\"node\">\n",
       "<title>A</title>\n",
       "<ellipse fill=\"none\" stroke=\"black\" cx=\"315\" cy=\"-366\" rx=\"31.7\" ry=\"18\"/>\n",
       "<text text-anchor=\"middle\" x=\"315\" y=\"-362.3\" font-family=\"Times,serif\" font-size=\"14.00\">odor</text>\n",
       "</g>\n",
       "<!-- A0 -->\n",
       "<g id=\"node2\" class=\"node\">\n",
       "<title>A0</title>\n",
       "<polygon fill=\"none\" stroke=\"black\" points=\"54,-297 0,-297 0,-261 54,-261 54,-297\"/>\n",
       "<text text-anchor=\"middle\" x=\"27\" y=\"-275.3\" font-family=\"Times,serif\" font-size=\"14.00\">e</text>\n",
       "</g>\n",
       "<!-- A&#45;&gt;A0 -->\n",
       "<g id=\"edge1\" class=\"edge\">\n",
       "<title>A&#45;&gt;A0</title>\n",
       "<path fill=\"none\" stroke=\"black\" d=\"M285.26,-359.1C239.18,-349.52 147.89,-328.72 63.77,-297.02\"/>\n",
       "<polygon fill=\"black\" stroke=\"black\" points=\"64.93,-293.72 54.34,-293.41 62.43,-300.26 64.93,-293.72\"/>\n",
       "<text text-anchor=\"middle\" x=\"163.5\" y=\"-318.8\" font-family=\"Times,serif\" font-size=\"14.00\">a</text>\n",
       "</g>\n",
       "<!-- A1 -->\n",
       "<g id=\"node3\" class=\"node\">\n",
       "<title>A1</title>\n",
       "<polygon fill=\"none\" stroke=\"black\" points=\"126,-297 72,-297 72,-261 126,-261 126,-297\"/>\n",
       "<text text-anchor=\"middle\" x=\"99\" y=\"-275.3\" font-family=\"Times,serif\" font-size=\"14.00\">p</text>\n",
       "</g>\n",
       "<!-- A&#45;&gt;A1 -->\n",
       "<g id=\"edge2\" class=\"edge\">\n",
       "<title>A&#45;&gt;A1</title>\n",
       "<path fill=\"none\" stroke=\"black\" d=\"M288.51,-355.74C254.97,-343.86 195.28,-322.18 135.6,-297.1\"/>\n",
       "<polygon fill=\"black\" stroke=\"black\" points=\"136.6,-293.72 126.02,-293.04 133.87,-300.17 136.6,-293.72\"/>\n",
       "<text text-anchor=\"middle\" x=\"218\" y=\"-318.8\" font-family=\"Times,serif\" font-size=\"14.00\">c</text>\n",
       "</g>\n",
       "<!-- A2 -->\n",
       "<g id=\"node4\" class=\"node\">\n",
       "<title>A2</title>\n",
       "<polygon fill=\"none\" stroke=\"black\" points=\"198,-297 144,-297 144,-261 198,-261 198,-297\"/>\n",
       "<text text-anchor=\"middle\" x=\"171\" y=\"-275.3\" font-family=\"Times,serif\" font-size=\"14.00\">p</text>\n",
       "</g>\n",
       "<!-- A&#45;&gt;A2 -->\n",
       "<g id=\"edge3\" class=\"edge\">\n",
       "<title>A&#45;&gt;A2</title>\n",
       "<path fill=\"none\" stroke=\"black\" d=\"M293.75,-352.46C270.98,-339.02 234.42,-317.44 207.12,-301.32\"/>\n",
       "<polygon fill=\"black\" stroke=\"black\" points=\"208.63,-298.15 198.24,-296.08 205.08,-304.18 208.63,-298.15\"/>\n",
       "<text text-anchor=\"middle\" x=\"255\" y=\"-318.8\" font-family=\"Times,serif\" font-size=\"14.00\">f</text>\n",
       "</g>\n",
       "<!-- A3 -->\n",
       "<g id=\"node5\" class=\"node\">\n",
       "<title>A3</title>\n",
       "<polygon fill=\"none\" stroke=\"black\" points=\"270,-297 216,-297 216,-261 270,-261 270,-297\"/>\n",
       "<text text-anchor=\"middle\" x=\"243\" y=\"-275.3\" font-family=\"Times,serif\" font-size=\"14.00\">e</text>\n",
       "</g>\n",
       "<!-- A&#45;&gt;A3 -->\n",
       "<g id=\"edge4\" class=\"edge\">\n",
       "<title>A&#45;&gt;A3</title>\n",
       "<path fill=\"none\" stroke=\"black\" d=\"M301.79,-349.41C291.34,-337.07 276.53,-319.59 264.39,-305.26\"/>\n",
       "<polygon fill=\"black\" stroke=\"black\" points=\"266.74,-302.61 257.61,-297.25 261.4,-307.14 266.74,-302.61\"/>\n",
       "<text text-anchor=\"middle\" x=\"286.5\" y=\"-318.8\" font-family=\"Times,serif\" font-size=\"14.00\">l</text>\n",
       "</g>\n",
       "<!-- A4 -->\n",
       "<g id=\"node6\" class=\"node\">\n",
       "<title>A4</title>\n",
       "<polygon fill=\"none\" stroke=\"black\" points=\"342,-297 288,-297 288,-261 342,-261 342,-297\"/>\n",
       "<text text-anchor=\"middle\" x=\"315\" y=\"-275.3\" font-family=\"Times,serif\" font-size=\"14.00\">p</text>\n",
       "</g>\n",
       "<!-- A&#45;&gt;A4 -->\n",
       "<g id=\"edge5\" class=\"edge\">\n",
       "<title>A&#45;&gt;A4</title>\n",
       "<path fill=\"none\" stroke=\"black\" d=\"M315,-347.8C315,-336.16 315,-320.55 315,-307.24\"/>\n",
       "<polygon fill=\"black\" stroke=\"black\" points=\"318.5,-307.18 315,-297.18 311.5,-307.18 318.5,-307.18\"/>\n",
       "<text text-anchor=\"middle\" x=\"322\" y=\"-318.8\" font-family=\"Times,serif\" font-size=\"14.00\">m</text>\n",
       "</g>\n",
       "<!-- A5 -->\n",
       "<g id=\"node7\" class=\"node\">\n",
       "<title>A5</title>\n",
       "<ellipse fill=\"none\" stroke=\"black\" cx=\"448\" cy=\"-279\" rx=\"88.28\" ry=\"18\"/>\n",
       "<text text-anchor=\"middle\" x=\"448\" y=\"-275.3\" font-family=\"Times,serif\" font-size=\"14.00\">spore&#45;print&#45;color</text>\n",
       "</g>\n",
       "<!-- A&#45;&gt;A5 -->\n",
       "<g id=\"edge25\" class=\"edge\">\n",
       "<title>A&#45;&gt;A5</title>\n",
       "<path fill=\"none\" stroke=\"black\" d=\"M335.49,-351.91C356.26,-338.63 388.77,-317.86 413.51,-302.04\"/>\n",
       "<polygon fill=\"black\" stroke=\"black\" points=\"415.7,-304.8 422.24,-296.46 411.93,-298.9 415.7,-304.8\"/>\n",
       "<text text-anchor=\"middle\" x=\"395\" y=\"-318.8\" font-family=\"Times,serif\" font-size=\"14.00\">n</text>\n",
       "</g>\n",
       "<!-- A6 -->\n",
       "<g id=\"node27\" class=\"node\">\n",
       "<title>A6</title>\n",
       "<polygon fill=\"none\" stroke=\"black\" points=\"608,-297 554,-297 554,-261 608,-261 608,-297\"/>\n",
       "<text text-anchor=\"middle\" x=\"581\" y=\"-275.3\" font-family=\"Times,serif\" font-size=\"14.00\">p</text>\n",
       "</g>\n",
       "<!-- A&#45;&gt;A6 -->\n",
       "<g id=\"edge26\" class=\"edge\">\n",
       "<title>A&#45;&gt;A6</title>\n",
       "<path fill=\"none\" stroke=\"black\" d=\"M343.79,-358.01C386.01,-347.43 467.18,-325.87 543.86,-297.16\"/>\n",
       "<polygon fill=\"black\" stroke=\"black\" points=\"545.56,-300.26 553.67,-293.44 543.08,-293.71 545.56,-300.26\"/>\n",
       "<text text-anchor=\"middle\" x=\"495\" y=\"-318.8\" font-family=\"Times,serif\" font-size=\"14.00\">p</text>\n",
       "</g>\n",
       "<!-- A7 -->\n",
       "<g id=\"node28\" class=\"node\">\n",
       "<title>A7</title>\n",
       "<polygon fill=\"none\" stroke=\"black\" points=\"680,-297 626,-297 626,-261 680,-261 680,-297\"/>\n",
       "<text text-anchor=\"middle\" x=\"653\" y=\"-275.3\" font-family=\"Times,serif\" font-size=\"14.00\">p</text>\n",
       "</g>\n",
       "<!-- A&#45;&gt;A7 -->\n",
       "<g id=\"edge27\" class=\"edge\">\n",
       "<title>A&#45;&gt;A7</title>\n",
       "<path fill=\"none\" stroke=\"black\" d=\"M345.83,-360.99C399.74,-353.37 514.32,-334.42 616.17,-297\"/>\n",
       "<polygon fill=\"black\" stroke=\"black\" points=\"617.54,-300.23 625.67,-293.45 615.08,-293.68 617.54,-300.23\"/>\n",
       "<text text-anchor=\"middle\" x=\"565\" y=\"-318.8\" font-family=\"Times,serif\" font-size=\"14.00\">s</text>\n",
       "</g>\n",
       "<!-- A8 -->\n",
       "<g id=\"node29\" class=\"node\">\n",
       "<title>A8</title>\n",
       "<polygon fill=\"none\" stroke=\"black\" points=\"752,-297 698,-297 698,-261 752,-261 752,-297\"/>\n",
       "<text text-anchor=\"middle\" x=\"725\" y=\"-275.3\" font-family=\"Times,serif\" font-size=\"14.00\">p</text>\n",
       "</g>\n",
       "<!-- A&#45;&gt;A8 -->\n",
       "<g id=\"edge28\" class=\"edge\">\n",
       "<title>A&#45;&gt;A8</title>\n",
       "<path fill=\"none\" stroke=\"black\" d=\"M346.54,-363.07C410.61,-358.37 560.06,-343.34 688.11,-297\"/>\n",
       "<polygon fill=\"black\" stroke=\"black\" points=\"689.52,-300.22 697.68,-293.47 687.09,-293.65 689.52,-300.22\"/>\n",
       "<text text-anchor=\"middle\" x=\"635.5\" y=\"-318.8\" font-family=\"Times,serif\" font-size=\"14.00\">y</text>\n",
       "</g>\n",
       "<!-- A50 -->\n",
       "<g id=\"node8\" class=\"node\">\n",
       "<title>A50</title>\n",
       "<polygon fill=\"none\" stroke=\"black\" points=\"223,-210 169,-210 169,-174 223,-174 223,-210\"/>\n",
       "<text text-anchor=\"middle\" x=\"196\" y=\"-188.3\" font-family=\"Times,serif\" font-size=\"14.00\">e</text>\n",
       "</g>\n",
       "<!-- A5&#45;&gt;A50 -->\n",
       "<g id=\"edge6\" class=\"edge\">\n",
       "<title>A5&#45;&gt;A50</title>\n",
       "<path fill=\"none\" stroke=\"black\" d=\"M397.09,-264.22C355.02,-252.33 293.72,-233.84 232.74,-210.07\"/>\n",
       "<polygon fill=\"black\" stroke=\"black\" points=\"233.94,-206.78 223.36,-206.36 231.38,-213.29 233.94,-206.78\"/>\n",
       "<text text-anchor=\"middle\" x=\"331\" y=\"-231.8\" font-family=\"Times,serif\" font-size=\"14.00\">b</text>\n",
       "</g>\n",
       "<!-- A51 -->\n",
       "<g id=\"node9\" class=\"node\">\n",
       "<title>A51</title>\n",
       "<polygon fill=\"none\" stroke=\"black\" points=\"295,-210 241,-210 241,-174 295,-174 295,-210\"/>\n",
       "<text text-anchor=\"middle\" x=\"268\" y=\"-188.3\" font-family=\"Times,serif\" font-size=\"14.00\">e</text>\n",
       "</g>\n",
       "<!-- A5&#45;&gt;A51 -->\n",
       "<g id=\"edge7\" class=\"edge\">\n",
       "<title>A5&#45;&gt;A51</title>\n",
       "<path fill=\"none\" stroke=\"black\" d=\"M414.57,-262.21C383.2,-247.4 336.41,-225.3 304.18,-210.08\"/>\n",
       "<polygon fill=\"black\" stroke=\"black\" points=\"305.62,-206.9 295.09,-205.79 302.64,-213.23 305.62,-206.9\"/>\n",
       "<text text-anchor=\"middle\" x=\"374\" y=\"-231.8\" font-family=\"Times,serif\" font-size=\"14.00\">h</text>\n",
       "</g>\n",
       "<!-- A52 -->\n",
       "<g id=\"node10\" class=\"node\">\n",
       "<title>A52</title>\n",
       "<polygon fill=\"none\" stroke=\"black\" points=\"367,-210 313,-210 313,-174 367,-174 367,-210\"/>\n",
       "<text text-anchor=\"middle\" x=\"340\" y=\"-188.3\" font-family=\"Times,serif\" font-size=\"14.00\">e</text>\n",
       "</g>\n",
       "<!-- A5&#45;&gt;A52 -->\n",
       "<g id=\"edge8\" class=\"edge\">\n",
       "<title>A5&#45;&gt;A52</title>\n",
       "<path fill=\"none\" stroke=\"black\" d=\"M426.92,-261.41C410.63,-248.59 387.88,-230.68 369.74,-216.4\"/>\n",
       "<polygon fill=\"black\" stroke=\"black\" points=\"371.79,-213.57 361.77,-210.13 367.46,-219.07 371.79,-213.57\"/>\n",
       "<text text-anchor=\"middle\" x=\"405.5\" y=\"-231.8\" font-family=\"Times,serif\" font-size=\"14.00\">k</text>\n",
       "</g>\n",
       "<!-- A53 -->\n",
       "<g id=\"node11\" class=\"node\">\n",
       "<title>A53</title>\n",
       "<polygon fill=\"none\" stroke=\"black\" points=\"439,-210 385,-210 385,-174 439,-174 439,-210\"/>\n",
       "<text text-anchor=\"middle\" x=\"412\" y=\"-188.3\" font-family=\"Times,serif\" font-size=\"14.00\">e</text>\n",
       "</g>\n",
       "<!-- A5&#45;&gt;A53 -->\n",
       "<g id=\"edge9\" class=\"edge\">\n",
       "<title>A5&#45;&gt;A53</title>\n",
       "<path fill=\"none\" stroke=\"black\" d=\"M440.71,-260.8C435.69,-248.93 428.91,-232.93 423.2,-219.45\"/>\n",
       "<polygon fill=\"black\" stroke=\"black\" points=\"426.4,-218.02 419.27,-210.18 419.95,-220.75 426.4,-218.02\"/>\n",
       "<text text-anchor=\"middle\" x=\"438\" y=\"-231.8\" font-family=\"Times,serif\" font-size=\"14.00\">n</text>\n",
       "</g>\n",
       "<!-- A54 -->\n",
       "<g id=\"node12\" class=\"node\">\n",
       "<title>A54</title>\n",
       "<polygon fill=\"none\" stroke=\"black\" points=\"511,-210 457,-210 457,-174 511,-174 511,-210\"/>\n",
       "<text text-anchor=\"middle\" x=\"484\" y=\"-188.3\" font-family=\"Times,serif\" font-size=\"14.00\">e</text>\n",
       "</g>\n",
       "<!-- A5&#45;&gt;A54 -->\n",
       "<g id=\"edge10\" class=\"edge\">\n",
       "<title>A5&#45;&gt;A54</title>\n",
       "<path fill=\"none\" stroke=\"black\" d=\"M455.29,-260.8C460.31,-248.93 467.09,-232.93 472.8,-219.45\"/>\n",
       "<polygon fill=\"black\" stroke=\"black\" points=\"476.05,-220.75 476.73,-210.18 469.6,-218.02 476.05,-220.75\"/>\n",
       "<text text-anchor=\"middle\" x=\"473.5\" y=\"-231.8\" font-family=\"Times,serif\" font-size=\"14.00\">o</text>\n",
       "</g>\n",
       "<!-- A55 -->\n",
       "<g id=\"node13\" class=\"node\">\n",
       "<title>A55</title>\n",
       "<polygon fill=\"none\" stroke=\"black\" points=\"583,-210 529,-210 529,-174 583,-174 583,-210\"/>\n",
       "<text text-anchor=\"middle\" x=\"556\" y=\"-188.3\" font-family=\"Times,serif\" font-size=\"14.00\">p</text>\n",
       "</g>\n",
       "<!-- A5&#45;&gt;A55 -->\n",
       "<g id=\"edge11\" class=\"edge\">\n",
       "<title>A5&#45;&gt;A55</title>\n",
       "<path fill=\"none\" stroke=\"black\" d=\"M469.08,-261.41C485.37,-248.59 508.12,-230.68 526.26,-216.4\"/>\n",
       "<polygon fill=\"black\" stroke=\"black\" points=\"528.54,-219.07 534.23,-210.13 524.21,-213.57 528.54,-219.07\"/>\n",
       "<text text-anchor=\"middle\" x=\"512.5\" y=\"-231.8\" font-family=\"Times,serif\" font-size=\"14.00\">r</text>\n",
       "</g>\n",
       "<!-- A56 -->\n",
       "<g id=\"node14\" class=\"node\">\n",
       "<title>A56</title>\n",
       "<ellipse fill=\"none\" stroke=\"black\" cx=\"654\" cy=\"-192\" rx=\"52.79\" ry=\"18\"/>\n",
       "<text text-anchor=\"middle\" x=\"654\" y=\"-188.3\" font-family=\"Times,serif\" font-size=\"14.00\">cap&#45;color</text>\n",
       "</g>\n",
       "<!-- A5&#45;&gt;A56 -->\n",
       "<g id=\"edge23\" class=\"edge\">\n",
       "<title>A5&#45;&gt;A56</title>\n",
       "<path fill=\"none\" stroke=\"black\" d=\"M485.31,-262.61C521.07,-247.85 574.96,-225.61 612.16,-210.26\"/>\n",
       "<polygon fill=\"black\" stroke=\"black\" points=\"613.8,-213.37 621.71,-206.32 611.13,-206.9 613.8,-213.37\"/>\n",
       "<text text-anchor=\"middle\" x=\"570.5\" y=\"-231.8\" font-family=\"Times,serif\" font-size=\"14.00\">w</text>\n",
       "</g>\n",
       "<!-- A57 -->\n",
       "<g id=\"node26\" class=\"node\">\n",
       "<title>A57</title>\n",
       "<polygon fill=\"none\" stroke=\"black\" points=\"779,-210 725,-210 725,-174 779,-174 779,-210\"/>\n",
       "<text text-anchor=\"middle\" x=\"752\" y=\"-188.3\" font-family=\"Times,serif\" font-size=\"14.00\">e</text>\n",
       "</g>\n",
       "<!-- A5&#45;&gt;A57 -->\n",
       "<g id=\"edge24\" class=\"edge\">\n",
       "<title>A5&#45;&gt;A57</title>\n",
       "<path fill=\"none\" stroke=\"black\" d=\"M509.4,-265.95C562.13,-254.81 640.06,-236.45 715.1,-209.99\"/>\n",
       "<polygon fill=\"black\" stroke=\"black\" points=\"716.48,-213.22 724.71,-206.55 714.12,-206.63 716.48,-213.22\"/>\n",
       "<text text-anchor=\"middle\" x=\"663.5\" y=\"-231.8\" font-family=\"Times,serif\" font-size=\"14.00\">y</text>\n",
       "</g>\n",
       "<!-- A560 -->\n",
       "<g id=\"node15\" class=\"node\">\n",
       "<title>A560</title>\n",
       "<polygon fill=\"none\" stroke=\"black\" points=\"429,-123 375,-123 375,-87 429,-87 429,-123\"/>\n",
       "<text text-anchor=\"middle\" x=\"402\" y=\"-101.3\" font-family=\"Times,serif\" font-size=\"14.00\">e</text>\n",
       "</g>\n",
       "<!-- A56&#45;&gt;A560 -->\n",
       "<g id=\"edge12\" class=\"edge\">\n",
       "<title>A56&#45;&gt;A560</title>\n",
       "<path fill=\"none\" stroke=\"black\" d=\"M615.57,-179.63C566.48,-164.99 483.39,-139.79 438.79,-123.02\"/>\n",
       "<polygon fill=\"black\" stroke=\"black\" points=\"439.95,-119.71 429.36,-119.36 437.42,-126.24 439.95,-119.71\"/>\n",
       "<text text-anchor=\"middle\" x=\"540\" y=\"-144.8\" font-family=\"Times,serif\" font-size=\"14.00\">b</text>\n",
       "</g>\n",
       "<!-- A561 -->\n",
       "<g id=\"node16\" class=\"node\">\n",
       "<title>A561</title>\n",
       "<polygon fill=\"none\" stroke=\"black\" points=\"501,-123 447,-123 447,-87 501,-87 501,-123\"/>\n",
       "<text text-anchor=\"middle\" x=\"474\" y=\"-101.3\" font-family=\"Times,serif\" font-size=\"14.00\">e</text>\n",
       "</g>\n",
       "<!-- A56&#45;&gt;A561 -->\n",
       "<g id=\"edge13\" class=\"edge\">\n",
       "<title>A56&#45;&gt;A561</title>\n",
       "<path fill=\"none\" stroke=\"black\" d=\"M624.28,-176.96C593.1,-162.24 544.08,-139.09 510.56,-123.26\"/>\n",
       "<polygon fill=\"black\" stroke=\"black\" points=\"511.65,-119.91 501.12,-118.8 508.66,-126.24 511.65,-119.91\"/>\n",
       "<text text-anchor=\"middle\" x=\"579\" y=\"-144.8\" font-family=\"Times,serif\" font-size=\"14.00\">c</text>\n",
       "</g>\n",
       "<!-- A562 -->\n",
       "<g id=\"node17\" class=\"node\">\n",
       "<title>A562</title>\n",
       "<polygon fill=\"none\" stroke=\"black\" points=\"573,-123 519,-123 519,-87 573,-87 573,-123\"/>\n",
       "<text text-anchor=\"middle\" x=\"546\" y=\"-101.3\" font-family=\"Times,serif\" font-size=\"14.00\">e</text>\n",
       "</g>\n",
       "<!-- A56&#45;&gt;A562 -->\n",
       "<g id=\"edge14\" class=\"edge\">\n",
       "<title>A56&#45;&gt;A562</title>\n",
       "<path fill=\"none\" stroke=\"black\" d=\"M633.94,-175.21C617.57,-162.33 594.21,-143.94 575.68,-129.36\"/>\n",
       "<polygon fill=\"black\" stroke=\"black\" points=\"577.83,-126.6 567.81,-123.16 573.5,-132.1 577.83,-126.6\"/>\n",
       "<text text-anchor=\"middle\" x=\"611.5\" y=\"-144.8\" font-family=\"Times,serif\" font-size=\"14.00\">e</text>\n",
       "</g>\n",
       "<!-- A563 -->\n",
       "<g id=\"node18\" class=\"node\">\n",
       "<title>A563</title>\n",
       "<polygon fill=\"none\" stroke=\"black\" points=\"645,-123 591,-123 591,-87 645,-87 645,-123\"/>\n",
       "<text text-anchor=\"middle\" x=\"618\" y=\"-101.3\" font-family=\"Times,serif\" font-size=\"14.00\">e</text>\n",
       "</g>\n",
       "<!-- A56&#45;&gt;A563 -->\n",
       "<g id=\"edge15\" class=\"edge\">\n",
       "<title>A56&#45;&gt;A563</title>\n",
       "<path fill=\"none\" stroke=\"black\" d=\"M646.71,-173.8C641.69,-161.93 634.91,-145.93 629.2,-132.45\"/>\n",
       "<polygon fill=\"black\" stroke=\"black\" points=\"632.4,-131.02 625.27,-123.18 625.95,-133.75 632.4,-131.02\"/>\n",
       "<text text-anchor=\"middle\" x=\"644\" y=\"-144.8\" font-family=\"Times,serif\" font-size=\"14.00\">g</text>\n",
       "</g>\n",
       "<!-- A564 -->\n",
       "<g id=\"node19\" class=\"node\">\n",
       "<title>A564</title>\n",
       "<polygon fill=\"none\" stroke=\"black\" points=\"717,-123 663,-123 663,-87 717,-87 717,-123\"/>\n",
       "<text text-anchor=\"middle\" x=\"690\" y=\"-101.3\" font-family=\"Times,serif\" font-size=\"14.00\">e</text>\n",
       "</g>\n",
       "<!-- A56&#45;&gt;A564 -->\n",
       "<g id=\"edge16\" class=\"edge\">\n",
       "<title>A56&#45;&gt;A564</title>\n",
       "<path fill=\"none\" stroke=\"black\" d=\"M661.29,-173.8C666.31,-161.93 673.09,-145.93 678.8,-132.45\"/>\n",
       "<polygon fill=\"black\" stroke=\"black\" points=\"682.05,-133.75 682.73,-123.18 675.6,-131.02 682.05,-133.75\"/>\n",
       "<text text-anchor=\"middle\" x=\"680\" y=\"-144.8\" font-family=\"Times,serif\" font-size=\"14.00\">n</text>\n",
       "</g>\n",
       "<!-- A565 -->\n",
       "<g id=\"node20\" class=\"node\">\n",
       "<title>A565</title>\n",
       "<polygon fill=\"none\" stroke=\"black\" points=\"789,-123 735,-123 735,-87 789,-87 789,-123\"/>\n",
       "<text text-anchor=\"middle\" x=\"762\" y=\"-101.3\" font-family=\"Times,serif\" font-size=\"14.00\">e</text>\n",
       "</g>\n",
       "<!-- A56&#45;&gt;A565 -->\n",
       "<g id=\"edge17\" class=\"edge\">\n",
       "<title>A56&#45;&gt;A565</title>\n",
       "<path fill=\"none\" stroke=\"black\" d=\"M674.06,-175.21C690.43,-162.33 713.79,-143.94 732.32,-129.36\"/>\n",
       "<polygon fill=\"black\" stroke=\"black\" points=\"734.5,-132.1 740.19,-123.16 730.17,-126.6 734.5,-132.1\"/>\n",
       "<text text-anchor=\"middle\" x=\"719\" y=\"-144.8\" font-family=\"Times,serif\" font-size=\"14.00\">p</text>\n",
       "</g>\n",
       "<!-- A566 -->\n",
       "<g id=\"node21\" class=\"node\">\n",
       "<title>A566</title>\n",
       "<ellipse fill=\"none\" stroke=\"black\" cx=\"871\" cy=\"-105\" rx=\"63.89\" ry=\"18\"/>\n",
       "<text text-anchor=\"middle\" x=\"871\" y=\"-101.3\" font-family=\"Times,serif\" font-size=\"14.00\">cap&#45;surface</text>\n",
       "</g>\n",
       "<!-- A56&#45;&gt;A566 -->\n",
       "<g id=\"edge21\" class=\"edge\">\n",
       "<title>A56&#45;&gt;A566</title>\n",
       "<path fill=\"none\" stroke=\"black\" d=\"M687.43,-177.91C724.52,-163.38 784.57,-139.85 825.83,-123.69\"/>\n",
       "<polygon fill=\"black\" stroke=\"black\" points=\"827.33,-126.86 835.37,-119.96 824.78,-120.35 827.33,-126.86\"/>\n",
       "<text text-anchor=\"middle\" x=\"781.5\" y=\"-144.8\" font-family=\"Times,serif\" font-size=\"14.00\">w</text>\n",
       "</g>\n",
       "<!-- A567 -->\n",
       "<g id=\"node25\" class=\"node\">\n",
       "<title>A567</title>\n",
       "<polygon fill=\"none\" stroke=\"black\" points=\"1007,-123 953,-123 953,-87 1007,-87 1007,-123\"/>\n",
       "<text text-anchor=\"middle\" x=\"980\" y=\"-101.3\" font-family=\"Times,serif\" font-size=\"14.00\">p</text>\n",
       "</g>\n",
       "<!-- A56&#45;&gt;A567 -->\n",
       "<g id=\"edge22\" class=\"edge\">\n",
       "<title>A56&#45;&gt;A567</title>\n",
       "<path fill=\"none\" stroke=\"black\" d=\"M693.28,-179.93C700.81,-177.89 708.63,-175.83 716,-174 813.72,-149.69 843.96,-156.27 943.24,-122.88\"/>\n",
       "<polygon fill=\"black\" stroke=\"black\" points=\"944.41,-126.18 952.74,-119.63 942.15,-119.55 944.41,-126.18\"/>\n",
       "<text text-anchor=\"middle\" x=\"887.5\" y=\"-144.8\" font-family=\"Times,serif\" font-size=\"14.00\">y</text>\n",
       "</g>\n",
       "<!-- A5660 -->\n",
       "<g id=\"node22\" class=\"node\">\n",
       "<title>A5660</title>\n",
       "<polygon fill=\"none\" stroke=\"black\" points=\"826,-36 772,-36 772,0 826,0 826,-36\"/>\n",
       "<text text-anchor=\"middle\" x=\"799\" y=\"-14.3\" font-family=\"Times,serif\" font-size=\"14.00\">e</text>\n",
       "</g>\n",
       "<!-- A566&#45;&gt;A5660 -->\n",
       "<g id=\"edge18\" class=\"edge\">\n",
       "<title>A566&#45;&gt;A5660</title>\n",
       "<path fill=\"none\" stroke=\"black\" d=\"M856.78,-87.21C846.29,-74.83 831.86,-57.8 820.05,-43.85\"/>\n",
       "<polygon fill=\"black\" stroke=\"black\" points=\"822.58,-41.42 813.44,-36.05 817.23,-45.94 822.58,-41.42\"/>\n",
       "<text text-anchor=\"middle\" x=\"842\" y=\"-57.8\" font-family=\"Times,serif\" font-size=\"14.00\">f</text>\n",
       "</g>\n",
       "<!-- A5661 -->\n",
       "<g id=\"node23\" class=\"node\">\n",
       "<title>A5661</title>\n",
       "<polygon fill=\"none\" stroke=\"black\" points=\"898,-36 844,-36 844,0 898,0 898,-36\"/>\n",
       "<text text-anchor=\"middle\" x=\"871\" y=\"-14.3\" font-family=\"Times,serif\" font-size=\"14.00\">p</text>\n",
       "</g>\n",
       "<!-- A566&#45;&gt;A5661 -->\n",
       "<g id=\"edge19\" class=\"edge\">\n",
       "<title>A566&#45;&gt;A5661</title>\n",
       "<path fill=\"none\" stroke=\"black\" d=\"M871,-86.8C871,-75.16 871,-59.55 871,-46.24\"/>\n",
       "<polygon fill=\"black\" stroke=\"black\" points=\"874.5,-46.18 871,-36.18 867.5,-46.18 874.5,-46.18\"/>\n",
       "<text text-anchor=\"middle\" x=\"876\" y=\"-57.8\" font-family=\"Times,serif\" font-size=\"14.00\">g</text>\n",
       "</g>\n",
       "<!-- A5662 -->\n",
       "<g id=\"node24\" class=\"node\">\n",
       "<title>A5662</title>\n",
       "<polygon fill=\"none\" stroke=\"black\" points=\"970,-36 916,-36 916,0 970,0 970,-36\"/>\n",
       "<text text-anchor=\"middle\" x=\"943\" y=\"-14.3\" font-family=\"Times,serif\" font-size=\"14.00\">e</text>\n",
       "</g>\n",
       "<!-- A566&#45;&gt;A5662 -->\n",
       "<g id=\"edge20\" class=\"edge\">\n",
       "<title>A566&#45;&gt;A5662</title>\n",
       "<path fill=\"none\" stroke=\"black\" d=\"M885.22,-87.21C895.71,-74.83 910.14,-57.8 921.95,-43.85\"/>\n",
       "<polygon fill=\"black\" stroke=\"black\" points=\"924.77,-45.94 928.56,-36.05 919.42,-41.42 924.77,-45.94\"/>\n",
       "<text text-anchor=\"middle\" x=\"915\" y=\"-57.8\" font-family=\"Times,serif\" font-size=\"14.00\">s</text>\n",
       "</g>\n",
       "</g>\n",
       "</svg>\n"
      ],
      "text/plain": [
       "<graphviz.graphs.Digraph at 0x7f4ea55d1ad0>"
      ]
     },
     "execution_count": 173,
     "metadata": {},
     "output_type": "execute_result"
    }
   ],
   "source": [
    "# construction de l'arbre de décision à partir du dataset Elections:\n",
    "arbre_mushrooms_1 = ClassifierArbreDecision(len(mushrooms_1_noms), 0.0, mushrooms_1_noms)\n",
    "\n",
    "#################################\n",
    "\n",
    "\n",
    "\n",
    "# Construction de l'arbre de décision à partir du dataset Elections\n",
    "arbre_mushrooms_1.train(mushrooms_1_desc,mushrooms_1_label)\n",
    "\n",
    "# Construction de la représentation graphique (affichage)\n",
    "gr_arbre_mushroom_1 = gv.Digraph(format='png')\n",
    "arbre_mushrooms_1.draw(gr_arbre_mushroom_1)\n",
    "\n",
    "\n",
    "#################################\n",
    "\n",
    "\n",
    "# Affichage du graphe obtenu:\n",
    "gr_arbre_mushroom_1"
   ]
  },
  {
   "cell_type": "markdown",
   "metadata": {},
   "source": [
    "### Classification avec l'arbre de décision obtenu"
   ]
  },
  {
   "cell_type": "markdown",
   "metadata": {},
   "source": [
    "Exemple de classification d'un exemple:"
   ]
  },
  {
   "cell_type": "code",
   "execution_count": 174,
   "metadata": {},
   "outputs": [
    {
     "data": {
      "text/plain": [
       "'p'"
      ]
     },
     "execution_count": 174,
     "metadata": {},
     "output_type": "execute_result"
    }
   ],
   "source": [
    "arbre_mushrooms_1.predict(mushrooms_1_desc[0,:])"
   ]
  },
  {
   "cell_type": "markdown",
   "metadata": {},
   "source": [
    "Calcul de l'accuracy sur le dataset d'apprentissage.\n",
    "\n",
    "**Attention**: la fonction `accuracy` doit pouvoir tenir compte du fait que les classes ne sont pas égales à +1 ou -1 comme c'était le cas jusqu'à présent, il peut donc être nécessaire de redéfinir cette méthode dans la classe \n",
    "`ClassifierArbreDecision`: *la classification est correcte si la fonction `predict` rend la vraie classe de l'exemple.*\n"
   ]
  },
  {
   "cell_type": "code",
   "execution_count": 175,
   "metadata": {},
   "outputs": [
    {
     "data": {
      "text/plain": [
       "1.0"
      ]
     },
     "execution_count": 175,
     "metadata": {},
     "output_type": "execute_result"
    }
   ],
   "source": [
    "arbre_mushrooms_1.accuracy(mushrooms_1_desc,mushrooms_1_label)"
   ]
  },
  {
   "cell_type": "markdown",
   "metadata": {},
   "source": [
    "<font color=\"RED\" size=\"+1\">**[Q]**</font> Toujours avec le dataset `mushrooms_1` précédent, construire un nouvel arbre de décision en utilisant comme valeur d'epsilon : $0.25$.\n",
    "\n",
    "Que constatez-vous ? "
   ]
  },
  {
   "cell_type": "code",
   "execution_count": 176,
   "metadata": {},
   "outputs": [
    {
     "name": "stdout",
     "output_type": "stream",
     "text": [
      "odor\n"
     ]
    },
    {
     "data": {
      "image/svg+xml": [
       "<?xml version=\"1.0\" encoding=\"UTF-8\" standalone=\"no\"?>\n",
       "<!DOCTYPE svg PUBLIC \"-//W3C//DTD SVG 1.1//EN\"\n",
       " \"http://www.w3.org/Graphics/SVG/1.1/DTD/svg11.dtd\">\n",
       "<!-- Generated by graphviz version 2.43.0 (0)\n",
       " -->\n",
       "<!-- Title: %3 Pages: 1 -->\n",
       "<svg width=\"638pt\" height=\"131pt\"\n",
       " viewBox=\"0.00 0.00 638.00 131.00\" xmlns=\"http://www.w3.org/2000/svg\" xmlns:xlink=\"http://www.w3.org/1999/xlink\">\n",
       "<g id=\"graph0\" class=\"graph\" transform=\"scale(1 1) rotate(0) translate(4 127)\">\n",
       "<title>%3</title>\n",
       "<polygon fill=\"white\" stroke=\"transparent\" points=\"-4,4 -4,-127 634,-127 634,4 -4,4\"/>\n",
       "<!-- A -->\n",
       "<g id=\"node1\" class=\"node\">\n",
       "<title>A</title>\n",
       "<ellipse fill=\"none\" stroke=\"black\" cx=\"315\" cy=\"-105\" rx=\"31.7\" ry=\"18\"/>\n",
       "<text text-anchor=\"middle\" x=\"315\" y=\"-101.3\" font-family=\"Times,serif\" font-size=\"14.00\">odor</text>\n",
       "</g>\n",
       "<!-- A0 -->\n",
       "<g id=\"node2\" class=\"node\">\n",
       "<title>A0</title>\n",
       "<polygon fill=\"none\" stroke=\"black\" points=\"54,-36 0,-36 0,0 54,0 54,-36\"/>\n",
       "<text text-anchor=\"middle\" x=\"27\" y=\"-14.3\" font-family=\"Times,serif\" font-size=\"14.00\">e</text>\n",
       "</g>\n",
       "<!-- A&#45;&gt;A0 -->\n",
       "<g id=\"edge1\" class=\"edge\">\n",
       "<title>A&#45;&gt;A0</title>\n",
       "<path fill=\"none\" stroke=\"black\" d=\"M285.26,-98.1C239.18,-88.52 147.89,-67.72 63.77,-36.02\"/>\n",
       "<polygon fill=\"black\" stroke=\"black\" points=\"64.93,-32.72 54.34,-32.41 62.43,-39.26 64.93,-32.72\"/>\n",
       "<text text-anchor=\"middle\" x=\"163.5\" y=\"-57.8\" font-family=\"Times,serif\" font-size=\"14.00\">a</text>\n",
       "</g>\n",
       "<!-- A1 -->\n",
       "<g id=\"node3\" class=\"node\">\n",
       "<title>A1</title>\n",
       "<polygon fill=\"none\" stroke=\"black\" points=\"126,-36 72,-36 72,0 126,0 126,-36\"/>\n",
       "<text text-anchor=\"middle\" x=\"99\" y=\"-14.3\" font-family=\"Times,serif\" font-size=\"14.00\">p</text>\n",
       "</g>\n",
       "<!-- A&#45;&gt;A1 -->\n",
       "<g id=\"edge2\" class=\"edge\">\n",
       "<title>A&#45;&gt;A1</title>\n",
       "<path fill=\"none\" stroke=\"black\" d=\"M288.51,-94.74C254.97,-82.86 195.28,-61.18 135.6,-36.1\"/>\n",
       "<polygon fill=\"black\" stroke=\"black\" points=\"136.6,-32.72 126.02,-32.04 133.87,-39.17 136.6,-32.72\"/>\n",
       "<text text-anchor=\"middle\" x=\"218\" y=\"-57.8\" font-family=\"Times,serif\" font-size=\"14.00\">c</text>\n",
       "</g>\n",
       "<!-- A2 -->\n",
       "<g id=\"node4\" class=\"node\">\n",
       "<title>A2</title>\n",
       "<polygon fill=\"none\" stroke=\"black\" points=\"198,-36 144,-36 144,0 198,0 198,-36\"/>\n",
       "<text text-anchor=\"middle\" x=\"171\" y=\"-14.3\" font-family=\"Times,serif\" font-size=\"14.00\">p</text>\n",
       "</g>\n",
       "<!-- A&#45;&gt;A2 -->\n",
       "<g id=\"edge3\" class=\"edge\">\n",
       "<title>A&#45;&gt;A2</title>\n",
       "<path fill=\"none\" stroke=\"black\" d=\"M293.75,-91.46C270.98,-78.02 234.42,-56.44 207.12,-40.32\"/>\n",
       "<polygon fill=\"black\" stroke=\"black\" points=\"208.63,-37.15 198.24,-35.08 205.08,-43.18 208.63,-37.15\"/>\n",
       "<text text-anchor=\"middle\" x=\"255\" y=\"-57.8\" font-family=\"Times,serif\" font-size=\"14.00\">f</text>\n",
       "</g>\n",
       "<!-- A3 -->\n",
       "<g id=\"node5\" class=\"node\">\n",
       "<title>A3</title>\n",
       "<polygon fill=\"none\" stroke=\"black\" points=\"270,-36 216,-36 216,0 270,0 270,-36\"/>\n",
       "<text text-anchor=\"middle\" x=\"243\" y=\"-14.3\" font-family=\"Times,serif\" font-size=\"14.00\">e</text>\n",
       "</g>\n",
       "<!-- A&#45;&gt;A3 -->\n",
       "<g id=\"edge4\" class=\"edge\">\n",
       "<title>A&#45;&gt;A3</title>\n",
       "<path fill=\"none\" stroke=\"black\" d=\"M301.79,-88.41C291.34,-76.07 276.53,-58.59 264.39,-44.26\"/>\n",
       "<polygon fill=\"black\" stroke=\"black\" points=\"266.74,-41.61 257.61,-36.25 261.4,-46.14 266.74,-41.61\"/>\n",
       "<text text-anchor=\"middle\" x=\"286.5\" y=\"-57.8\" font-family=\"Times,serif\" font-size=\"14.00\">l</text>\n",
       "</g>\n",
       "<!-- A4 -->\n",
       "<g id=\"node6\" class=\"node\">\n",
       "<title>A4</title>\n",
       "<polygon fill=\"none\" stroke=\"black\" points=\"342,-36 288,-36 288,0 342,0 342,-36\"/>\n",
       "<text text-anchor=\"middle\" x=\"315\" y=\"-14.3\" font-family=\"Times,serif\" font-size=\"14.00\">p</text>\n",
       "</g>\n",
       "<!-- A&#45;&gt;A4 -->\n",
       "<g id=\"edge5\" class=\"edge\">\n",
       "<title>A&#45;&gt;A4</title>\n",
       "<path fill=\"none\" stroke=\"black\" d=\"M315,-86.8C315,-75.16 315,-59.55 315,-46.24\"/>\n",
       "<polygon fill=\"black\" stroke=\"black\" points=\"318.5,-46.18 315,-36.18 311.5,-46.18 318.5,-46.18\"/>\n",
       "<text text-anchor=\"middle\" x=\"322\" y=\"-57.8\" font-family=\"Times,serif\" font-size=\"14.00\">m</text>\n",
       "</g>\n",
       "<!-- A5 -->\n",
       "<g id=\"node7\" class=\"node\">\n",
       "<title>A5</title>\n",
       "<polygon fill=\"none\" stroke=\"black\" points=\"414,-36 360,-36 360,0 414,0 414,-36\"/>\n",
       "<text text-anchor=\"middle\" x=\"387\" y=\"-14.3\" font-family=\"Times,serif\" font-size=\"14.00\">e</text>\n",
       "</g>\n",
       "<!-- A&#45;&gt;A5 -->\n",
       "<g id=\"edge6\" class=\"edge\">\n",
       "<title>A&#45;&gt;A5</title>\n",
       "<path fill=\"none\" stroke=\"black\" d=\"M328.21,-88.41C338.66,-76.07 353.47,-58.59 365.61,-44.26\"/>\n",
       "<polygon fill=\"black\" stroke=\"black\" points=\"368.6,-46.14 372.39,-36.25 363.26,-41.61 368.6,-46.14\"/>\n",
       "<text text-anchor=\"middle\" x=\"360\" y=\"-57.8\" font-family=\"Times,serif\" font-size=\"14.00\">n</text>\n",
       "</g>\n",
       "<!-- A6 -->\n",
       "<g id=\"node8\" class=\"node\">\n",
       "<title>A6</title>\n",
       "<polygon fill=\"none\" stroke=\"black\" points=\"486,-36 432,-36 432,0 486,0 486,-36\"/>\n",
       "<text text-anchor=\"middle\" x=\"459\" y=\"-14.3\" font-family=\"Times,serif\" font-size=\"14.00\">p</text>\n",
       "</g>\n",
       "<!-- A&#45;&gt;A6 -->\n",
       "<g id=\"edge7\" class=\"edge\">\n",
       "<title>A&#45;&gt;A6</title>\n",
       "<path fill=\"none\" stroke=\"black\" d=\"M336.25,-91.46C359.02,-78.02 395.58,-56.44 422.88,-40.32\"/>\n",
       "<polygon fill=\"black\" stroke=\"black\" points=\"424.92,-43.18 431.76,-35.08 421.37,-37.15 424.92,-43.18\"/>\n",
       "<text text-anchor=\"middle\" x=\"400\" y=\"-57.8\" font-family=\"Times,serif\" font-size=\"14.00\">p</text>\n",
       "</g>\n",
       "<!-- A7 -->\n",
       "<g id=\"node9\" class=\"node\">\n",
       "<title>A7</title>\n",
       "<polygon fill=\"none\" stroke=\"black\" points=\"558,-36 504,-36 504,0 558,0 558,-36\"/>\n",
       "<text text-anchor=\"middle\" x=\"531\" y=\"-14.3\" font-family=\"Times,serif\" font-size=\"14.00\">p</text>\n",
       "</g>\n",
       "<!-- A&#45;&gt;A7 -->\n",
       "<g id=\"edge8\" class=\"edge\">\n",
       "<title>A&#45;&gt;A7</title>\n",
       "<path fill=\"none\" stroke=\"black\" d=\"M341.51,-94.78C375.07,-82.94 434.78,-61.31 494.41,-36.1\"/>\n",
       "<polygon fill=\"black\" stroke=\"black\" points=\"496.14,-39.17 503.97,-32.03 493.4,-32.73 496.14,-39.17\"/>\n",
       "<text text-anchor=\"middle\" x=\"455\" y=\"-57.8\" font-family=\"Times,serif\" font-size=\"14.00\">s</text>\n",
       "</g>\n",
       "<!-- A8 -->\n",
       "<g id=\"node10\" class=\"node\">\n",
       "<title>A8</title>\n",
       "<polygon fill=\"none\" stroke=\"black\" points=\"630,-36 576,-36 576,0 630,0 630,-36\"/>\n",
       "<text text-anchor=\"middle\" x=\"603\" y=\"-14.3\" font-family=\"Times,serif\" font-size=\"14.00\">p</text>\n",
       "</g>\n",
       "<!-- A&#45;&gt;A8 -->\n",
       "<g id=\"edge9\" class=\"edge\">\n",
       "<title>A&#45;&gt;A8</title>\n",
       "<path fill=\"none\" stroke=\"black\" d=\"M344.78,-98.2C390.91,-88.75 482.27,-68.12 566.24,-36.04\"/>\n",
       "<polygon fill=\"black\" stroke=\"black\" points=\"567.6,-39.26 575.65,-32.38 565.06,-32.74 567.6,-39.26\"/>\n",
       "<text text-anchor=\"middle\" x=\"517.5\" y=\"-57.8\" font-family=\"Times,serif\" font-size=\"14.00\">y</text>\n",
       "</g>\n",
       "</g>\n",
       "</svg>\n"
      ],
      "text/plain": [
       "<graphviz.graphs.Digraph at 0x7f4ea568ba90>"
      ]
     },
     "execution_count": 176,
     "metadata": {},
     "output_type": "execute_result"
    }
   ],
   "source": [
    "# construction de l'arbre de décision à partir du dataset Elections:\n",
    "arbre_mushrooms_1_bis = ClassifierArbreDecision(len(mushrooms_1_noms), 0.25, mushrooms_1_noms)\n",
    "\n",
    "#################################\n",
    "\n",
    "\n",
    "\n",
    "# Construction de l'arbre de décision à partir du dataset Elections\n",
    "arbre_mushrooms_1_bis.train(mushrooms_1_desc,mushrooms_1_label)\n",
    "\n",
    "# Construction de la représentation graphique (affichage)\n",
    "gr_arbre_mushrooms_1_bis = gv.Digraph(format='png')\n",
    "arbre_mushrooms_1_bis.draw(gr_arbre_mushrooms_1_bis)\n",
    "\n",
    "\n",
    "# Affichage du graphe obtenu:\n",
    "gr_arbre_mushrooms_1_bis"
   ]
  },
  {
   "cell_type": "markdown",
   "metadata": {},
   "source": [
    "<font color=\"RED\" size=\"+1\">**[Q]**</font> Déterminer l'accuracy de ce nouvel arbre.\n"
   ]
  },
  {
   "cell_type": "code",
   "execution_count": 177,
   "metadata": {},
   "outputs": [
    {
     "data": {
      "text/plain": [
       "0.9892857142857143"
      ]
     },
     "execution_count": 177,
     "metadata": {},
     "output_type": "execute_result"
    }
   ],
   "source": [
    "arbre_mushrooms_1_bis.accuracy(mushrooms_1_desc,mushrooms_1_label)"
   ]
  },
  {
   "cell_type": "markdown",
   "metadata": {},
   "source": [
    "<font color=\"RED\" size=\"+1\">**[Q]**</font> D'après ces résultats, de ces 2 arbres, quel est celui qui a sur-appris ? "
   ]
  },
  {
   "cell_type": "code",
   "execution_count": null,
   "metadata": {},
   "outputs": [],
   "source": []
  },
  {
   "cell_type": "markdown",
   "metadata": {},
   "source": [
    "<font color=\"RED\" size=\"+1\">**[Q]**</font> La complexité d'un arbre est généralement évaluée en comptant le nombre de ses feuilles. Dans la classe `ClassifierArbreDecision` la méthode `number_leaves()` doit rendre le nombre de feuilles de l'arbre en question. Cette méthode appelle la méthode `nombre_feuilles()` de la classe `NoeudCategoriel` qui vous est fournie sans son code. Compléter la définition de `nombre_feuilles()` dans la classe `NoeudCategoriel` afin de pouvoir compter les feuilles de l'arbre.\n"
   ]
  },
  {
   "cell_type": "code",
   "execution_count": 178,
   "metadata": {},
   "outputs": [
    {
     "name": "stdout",
     "output_type": "stream",
     "text": [
      "Nombre de feuilles de l'arbre:  9\n"
     ]
    }
   ],
   "source": [
    "print(\"Nombre de feuilles de l'arbre: \",arbre_mushrooms_1_bis.number_leaves())"
   ]
  },
  {
   "cell_type": "code",
   "execution_count": 179,
   "metadata": {},
   "outputs": [
    {
     "name": "stdout",
     "output_type": "stream",
     "text": [
      "Nombre de feuilles de l'arbre:  25\n"
     ]
    }
   ],
   "source": [
    "print(\"Nombre de feuilles de l'arbre: \",arbre_mushrooms_1.number_leaves())"
   ]
  },
  {
   "cell_type": "markdown",
   "metadata": {},
   "source": [
    "## Plus d'expérimentations avec la base Mushrooms\n",
    "\n",
    "On décide maintenant d'évaluer plus en détail ce nouvel algorithme. On souhaite:\n",
    "1. construire un arbre avec chaque fichier `mushrooms-1400-*.csv` \n",
    "2. pour chaque arbre construit, évaluer son accuracy:\n",
    "    - sur le dataset d'apprentissage\n",
    "    - sur les 4 autres fichiers `mushrooms-1400-*.csv`\n",
    "    - sur le fichier `mushrooms-1124.csv`\n",
    "    \n",
    "    \n",
    "**Remarque :** normalement, tous ces tests devraient pouvoir se faire dans un temps raisonnable, dans le cas contraire, faites les un par un."
   ]
  },
  {
   "cell_type": "code",
   "execution_count": 180,
   "metadata": {},
   "outputs": [
    {
     "name": "stdout",
     "output_type": "stream",
     "text": [
      "odor\n",
      "spore-print-color\n",
      "cap-color\n",
      "cap-surface\n",
      "odor\n",
      "spore-print-color\n",
      "cap-color\n",
      "odor\n",
      "spore-print-color\n",
      "habitat\n",
      "cap-shape\n",
      "odor\n",
      "spore-print-color\n",
      "habitat\n",
      "gill-size\n",
      "cap-color\n",
      "odor\n",
      "spore-print-color\n",
      "gill-size\n",
      "stalk-surface-above-ring\n"
     ]
    }
   ],
   "source": [
    "# Chargement des fichiers mushrooms-1400 et apprentissage\n",
    "# Les bases seront mises dans une liste de np.array\n",
    "mushrooms_desc = [] # liste des descriptions\n",
    "mushrooms_label = [] # liste des labels (ce sont les mêmes normalement...\n",
    "arbres_mushrooms = [] # la liste des arbres construits: un par base\n",
    "for j in range(0,5):\n",
    "    mushrooms_df = pd.read_csv(\"data/mushrooms-1400-\"+str(j+1)+\".csv\")\n",
    "    mushrooms_noms = [nom for nom in mushrooms_df.columns if nom != 'class']\n",
    "    # Passer du dataframe à un dataset (2 arrays):\n",
    "    mushrooms_desc.append(np.array(mushrooms_df[mushrooms_noms]))\n",
    "    mushrooms_label.append(np.array(mushrooms_df['class']))\n",
    "    \n",
    "    # Apprentissage\n",
    "    arbres_mushrooms.append(ClassifierArbreDecision(len(mushrooms_noms), 0.0, mushrooms_noms))\n",
    "    arbres_mushrooms[j].train(mushrooms_desc[j],mushrooms_label[j])"
   ]
  },
  {
   "cell_type": "code",
   "execution_count": 181,
   "metadata": {},
   "outputs": [],
   "source": [
    "# Fichier qui va nous servir à tester\n",
    "mushrooms_df = pd.read_csv(\"data/mushrooms-1124.csv\")\n",
    "\n",
    "# Passer du dataframe à un dataset (2 arrays):\n",
    "mushrooms_test_desc = np.array(mushrooms_df[mushrooms_noms])\n",
    "mushrooms_test_label = np.array(mushrooms_df['class'])"
   ]
  },
  {
   "cell_type": "markdown",
   "metadata": {},
   "source": [
    "<font color=\"RED\" size=\"+1\">**[Q]**</font> Donner les instructions permettant d'obtenir le taux de bonne classification (accuracy) de chacun des arbres construits sur les autres bases, sur le modèle suivant:"
   ]
  },
  {
   "cell_type": "code",
   "execution_count": 34,
   "metadata": {},
   "outputs": [
    {
     "name": "stdout",
     "output_type": "stream",
     "text": [
      "Apprentissage avec mushrooms-1400- 1\n",
      "\tclassification de mushrooms-1400- 1 :  1.0\n",
      "\tclassification de mushrooms-1400- 2 :  1.0\n",
      "\tclassification de mushrooms-1400- 3 :  0.9964285714285714\n",
      "\t*** Warning: attribut  cap-surface  -> Valeur inconnue:  y\n",
      "\t*** Warning: attribut  cap-surface  -> Valeur inconnue:  y\n",
      "\t*** Warning: attribut  cap-surface  -> Valeur inconnue:  y\n",
      "\tclassification de mushrooms-1400- 4 :  0.9957142857142857\n",
      "\tclassification de mushrooms-1400- 5 :  0.9971428571428571\n",
      "\t*** Warning: attribut  cap-surface  -> Valeur inconnue:  y\n",
      "\t--> classification de mushrooms-1124:  0.9955516014234875\n",
      "Apprentissage avec mushrooms-1400- 2\n",
      "\tclassification de mushrooms-1400- 1 :  0.9985714285714286\n",
      "\tclassification de mushrooms-1400- 2 :  1.0\n",
      "\tclassification de mushrooms-1400- 3 :  0.9964285714285714\n",
      "\tclassification de mushrooms-1400- 4 :  0.9957142857142857\n",
      "\tclassification de mushrooms-1400- 5 :  0.9964285714285714\n",
      "\t--> classification de mushrooms-1124:  0.994661921708185\n",
      "Apprentissage avec mushrooms-1400- 3\n",
      "\tclassification de mushrooms-1400- 1 :  0.9964285714285714\n",
      "\t*** Warning: attribut  cap-shape  -> Valeur inconnue:  c\n",
      "\t*** Warning: attribut  cap-shape  -> Valeur inconnue:  c\n",
      "\tclassification de mushrooms-1400- 2 :  0.9964285714285714\n",
      "\tclassification de mushrooms-1400- 3 :  1.0\n",
      "\t*** Warning: attribut  cap-shape  -> Valeur inconnue:  c\n",
      "\tclassification de mushrooms-1400- 4 :  0.9957142857142857\n",
      "\t*** Warning: attribut  cap-shape  -> Valeur inconnue:  c\n",
      "\tclassification de mushrooms-1400- 5 :  0.9971428571428571\n",
      "\t--> classification de mushrooms-1124:  1.0\n",
      "Apprentissage avec mushrooms-1400- 4\n",
      "\tclassification de mushrooms-1400- 1 :  1.0\n",
      "\tclassification de mushrooms-1400- 2 :  1.0\n",
      "\tclassification de mushrooms-1400- 3 :  1.0\n",
      "\tclassification de mushrooms-1400- 4 :  1.0\n",
      "\tclassification de mushrooms-1400- 5 :  1.0\n",
      "\t--> classification de mushrooms-1124:  1.0\n",
      "Apprentissage avec mushrooms-1400- 5\n",
      "\tclassification de mushrooms-1400- 1 :  0.9964285714285714\n",
      "\tclassification de mushrooms-1400- 2 :  0.9971428571428571\n",
      "\tclassification de mushrooms-1400- 3 :  0.9971428571428571\n",
      "\tclassification de mushrooms-1400- 4 :  0.995\n",
      "\tclassification de mushrooms-1400- 5 :  1.0\n",
      "\t--> classification de mushrooms-1124:  0.99644128113879\n"
     ]
    }
   ],
   "source": []
  },
  {
   "cell_type": "markdown",
   "metadata": {},
   "source": [
    "<font color=\"RED\" size=\"+1\">**[Q]**</font> On peut remarquer que pour certains arbres, la classification de certains exemples produit un warning.\n",
    "En étudiant les exemples suivant et leur classification par le premier arbre, expliquez pourquoi un warning se produit.\n",
    "Est-ce normal ? Pourrait-on trouver une solution pour ces cas-là ?\n"
   ]
  },
  {
   "cell_type": "code",
   "execution_count": 35,
   "metadata": {},
   "outputs": [
    {
     "name": "stdout",
     "output_type": "stream",
     "text": [
      "\t*** Warning: attribut  cap-surface  -> Valeur inconnue:  y\n",
      "962  --> pas de prédiction, le label rendu est  None\n",
      "\t*** Warning: attribut  cap-surface  -> Valeur inconnue:  y\n",
      "1219  --> pas de prédiction, le label rendu est  None\n",
      "\t*** Warning: attribut  cap-surface  -> Valeur inconnue:  y\n",
      "1349  --> pas de prédiction, le label rendu est  None\n"
     ]
    }
   ],
   "source": [
    "for i in range(0,1400):\n",
    "    prediction = arbres_mushrooms[0].predict(mushrooms_desc[3][i,:])\n",
    "    if prediction == None:\n",
    "        print(i,\" --> pas de prédiction, le label rendu est \",prediction)\n"
   ]
  },
  {
   "cell_type": "markdown",
   "metadata": {},
   "source": [
    "<font color=\"RED\" size=\"+1\">**[Q]**</font> Réaliser une validation croisée en 10 paquets sur la base `mushrooms-1400-1`."
   ]
  },
  {
   "cell_type": "code",
   "execution_count": 36,
   "metadata": {},
   "outputs": [
    {
     "name": "stdout",
     "output_type": "stream",
     "text": [
      "------ affichage validation croisée (optionnel)\n",
      "Itération 0: taille base app.= 1261\ttaille base test= 139\tTaux de bonne classif: 1.0000\n",
      "Itération 1: taille base app.= 1261\ttaille base test= 139\tTaux de bonne classif: 1.0000\n",
      "Itération 2: taille base app.= 1261\ttaille base test= 139\tTaux de bonne classif: 0.9784\n",
      "Itération 3: taille base app.= 1261\ttaille base test= 139\tTaux de bonne classif: 1.0000\n",
      "Itération 4: taille base app.= 1261\ttaille base test= 139\tTaux de bonne classif: 1.0000\n",
      "Itération 5: taille base app.= 1261\ttaille base test= 139\tTaux de bonne classif: 1.0000\n",
      "Itération 6: taille base app.= 1261\ttaille base test= 139\tTaux de bonne classif: 1.0000\n",
      "Itération 7: taille base app.= 1261\ttaille base test= 139\tTaux de bonne classif: 1.0000\n",
      "Itération 8: taille base app.= 1261\ttaille base test= 139\tTaux de bonne classif: 1.0000\n",
      "Itération 9: taille base app.= 1261\ttaille base test= 139\tTaux de bonne classif: 1.0000\n",
      "------ fin affichage validation croisée\n",
      "Validation croisée sur mushrooms 1\n",
      "Perf obtenues :  [1.0, 1.0, 0.9784172661870504, 1.0, 1.0, 1.0, 1.0, 1.0, 1.0, 1.0]\n",
      "Accuracy moyenne: 0.998\técart type: 0.0065\n",
      "Résultat en 0.4360 secondes.\n"
     ]
    }
   ],
   "source": [
    "# la base mushrooms-1400-1 a déjà été chargée dans une boîte précédente (cf. plus haut).\n",
    "\n",
    "###################### A COMPLETER \n",
    "\n",
    "\n",
    "#################################\n",
    "\n",
    "\n",
    "# Remarque: j'ai mis des affichage dans la fonction validation croisée afin de montrer\n",
    "# ce qui se passe:\n",
    "tic= time.time()\n",
    "(res_all, res_moy, res_sd) = ev.validation_croisee(arbre, (mushrooms_1_desc, mushrooms_1_label), 10)\n",
    "toc= time.time()\n",
    "\n",
    "print(\"Validation croisée sur mushrooms 1\")\n",
    "print(\"Perf obtenues : \",res_all)\n",
    "print(f'Accuracy moyenne: {res_moy:0.3f}\\técart type: {res_sd:0.4f}')\n",
    "print(f'Résultat en {(toc-tic):0.4f} secondes.')"
   ]
  },
  {
   "cell_type": "markdown",
   "metadata": {},
   "source": [
    "<font color=\"RED\" size=\"+1\">**[Q]**</font> Regrouper les 6 fichiers mushrooms et réaliser une évaluation de l'algorithme de construction d'arbres par une validation croisée en 10 paquets. Pour ces tests, epsilon sera pris égal à $0.1$."
   ]
  },
  {
   "cell_type": "code",
   "execution_count": 38,
   "metadata": {},
   "outputs": [
    {
     "name": "stdout",
     "output_type": "stream",
     "text": [
      "------ affichage validation croisée (optionnel)\n",
      "Itération 0: taille base app.= 7313\ttaille base test= 811\tTaux de bonne classif: 1.0000\n",
      "Itération 1: taille base app.= 7313\ttaille base test= 811\tTaux de bonne classif: 1.0000\n",
      "Itération 2: taille base app.= 7313\ttaille base test= 811\tTaux de bonne classif: 1.0000\n",
      "Itération 3: taille base app.= 7313\ttaille base test= 811\tTaux de bonne classif: 1.0000\n",
      "Itération 4: taille base app.= 7313\ttaille base test= 811\tTaux de bonne classif: 1.0000\n",
      "Itération 5: taille base app.= 7313\ttaille base test= 811\tTaux de bonne classif: 1.0000\n",
      "Itération 6: taille base app.= 7313\ttaille base test= 811\tTaux de bonne classif: 1.0000\n",
      "Itération 7: taille base app.= 7313\ttaille base test= 811\tTaux de bonne classif: 1.0000\n",
      "Itération 8: taille base app.= 7313\ttaille base test= 811\tTaux de bonne classif: 1.0000\n",
      "Itération 9: taille base app.= 7313\ttaille base test= 811\tTaux de bonne classif: 1.0000\n",
      "------ fin affichage validation croisée\n",
      "Validation croisée sur tous les mushrooms\n",
      "Accuracy moyenne: 1.000\técart type: 0.0000\n",
      "Résultat en 1.9623 secondes.\n"
     ]
    }
   ],
   "source": []
  },
  {
   "cell_type": "markdown",
   "metadata": {},
   "source": [
    "<font color=\"RED\" size=\"+1\">**[Q]**</font> Tracer la courbe donnant la variation de l'accuracy moyenne (avec son écart-type) quand la valeur de epsilon varie entre $0.0$ et $1.0$. Faire de même avec la complexité (en nombre de feuilles) des arbres construits pour ces valeurs de epsilon.\n",
    "\n",
    "**Remarque**: vous serez peut être amené à écrire une variante de la fonction `validation_croisee` spécifique aux arbres de décision.\n"
   ]
  },
  {
   "cell_type": "code",
   "execution_count": null,
   "metadata": {},
   "outputs": [],
   "source": []
  },
  {
   "cell_type": "markdown",
   "metadata": {},
   "source": [
    "## Evaluation \"Leave one out\"\n",
    "\n",
    "Nous avons vu 2 approches pour évaluer un algorithme d'apprentissage:\n",
    "- la mesure de l'accuracy sur les données d'apprentissage et sur une base de test\n",
    "- la réalisation d'une validation croisée pour mesurer l'accuracy et l'écart type (pour évaluer la robustesse) mesurées sur les données utilisées pour apprendre le modèle (données d'apprentissage) et sur des données qui n'ont pas été utilisées pour mettre au point le modèle (données test)\n",
    "\n",
    "La première approche est généralement utilisée pour comparer plusieurs modèles en regardant leur accuracy sur les mêmes données de test.\n",
    "La deuxième approche est, elle, utilisée pour aussi obtenir une certaine évaluation de la robustesse du modèle appris et garantir que l'accuracy mesurée n'est pas simplement obtenue sur \"un cas particulier\" de données.\n",
    "\n",
    "Cependant, il existe des cas où le dataset que l'on possède ne contient pas beaucoup d'exemples. Dans ce cas, deux possibilités:\n",
    "- il y a suffisament de données dans le dataset pour réaliser une validation croisée en réduisant le nombre de paquets (ie. prendre 4 paquets au lieu de 10 par exemple);\n",
    "- il y a trop peu d'exemples pour qu'une validation croisée soit réalisable, on utilise alors une autre technique d'évaluation: l'évaluation par **leave one out** (littéralement: \"en mettre un de côté\"). \n"
   ]
  },
  {
   "cell_type": "markdown",
   "metadata": {},
   "source": [
    "<div class=\"alert alert-block alert-warning\">\n",
    "    L'évaluation par <b>leave one out</b> procède ainsi: à partir d'un dataset $DS$ contenant $n$ exemples:\n",
    "    \n",
    "1. sortir un des exemples de $DS$ et le mettre de côté\n",
    "    \n",
    "2. apprendre le modèle sur les $n-1$ exemples non sortis de $DS$\n",
    "    \n",
    "3. tester le modèle appris sur l'exemple mis de côté: il est soit bien classé (on marque 1 pt), soit mal classé (on marque 0 pt)\n",
    "    \n",
    "4. prendre le $DS$ original est choisir un exemple différent à mettre de côté\n",
    "    \n",
    "5. reprendre en 1) \n",
    "\n",
    "Les étapes 4) et 5) sont faites jusqu'à ce que tous les exemples de $DS$ aient été sortis à leur tour de $DS$.\n",
    "A la fin, l'accuracy de test du modèle est alors donnée par le ratio $\\frac{\\mbox{nombre de points marqués}}{n}$.\n",
    "\n",
    "</div>    \n",
    "\n",
    "<i>Remarque</i>: le plus simple dans cette approche, c'est de sortir les exemples en les prenant dans l'ordre dans lequel ils sont dans le dataset.\n",
    "    "
   ]
  },
  {
   "cell_type": "markdown",
   "metadata": {},
   "source": [
    "<font color=\"RED\" size=\"+1\">**[Q]**</font> Ecrire la fonction `leave_one_out` qui prend en argument un algorithme d'apprentissage $C$ et un dataset $DS$ et rend l'accuracy de test de $C$ calculée sur $DS$ en utilisant l'évaluation par leave one out.\n",
    "\n",
    "**Remarque**: il peut être important de copier (correctement) le classifieur pour pouvoir l'entraîner plusieurs fois."
   ]
  },
  {
   "cell_type": "code",
   "execution_count": 39,
   "metadata": {},
   "outputs": [],
   "source": [
    "import copy  # pour utiliser copy.deepcopy() qui permet de faire des copies de C \n",
    "\n",
    "def leave_one_out(C, DS):\n",
    "    \"\"\" Classifieur * tuple[array, array] -> float\n",
    "    \"\"\"\n",
    "    ###################### A COMPLETER \n",
    "\n",
    "\n",
    "    #################################\n"
   ]
  },
  {
   "cell_type": "markdown",
   "metadata": {},
   "source": [
    "Tester avec la base sur les élections européennes:"
   ]
  },
  {
   "cell_type": "code",
   "execution_count": 41,
   "metadata": {},
   "outputs": [
    {
     "name": "stdout",
     "output_type": "stream",
     "text": [
      "\t*** Warning: attribut  Nationalite  -> Valeur inconnue:  Italien\n"
     ]
    },
    {
     "data": {
      "text/plain": [
       "0.75"
      ]
     },
     "execution_count": 41,
     "metadata": {},
     "output_type": "execute_result"
    }
   ],
   "source": [
    "# Chargement et préparation du dataset:\n",
    "elections_df = pd.read_csv(\"data/elections.csv\")\n",
    "elections_noms = [nom for nom in elections_df.columns if nom != 'Label']\n",
    "\n",
    "data_desc = np.array(elections_df[elections_noms])\n",
    "data_label = np.array(elections_df['Label'])\n",
    "\n",
    "# Lancement du leave one out\n",
    "leave_one_out(ClassifierArbreDecision(len(elections_noms), 0.1, elections_noms),(data_desc,data_label))"
   ]
  },
  {
   "cell_type": "markdown",
   "metadata": {},
   "source": [
    "## Comparaison des arbres de décision avec d'autres algorithmes\n",
    "\n",
    "Afin de pouvoir comparer les autres classifieurs que l'on a vu précédemment avec celui par arbres de décision, il faut les adapter afin qu'ils puissent traiter les données catégorielles.\n",
    "En cours, nous avons vu l'encodage one-hot qui s'implémente en python avec la fonction `get_dummies` de la librairie `pandas` (cf. cours 6).\n"
   ]
  },
  {
   "cell_type": "markdown",
   "metadata": {},
   "source": [
    "### Base des élections"
   ]
  },
  {
   "cell_type": "markdown",
   "metadata": {},
   "source": [
    "<font color=\"RED\" size=\"+1\">**[Q]**</font> En utilisant la fonction `get_dummies` tranformer le dataframe `elections_df` en un dataframe `elections_df_num` qui ne contient que des attributs numériques."
   ]
  },
  {
   "cell_type": "code",
   "execution_count": 42,
   "metadata": {},
   "outputs": [
    {
     "name": "stdout",
     "output_type": "stream",
     "text": [
      "Noms des colonnes :  ['Adresse', 'Majeur?', 'Nationalite']\n"
     ]
    },
    {
     "data": {
      "text/html": [
       "<div>\n",
       "<style scoped>\n",
       "    .dataframe tbody tr th:only-of-type {\n",
       "        vertical-align: middle;\n",
       "    }\n",
       "\n",
       "    .dataframe tbody tr th {\n",
       "        vertical-align: top;\n",
       "    }\n",
       "\n",
       "    .dataframe thead th {\n",
       "        text-align: right;\n",
       "    }\n",
       "</style>\n",
       "<table border=\"1\" class=\"dataframe\">\n",
       "  <thead>\n",
       "    <tr style=\"text-align: right;\">\n",
       "      <th></th>\n",
       "      <th>Adresse</th>\n",
       "      <th>Majeur?</th>\n",
       "      <th>Nationalite</th>\n",
       "      <th>Label</th>\n",
       "    </tr>\n",
       "  </thead>\n",
       "  <tbody>\n",
       "    <tr>\n",
       "      <th>0</th>\n",
       "      <td>Paris</td>\n",
       "      <td>oui</td>\n",
       "      <td>Francais</td>\n",
       "      <td>1</td>\n",
       "    </tr>\n",
       "    <tr>\n",
       "      <th>1</th>\n",
       "      <td>Paris</td>\n",
       "      <td>non</td>\n",
       "      <td>Francais</td>\n",
       "      <td>-1</td>\n",
       "    </tr>\n",
       "    <tr>\n",
       "      <th>2</th>\n",
       "      <td>Montpellier</td>\n",
       "      <td>oui</td>\n",
       "      <td>Italien</td>\n",
       "      <td>1</td>\n",
       "    </tr>\n",
       "    <tr>\n",
       "      <th>3</th>\n",
       "      <td>Paris</td>\n",
       "      <td>oui</td>\n",
       "      <td>Suisse</td>\n",
       "      <td>-1</td>\n",
       "    </tr>\n",
       "    <tr>\n",
       "      <th>4</th>\n",
       "      <td>Strasbourg</td>\n",
       "      <td>non</td>\n",
       "      <td>Italien</td>\n",
       "      <td>-1</td>\n",
       "    </tr>\n",
       "    <tr>\n",
       "      <th>5</th>\n",
       "      <td>Strasbourg</td>\n",
       "      <td>non</td>\n",
       "      <td>Francais</td>\n",
       "      <td>-1</td>\n",
       "    </tr>\n",
       "    <tr>\n",
       "      <th>6</th>\n",
       "      <td>Strasbourg</td>\n",
       "      <td>oui</td>\n",
       "      <td>Francais</td>\n",
       "      <td>1</td>\n",
       "    </tr>\n",
       "    <tr>\n",
       "      <th>7</th>\n",
       "      <td>Montpellier</td>\n",
       "      <td>oui</td>\n",
       "      <td>Suisse</td>\n",
       "      <td>-1</td>\n",
       "    </tr>\n",
       "  </tbody>\n",
       "</table>\n",
       "</div>"
      ],
      "text/plain": [
       "       Adresse Majeur? Nationalite  Label\n",
       "0        Paris     oui    Francais      1\n",
       "1        Paris     non    Francais     -1\n",
       "2  Montpellier     oui     Italien      1\n",
       "3        Paris     oui      Suisse     -1\n",
       "4   Strasbourg     non     Italien     -1\n",
       "5   Strasbourg     non    Francais     -1\n",
       "6   Strasbourg     oui    Francais      1\n",
       "7  Montpellier     oui      Suisse     -1"
      ]
     },
     "execution_count": 42,
     "metadata": {},
     "output_type": "execute_result"
    }
   ],
   "source": [
    "# Rappel :\n",
    "print(\"Noms des colonnes : \", elections_noms)\n",
    "elections_df\n"
   ]
  },
  {
   "cell_type": "code",
   "execution_count": 43,
   "metadata": {},
   "outputs": [
    {
     "data": {
      "text/html": [
       "<div>\n",
       "<style scoped>\n",
       "    .dataframe tbody tr th:only-of-type {\n",
       "        vertical-align: middle;\n",
       "    }\n",
       "\n",
       "    .dataframe tbody tr th {\n",
       "        vertical-align: top;\n",
       "    }\n",
       "\n",
       "    .dataframe thead th {\n",
       "        text-align: right;\n",
       "    }\n",
       "</style>\n",
       "<table border=\"1\" class=\"dataframe\">\n",
       "  <thead>\n",
       "    <tr style=\"text-align: right;\">\n",
       "      <th></th>\n",
       "      <th>Label</th>\n",
       "      <th>Adresse_Montpellier</th>\n",
       "      <th>Adresse_Paris</th>\n",
       "      <th>Adresse_Strasbourg</th>\n",
       "      <th>Majeur?_non</th>\n",
       "      <th>Majeur?_oui</th>\n",
       "      <th>Nationalite_Francais</th>\n",
       "      <th>Nationalite_Italien</th>\n",
       "      <th>Nationalite_Suisse</th>\n",
       "    </tr>\n",
       "  </thead>\n",
       "  <tbody>\n",
       "    <tr>\n",
       "      <th>0</th>\n",
       "      <td>1</td>\n",
       "      <td>0.0</td>\n",
       "      <td>1.0</td>\n",
       "      <td>0.0</td>\n",
       "      <td>0.0</td>\n",
       "      <td>1.0</td>\n",
       "      <td>1.0</td>\n",
       "      <td>0.0</td>\n",
       "      <td>0.0</td>\n",
       "    </tr>\n",
       "    <tr>\n",
       "      <th>1</th>\n",
       "      <td>-1</td>\n",
       "      <td>0.0</td>\n",
       "      <td>1.0</td>\n",
       "      <td>0.0</td>\n",
       "      <td>1.0</td>\n",
       "      <td>0.0</td>\n",
       "      <td>1.0</td>\n",
       "      <td>0.0</td>\n",
       "      <td>0.0</td>\n",
       "    </tr>\n",
       "    <tr>\n",
       "      <th>2</th>\n",
       "      <td>1</td>\n",
       "      <td>1.0</td>\n",
       "      <td>0.0</td>\n",
       "      <td>0.0</td>\n",
       "      <td>0.0</td>\n",
       "      <td>1.0</td>\n",
       "      <td>0.0</td>\n",
       "      <td>1.0</td>\n",
       "      <td>0.0</td>\n",
       "    </tr>\n",
       "    <tr>\n",
       "      <th>3</th>\n",
       "      <td>-1</td>\n",
       "      <td>0.0</td>\n",
       "      <td>1.0</td>\n",
       "      <td>0.0</td>\n",
       "      <td>0.0</td>\n",
       "      <td>1.0</td>\n",
       "      <td>0.0</td>\n",
       "      <td>0.0</td>\n",
       "      <td>1.0</td>\n",
       "    </tr>\n",
       "    <tr>\n",
       "      <th>4</th>\n",
       "      <td>-1</td>\n",
       "      <td>0.0</td>\n",
       "      <td>0.0</td>\n",
       "      <td>1.0</td>\n",
       "      <td>1.0</td>\n",
       "      <td>0.0</td>\n",
       "      <td>0.0</td>\n",
       "      <td>1.0</td>\n",
       "      <td>0.0</td>\n",
       "    </tr>\n",
       "    <tr>\n",
       "      <th>5</th>\n",
       "      <td>-1</td>\n",
       "      <td>0.0</td>\n",
       "      <td>0.0</td>\n",
       "      <td>1.0</td>\n",
       "      <td>1.0</td>\n",
       "      <td>0.0</td>\n",
       "      <td>1.0</td>\n",
       "      <td>0.0</td>\n",
       "      <td>0.0</td>\n",
       "    </tr>\n",
       "    <tr>\n",
       "      <th>6</th>\n",
       "      <td>1</td>\n",
       "      <td>0.0</td>\n",
       "      <td>0.0</td>\n",
       "      <td>1.0</td>\n",
       "      <td>0.0</td>\n",
       "      <td>1.0</td>\n",
       "      <td>1.0</td>\n",
       "      <td>0.0</td>\n",
       "      <td>0.0</td>\n",
       "    </tr>\n",
       "    <tr>\n",
       "      <th>7</th>\n",
       "      <td>-1</td>\n",
       "      <td>1.0</td>\n",
       "      <td>0.0</td>\n",
       "      <td>0.0</td>\n",
       "      <td>0.0</td>\n",
       "      <td>1.0</td>\n",
       "      <td>0.0</td>\n",
       "      <td>0.0</td>\n",
       "      <td>1.0</td>\n",
       "    </tr>\n",
       "  </tbody>\n",
       "</table>\n",
       "</div>"
      ],
      "text/plain": [
       "   Label  Adresse_Montpellier  Adresse_Paris  Adresse_Strasbourg  Majeur?_non  \\\n",
       "0      1                  0.0            1.0                 0.0          0.0   \n",
       "1     -1                  0.0            1.0                 0.0          1.0   \n",
       "2      1                  1.0            0.0                 0.0          0.0   \n",
       "3     -1                  0.0            1.0                 0.0          0.0   \n",
       "4     -1                  0.0            0.0                 1.0          1.0   \n",
       "5     -1                  0.0            0.0                 1.0          1.0   \n",
       "6      1                  0.0            0.0                 1.0          0.0   \n",
       "7     -1                  1.0            0.0                 0.0          0.0   \n",
       "\n",
       "   Majeur?_oui  Nationalite_Francais  Nationalite_Italien  Nationalite_Suisse  \n",
       "0          1.0                   1.0                  0.0                 0.0  \n",
       "1          0.0                   1.0                  0.0                 0.0  \n",
       "2          1.0                   0.0                  1.0                 0.0  \n",
       "3          1.0                   0.0                  0.0                 1.0  \n",
       "4          0.0                   0.0                  1.0                 0.0  \n",
       "5          0.0                   1.0                  0.0                 0.0  \n",
       "6          1.0                   1.0                  0.0                 0.0  \n",
       "7          1.0                   0.0                  0.0                 1.0  "
      ]
     },
     "execution_count": 43,
     "metadata": {},
     "output_type": "execute_result"
    }
   ],
   "source": [
    "# ########## A COMPLETER\n",
    "\n",
    "################################\n",
    "elections_df_num"
   ]
  },
  {
   "cell_type": "code",
   "execution_count": 44,
   "metadata": {},
   "outputs": [
    {
     "name": "stdout",
     "output_type": "stream",
     "text": [
      "Noms des features:  ['Adresse_Montpellier', 'Adresse_Paris', 'Adresse_Strasbourg', 'Majeur?_non', 'Majeur?_oui', 'Nationalite_Francais', 'Nationalite_Italien', 'Nationalite_Suisse']\n"
     ]
    }
   ],
   "source": [
    "# Prétraitement pour pouvoir utiliser un classifieur\n",
    "elections_num_noms = [nom for nom in elections_df_num.columns if nom != 'Label']\n",
    "\n",
    "print(\"Noms des features: \",elections_num_noms)\n",
    "\n",
    "# Passer du dataframe à des arrays:\n",
    "elections_num_desc = np.array(elections_df_num[elections_num_noms])\n",
    "elections_num_label = np.array(elections_df_num['Label'])\n",
    "\n",
    "# Transformer le dataframe en dataset:\n",
    "data_num_desc = np.array(elections_df_num[elections_num_noms])\n",
    "data_num_label = np.array(elections_df_num['Label'])\n"
   ]
  },
  {
   "cell_type": "markdown",
   "metadata": {},
   "source": [
    "<font color=\"RED\" size=\"+1\">**[Q]**</font> Réaliser un `leave_one_out` sur cette base (même paramétrage que celui pour la base catégorielle) et comparer le résultat avec celui obtenu dans le cas catégoriel. Commenter."
   ]
  },
  {
   "cell_type": "code",
   "execution_count": 45,
   "metadata": {},
   "outputs": [
    {
     "data": {
      "text/plain": [
       "0.875"
      ]
     },
     "execution_count": 45,
     "metadata": {},
     "output_type": "execute_result"
    }
   ],
   "source": [
    "le_dataset = (data_num_desc,data_num_label)\n",
    "\n"
   ]
  },
  {
   "cell_type": "markdown",
   "metadata": {},
   "source": [
    "<font color=\"RED\" size=\"+1\">**[Q]**</font> Toujours sur cette base, réaliser un `leave_one_out` avec le classifieur KNN. Tester différentes valeurs de $k$ et tracer le résultat obtenu."
   ]
  },
  {
   "cell_type": "code",
   "execution_count": 46,
   "metadata": {},
   "outputs": [
    {
     "data": {
      "image/png": "[encoded data removed]",
      "text/plain": [
       "<Figure size 640x480 with 1 Axes>"
      ]
     },
     "metadata": {},
     "output_type": "display_data"
    }
   ],
   "source": []
  },
  {
   "cell_type": "markdown",
   "metadata": {},
   "source": [
    "### Base des champignons"
   ]
  },
  {
   "cell_type": "markdown",
   "metadata": {},
   "source": [
    "<font color=\"RED\" size=\"+1\">**[Q]**</font> Réaliser un ensemble d'expérimentations sur la base mushrooms permettant de comparer les résultats obtenus avec un classifieur par arbres de décision et les classifieurs numériques que l'on a définis dans les séances précédentes.\n",
    "\n",
    "**Remarque**: commencer par une taille de base réduite pour que cela ne prenne pas trop de temps d'exécution..."
   ]
  },
  {
   "cell_type": "code",
   "execution_count": 47,
   "metadata": {},
   "outputs": [],
   "source": [
    "# Rechargement de la base de départ :\n",
    "\n",
    "# On commence par travailler sur un des fichier \"mushrooms-1400\"\n",
    "mushrooms_1_df = pd.read_csv(\"data/mushrooms-1400-1.csv\")\n",
    "# Dans ce dataframe, la colonne de classe s'appelle 'class'\n",
    "mushrooms_1_noms = [nom for nom in mushrooms_1_df.columns if nom != 'class']\n"
   ]
  },
  {
   "cell_type": "code",
   "execution_count": 48,
   "metadata": {},
   "outputs": [
    {
     "data": {
      "text/html": [
       "<div>\n",
       "<style scoped>\n",
       "    .dataframe tbody tr th:only-of-type {\n",
       "        vertical-align: middle;\n",
       "    }\n",
       "\n",
       "    .dataframe tbody tr th {\n",
       "        vertical-align: top;\n",
       "    }\n",
       "\n",
       "    .dataframe thead th {\n",
       "        text-align: right;\n",
       "    }\n",
       "</style>\n",
       "<table border=\"1\" class=\"dataframe\">\n",
       "  <thead>\n",
       "    <tr style=\"text-align: right;\">\n",
       "      <th></th>\n",
       "      <th>class</th>\n",
       "      <th>cap-shape_b</th>\n",
       "      <th>cap-shape_f</th>\n",
       "      <th>cap-shape_k</th>\n",
       "      <th>cap-shape_s</th>\n",
       "      <th>cap-shape_x</th>\n",
       "      <th>cap-surface_f</th>\n",
       "      <th>cap-surface_g</th>\n",
       "      <th>cap-surface_s</th>\n",
       "      <th>cap-surface_y</th>\n",
       "      <th>...</th>\n",
       "      <th>population_s</th>\n",
       "      <th>population_v</th>\n",
       "      <th>population_y</th>\n",
       "      <th>habitat_d</th>\n",
       "      <th>habitat_g</th>\n",
       "      <th>habitat_l</th>\n",
       "      <th>habitat_m</th>\n",
       "      <th>habitat_p</th>\n",
       "      <th>habitat_u</th>\n",
       "      <th>habitat_w</th>\n",
       "    </tr>\n",
       "  </thead>\n",
       "  <tbody>\n",
       "    <tr>\n",
       "      <th>0</th>\n",
       "      <td>p</td>\n",
       "      <td>0.0</td>\n",
       "      <td>0.0</td>\n",
       "      <td>0.0</td>\n",
       "      <td>0.0</td>\n",
       "      <td>1.0</td>\n",
       "      <td>0.0</td>\n",
       "      <td>0.0</td>\n",
       "      <td>0.0</td>\n",
       "      <td>1.0</td>\n",
       "      <td>...</td>\n",
       "      <td>0.0</td>\n",
       "      <td>1.0</td>\n",
       "      <td>0.0</td>\n",
       "      <td>1.0</td>\n",
       "      <td>0.0</td>\n",
       "      <td>0.0</td>\n",
       "      <td>0.0</td>\n",
       "      <td>0.0</td>\n",
       "      <td>0.0</td>\n",
       "      <td>0.0</td>\n",
       "    </tr>\n",
       "    <tr>\n",
       "      <th>1</th>\n",
       "      <td>p</td>\n",
       "      <td>0.0</td>\n",
       "      <td>0.0</td>\n",
       "      <td>0.0</td>\n",
       "      <td>0.0</td>\n",
       "      <td>1.0</td>\n",
       "      <td>0.0</td>\n",
       "      <td>0.0</td>\n",
       "      <td>1.0</td>\n",
       "      <td>0.0</td>\n",
       "      <td>...</td>\n",
       "      <td>0.0</td>\n",
       "      <td>1.0</td>\n",
       "      <td>0.0</td>\n",
       "      <td>0.0</td>\n",
       "      <td>0.0</td>\n",
       "      <td>1.0</td>\n",
       "      <td>0.0</td>\n",
       "      <td>0.0</td>\n",
       "      <td>0.0</td>\n",
       "      <td>0.0</td>\n",
       "    </tr>\n",
       "    <tr>\n",
       "      <th>2</th>\n",
       "      <td>p</td>\n",
       "      <td>0.0</td>\n",
       "      <td>0.0</td>\n",
       "      <td>0.0</td>\n",
       "      <td>0.0</td>\n",
       "      <td>1.0</td>\n",
       "      <td>1.0</td>\n",
       "      <td>0.0</td>\n",
       "      <td>0.0</td>\n",
       "      <td>0.0</td>\n",
       "      <td>...</td>\n",
       "      <td>0.0</td>\n",
       "      <td>1.0</td>\n",
       "      <td>0.0</td>\n",
       "      <td>1.0</td>\n",
       "      <td>0.0</td>\n",
       "      <td>0.0</td>\n",
       "      <td>0.0</td>\n",
       "      <td>0.0</td>\n",
       "      <td>0.0</td>\n",
       "      <td>0.0</td>\n",
       "    </tr>\n",
       "    <tr>\n",
       "      <th>3</th>\n",
       "      <td>p</td>\n",
       "      <td>0.0</td>\n",
       "      <td>0.0</td>\n",
       "      <td>0.0</td>\n",
       "      <td>0.0</td>\n",
       "      <td>1.0</td>\n",
       "      <td>1.0</td>\n",
       "      <td>0.0</td>\n",
       "      <td>0.0</td>\n",
       "      <td>0.0</td>\n",
       "      <td>...</td>\n",
       "      <td>0.0</td>\n",
       "      <td>0.0</td>\n",
       "      <td>1.0</td>\n",
       "      <td>0.0</td>\n",
       "      <td>1.0</td>\n",
       "      <td>0.0</td>\n",
       "      <td>0.0</td>\n",
       "      <td>0.0</td>\n",
       "      <td>0.0</td>\n",
       "      <td>0.0</td>\n",
       "    </tr>\n",
       "    <tr>\n",
       "      <th>4</th>\n",
       "      <td>p</td>\n",
       "      <td>0.0</td>\n",
       "      <td>0.0</td>\n",
       "      <td>0.0</td>\n",
       "      <td>0.0</td>\n",
       "      <td>1.0</td>\n",
       "      <td>1.0</td>\n",
       "      <td>0.0</td>\n",
       "      <td>0.0</td>\n",
       "      <td>0.0</td>\n",
       "      <td>...</td>\n",
       "      <td>0.0</td>\n",
       "      <td>0.0</td>\n",
       "      <td>1.0</td>\n",
       "      <td>1.0</td>\n",
       "      <td>0.0</td>\n",
       "      <td>0.0</td>\n",
       "      <td>0.0</td>\n",
       "      <td>0.0</td>\n",
       "      <td>0.0</td>\n",
       "      <td>0.0</td>\n",
       "    </tr>\n",
       "    <tr>\n",
       "      <th>...</th>\n",
       "      <td>...</td>\n",
       "      <td>...</td>\n",
       "      <td>...</td>\n",
       "      <td>...</td>\n",
       "      <td>...</td>\n",
       "      <td>...</td>\n",
       "      <td>...</td>\n",
       "      <td>...</td>\n",
       "      <td>...</td>\n",
       "      <td>...</td>\n",
       "      <td>...</td>\n",
       "      <td>...</td>\n",
       "      <td>...</td>\n",
       "      <td>...</td>\n",
       "      <td>...</td>\n",
       "      <td>...</td>\n",
       "      <td>...</td>\n",
       "      <td>...</td>\n",
       "      <td>...</td>\n",
       "      <td>...</td>\n",
       "      <td>...</td>\n",
       "    </tr>\n",
       "    <tr>\n",
       "      <th>1395</th>\n",
       "      <td>p</td>\n",
       "      <td>0.0</td>\n",
       "      <td>0.0</td>\n",
       "      <td>0.0</td>\n",
       "      <td>0.0</td>\n",
       "      <td>1.0</td>\n",
       "      <td>0.0</td>\n",
       "      <td>0.0</td>\n",
       "      <td>0.0</td>\n",
       "      <td>1.0</td>\n",
       "      <td>...</td>\n",
       "      <td>0.0</td>\n",
       "      <td>1.0</td>\n",
       "      <td>0.0</td>\n",
       "      <td>0.0</td>\n",
       "      <td>0.0</td>\n",
       "      <td>0.0</td>\n",
       "      <td>0.0</td>\n",
       "      <td>1.0</td>\n",
       "      <td>0.0</td>\n",
       "      <td>0.0</td>\n",
       "    </tr>\n",
       "    <tr>\n",
       "      <th>1396</th>\n",
       "      <td>e</td>\n",
       "      <td>0.0</td>\n",
       "      <td>1.0</td>\n",
       "      <td>0.0</td>\n",
       "      <td>0.0</td>\n",
       "      <td>0.0</td>\n",
       "      <td>0.0</td>\n",
       "      <td>0.0</td>\n",
       "      <td>0.0</td>\n",
       "      <td>1.0</td>\n",
       "      <td>...</td>\n",
       "      <td>0.0</td>\n",
       "      <td>1.0</td>\n",
       "      <td>0.0</td>\n",
       "      <td>1.0</td>\n",
       "      <td>0.0</td>\n",
       "      <td>0.0</td>\n",
       "      <td>0.0</td>\n",
       "      <td>0.0</td>\n",
       "      <td>0.0</td>\n",
       "      <td>0.0</td>\n",
       "    </tr>\n",
       "    <tr>\n",
       "      <th>1397</th>\n",
       "      <td>e</td>\n",
       "      <td>0.0</td>\n",
       "      <td>1.0</td>\n",
       "      <td>0.0</td>\n",
       "      <td>0.0</td>\n",
       "      <td>0.0</td>\n",
       "      <td>1.0</td>\n",
       "      <td>0.0</td>\n",
       "      <td>0.0</td>\n",
       "      <td>0.0</td>\n",
       "      <td>...</td>\n",
       "      <td>0.0</td>\n",
       "      <td>0.0</td>\n",
       "      <td>1.0</td>\n",
       "      <td>1.0</td>\n",
       "      <td>0.0</td>\n",
       "      <td>0.0</td>\n",
       "      <td>0.0</td>\n",
       "      <td>0.0</td>\n",
       "      <td>0.0</td>\n",
       "      <td>0.0</td>\n",
       "    </tr>\n",
       "    <tr>\n",
       "      <th>1398</th>\n",
       "      <td>p</td>\n",
       "      <td>0.0</td>\n",
       "      <td>0.0</td>\n",
       "      <td>0.0</td>\n",
       "      <td>0.0</td>\n",
       "      <td>1.0</td>\n",
       "      <td>1.0</td>\n",
       "      <td>0.0</td>\n",
       "      <td>0.0</td>\n",
       "      <td>0.0</td>\n",
       "      <td>...</td>\n",
       "      <td>0.0</td>\n",
       "      <td>0.0</td>\n",
       "      <td>1.0</td>\n",
       "      <td>1.0</td>\n",
       "      <td>0.0</td>\n",
       "      <td>0.0</td>\n",
       "      <td>0.0</td>\n",
       "      <td>0.0</td>\n",
       "      <td>0.0</td>\n",
       "      <td>0.0</td>\n",
       "    </tr>\n",
       "    <tr>\n",
       "      <th>1399</th>\n",
       "      <td>e</td>\n",
       "      <td>0.0</td>\n",
       "      <td>1.0</td>\n",
       "      <td>0.0</td>\n",
       "      <td>0.0</td>\n",
       "      <td>0.0</td>\n",
       "      <td>1.0</td>\n",
       "      <td>0.0</td>\n",
       "      <td>0.0</td>\n",
       "      <td>0.0</td>\n",
       "      <td>...</td>\n",
       "      <td>0.0</td>\n",
       "      <td>1.0</td>\n",
       "      <td>0.0</td>\n",
       "      <td>1.0</td>\n",
       "      <td>0.0</td>\n",
       "      <td>0.0</td>\n",
       "      <td>0.0</td>\n",
       "      <td>0.0</td>\n",
       "      <td>0.0</td>\n",
       "      <td>0.0</td>\n",
       "    </tr>\n",
       "  </tbody>\n",
       "</table>\n",
       "<p>1400 rows × 115 columns</p>\n",
       "</div>"
      ],
      "text/plain": [
       "     class  cap-shape_b  cap-shape_f  cap-shape_k  cap-shape_s  cap-shape_x  \\\n",
       "0        p          0.0          0.0          0.0          0.0          1.0   \n",
       "1        p          0.0          0.0          0.0          0.0          1.0   \n",
       "2        p          0.0          0.0          0.0          0.0          1.0   \n",
       "3        p          0.0          0.0          0.0          0.0          1.0   \n",
       "4        p          0.0          0.0          0.0          0.0          1.0   \n",
       "...    ...          ...          ...          ...          ...          ...   \n",
       "1395     p          0.0          0.0          0.0          0.0          1.0   \n",
       "1396     e          0.0          1.0          0.0          0.0          0.0   \n",
       "1397     e          0.0          1.0          0.0          0.0          0.0   \n",
       "1398     p          0.0          0.0          0.0          0.0          1.0   \n",
       "1399     e          0.0          1.0          0.0          0.0          0.0   \n",
       "\n",
       "      cap-surface_f  cap-surface_g  cap-surface_s  cap-surface_y  ...  \\\n",
       "0               0.0            0.0            0.0            1.0  ...   \n",
       "1               0.0            0.0            1.0            0.0  ...   \n",
       "2               1.0            0.0            0.0            0.0  ...   \n",
       "3               1.0            0.0            0.0            0.0  ...   \n",
       "4               1.0            0.0            0.0            0.0  ...   \n",
       "...             ...            ...            ...            ...  ...   \n",
       "1395            0.0            0.0            0.0            1.0  ...   \n",
       "1396            0.0            0.0            0.0            1.0  ...   \n",
       "1397            1.0            0.0            0.0            0.0  ...   \n",
       "1398            1.0            0.0            0.0            0.0  ...   \n",
       "1399            1.0            0.0            0.0            0.0  ...   \n",
       "\n",
       "      population_s  population_v  population_y  habitat_d  habitat_g  \\\n",
       "0              0.0           1.0           0.0        1.0        0.0   \n",
       "1              0.0           1.0           0.0        0.0        0.0   \n",
       "2              0.0           1.0           0.0        1.0        0.0   \n",
       "3              0.0           0.0           1.0        0.0        1.0   \n",
       "4              0.0           0.0           1.0        1.0        0.0   \n",
       "...            ...           ...           ...        ...        ...   \n",
       "1395           0.0           1.0           0.0        0.0        0.0   \n",
       "1396           0.0           1.0           0.0        1.0        0.0   \n",
       "1397           0.0           0.0           1.0        1.0        0.0   \n",
       "1398           0.0           0.0           1.0        1.0        0.0   \n",
       "1399           0.0           1.0           0.0        1.0        0.0   \n",
       "\n",
       "      habitat_l  habitat_m  habitat_p  habitat_u  habitat_w  \n",
       "0           0.0        0.0        0.0        0.0        0.0  \n",
       "1           1.0        0.0        0.0        0.0        0.0  \n",
       "2           0.0        0.0        0.0        0.0        0.0  \n",
       "3           0.0        0.0        0.0        0.0        0.0  \n",
       "4           0.0        0.0        0.0        0.0        0.0  \n",
       "...         ...        ...        ...        ...        ...  \n",
       "1395        0.0        0.0        1.0        0.0        0.0  \n",
       "1396        0.0        0.0        0.0        0.0        0.0  \n",
       "1397        0.0        0.0        0.0        0.0        0.0  \n",
       "1398        0.0        0.0        0.0        0.0        0.0  \n",
       "1399        0.0        0.0        0.0        0.0        0.0  \n",
       "\n",
       "[1400 rows x 115 columns]"
      ]
     },
     "execution_count": 48,
     "metadata": {},
     "output_type": "execute_result"
    }
   ],
   "source": [
    "mushrooms_1_num = pd.get_dummies(mushrooms_1_df, columns = mushrooms_1_noms, dtype=float)\n",
    "mushrooms_1_num "
   ]
  },
  {
   "cell_type": "code",
   "execution_count": 49,
   "metadata": {},
   "outputs": [
    {
     "name": "stdout",
     "output_type": "stream",
     "text": [
      "Noms des features:  ['cap-shape_b', 'cap-shape_f', 'cap-shape_k', 'cap-shape_s', 'cap-shape_x', 'cap-surface_f', 'cap-surface_g', 'cap-surface_s', 'cap-surface_y', 'cap-color_b', 'cap-color_c', 'cap-color_e', 'cap-color_g', 'cap-color_n', 'cap-color_p', 'cap-color_r', 'cap-color_u', 'cap-color_w', 'cap-color_y', 'bruises_f', 'bruises_t', 'odor_a', 'odor_c', 'odor_f', 'odor_l', 'odor_m', 'odor_n', 'odor_p', 'odor_s', 'odor_y', 'gill-attachment_a', 'gill-attachment_f', 'gill-spacing_c', 'gill-spacing_w', 'gill-size_b', 'gill-size_n', 'gill-color_b', 'gill-color_e', 'gill-color_g', 'gill-color_h', 'gill-color_k', 'gill-color_n', 'gill-color_o', 'gill-color_p', 'gill-color_r', 'gill-color_u', 'gill-color_w', 'gill-color_y', 'stalk-shape_e', 'stalk-shape_t', 'stalk-root_?', 'stalk-root_b', 'stalk-root_c', 'stalk-root_e', 'stalk-root_r', 'stalk-surface-above-ring_f', 'stalk-surface-above-ring_k', 'stalk-surface-above-ring_s', 'stalk-surface-above-ring_y', 'stalk-surface-below-ring_f', 'stalk-surface-below-ring_k', 'stalk-surface-below-ring_s', 'stalk-surface-below-ring_y', 'stalk-color-above-ring_b', 'stalk-color-above-ring_c', 'stalk-color-above-ring_e', 'stalk-color-above-ring_g', 'stalk-color-above-ring_n', 'stalk-color-above-ring_o', 'stalk-color-above-ring_p', 'stalk-color-above-ring_w', 'stalk-color-below-ring_b', 'stalk-color-below-ring_c', 'stalk-color-below-ring_e', 'stalk-color-below-ring_g', 'stalk-color-below-ring_n', 'stalk-color-below-ring_o', 'stalk-color-below-ring_p', 'stalk-color-below-ring_w', 'stalk-color-below-ring_y', 'veil-type_p', 'veil-color_n', 'veil-color_o', 'veil-color_w', 'ring-number_n', 'ring-number_o', 'ring-number_t', 'ring-type_e', 'ring-type_f', 'ring-type_l', 'ring-type_n', 'ring-type_p', 'spore-print-color_b', 'spore-print-color_h', 'spore-print-color_k', 'spore-print-color_n', 'spore-print-color_o', 'spore-print-color_r', 'spore-print-color_u', 'spore-print-color_w', 'spore-print-color_y', 'population_a', 'population_c', 'population_n', 'population_s', 'population_v', 'population_y', 'habitat_d', 'habitat_g', 'habitat_l', 'habitat_m', 'habitat_p', 'habitat_u', 'habitat_w']\n"
     ]
    }
   ],
   "source": [
    "# Prétraitement pour pouvoir utiliser un classifieur\n",
    "mushrooms_1_num_noms = [nom for nom in mushrooms_1_num.columns if nom != 'class']\n",
    "\n",
    "print(\"Noms des features: \",mushrooms_1_num_noms)\n",
    "\n",
    "# Passer du dataframe à des arrays:\n",
    "mushrooms_1_num_desc = np.array(mushrooms_1_num[mushrooms_1_num_noms])\n",
    "mushrooms_1_num_label = np.array(mushrooms_1_num['class'])\n",
    "\n",
    "# Transformer le dataframe en dataset:\n",
    "data_num_desc = np.array(mushrooms_1_num[mushrooms_1_num_noms])\n",
    "\n",
    "# Remarque : pour utiliser les classifieurs précédents, il faut que la classe soit +1 ou -1\n",
    "# on convertit donc 'e' et 'p'\n",
    "val_class ={'e':1, 'p':-1}\n",
    "data_num_label = np.array([val_class[c] for c in mushrooms_1_num['class']])\n"
   ]
  },
  {
   "cell_type": "code",
   "execution_count": 50,
   "metadata": {},
   "outputs": [
    {
     "name": "stdout",
     "output_type": "stream",
     "text": [
      "Exemple de résultat sur les données numériques: validation croisée avec les arbres de décisions\n",
      "------ affichage validation croisée (optionnel)\n",
      "Itération 0: taille base app.= 1261\ttaille base test= 139\tTaux de bonne classif: 1.0000\n",
      "Itération 1: taille base app.= 1261\ttaille base test= 139\tTaux de bonne classif: 1.0000\n",
      "Itération 2: taille base app.= 1261\ttaille base test= 139\tTaux de bonne classif: 0.9784\n",
      "Itération 3: taille base app.= 1261\ttaille base test= 139\tTaux de bonne classif: 0.9928\n",
      "Itération 4: taille base app.= 1261\ttaille base test= 139\tTaux de bonne classif: 1.0000\n",
      "Itération 5: taille base app.= 1261\ttaille base test= 139\tTaux de bonne classif: 1.0000\n",
      "Itération 6: taille base app.= 1261\ttaille base test= 139\tTaux de bonne classif: 1.0000\n",
      "Itération 7: taille base app.= 1261\ttaille base test= 139\tTaux de bonne classif: 1.0000\n",
      "Itération 8: taille base app.= 1261\ttaille base test= 139\tTaux de bonne classif: 1.0000\n",
      "Itération 9: taille base app.= 1261\ttaille base test= 139\tTaux de bonne classif: 1.0000\n",
      "------ fin affichage validation croisée\n",
      "Accuracy moyenne: 0.997\técart type: 0.0066\n",
      "Résultat en 0.7836 secondes.\n"
     ]
    }
   ],
   "source": [
    "print(\"Exemple de résultat sur les données numériques: validation croisée avec les arbres de décisions\")\n",
    "\n",
    "arbre = ClassifierArbreDecision(len(mushrooms_1_num_noms), 0.1, mushrooms_1_num_noms)\n",
    "\n",
    "# Remarque: j'ai mis des affichage dans la fonction validation croisée afin de montrer\n",
    "# ce qui se passe:\n",
    "tic= time.time()\n",
    "(res_all, res_moy, res_sd) = ev.validation_croisee(arbre, (data_num_desc, data_num_label), 10)\n",
    "toc =time.time()\n",
    "\n",
    "#print(\"Perf obtenues : \",res_all)\n",
    "print(f'Accuracy moyenne: {res_moy:0.3f}\\técart type: {res_sd:0.4f}')\n",
    "print(f'Résultat en {(toc-tic):0.4f} secondes.')"
   ]
  },
  {
   "cell_type": "code",
   "execution_count": 51,
   "metadata": {},
   "outputs": [
    {
     "name": "stdout",
     "output_type": "stream",
     "text": [
      "Exemple de résultat: validation croisée avec un knn pour k= 3\n",
      "------ affichage validation croisée (optionnel)\n",
      "Itération 0: taille base app.= 1261\ttaille base test= 139\tTaux de bonne classif: 1.0000\n",
      "Itération 1: taille base app.= 1261\ttaille base test= 139\tTaux de bonne classif: 1.0000\n",
      "Itération 2: taille base app.= 1261\ttaille base test= 139\tTaux de bonne classif: 0.9928\n",
      "Itération 3: taille base app.= 1261\ttaille base test= 139\tTaux de bonne classif: 0.9928\n",
      "Itération 4: taille base app.= 1261\ttaille base test= 139\tTaux de bonne classif: 1.0000\n",
      "Itération 5: taille base app.= 1261\ttaille base test= 139\tTaux de bonne classif: 1.0000\n",
      "Itération 6: taille base app.= 1261\ttaille base test= 139\tTaux de bonne classif: 1.0000\n",
      "Itération 7: taille base app.= 1261\ttaille base test= 139\tTaux de bonne classif: 1.0000\n",
      "Itération 8: taille base app.= 1261\ttaille base test= 139\tTaux de bonne classif: 1.0000\n",
      "Itération 9: taille base app.= 1261\ttaille base test= 139\tTaux de bonne classif: 1.0000\n",
      "------ fin affichage validation croisée\n",
      "Accuracy moyenne:  0.9985611510791367 \técart type:  0.002877697841726601\n",
      "Résultat en 0.4970 secondes.\n"
     ]
    }
   ],
   "source": [
    "k=3\n",
    "print(\"Exemple de résultat: validation croisée avec un knn pour k=\",k)\n",
    "\n",
    "knn = classif.ClassifierKNN(len(mushrooms_1_num_noms),k)\n",
    "\n",
    "# Remarque: j'ai mis des affichage dans la fonction validation croisée afin de montrer\n",
    "# ce qui se passe:\n",
    "tic= time.time()\n",
    "(res_all, res_moy, res_sd) = ev.validation_croisee(knn, (data_num_desc, data_num_label), 10)\n",
    "toc= time.time()\n",
    "\n",
    "#print(\"Perf obtenues : \",res_all)\n",
    "print(\"Accuracy moyenne: \",res_moy,\"\\técart type: \", res_sd)\n",
    "print(f'Résultat en {(toc-tic):0.4f} secondes.')"
   ]
  },
  {
   "cell_type": "code",
   "execution_count": 52,
   "metadata": {},
   "outputs": [
    {
     "name": "stdout",
     "output_type": "stream",
     "text": [
      "Exemple de résultat: validation croisée avec un perceptron biais\n",
      "------ affichage validation croisée (optionnel)\n",
      "Itération 0: taille base app.= 1261\ttaille base test= 139\tTaux de bonne classif: 1.0000\n",
      "Itération 1: taille base app.= 1261\ttaille base test= 139\tTaux de bonne classif: 1.0000\n",
      "Itération 2: taille base app.= 1261\ttaille base test= 139\tTaux de bonne classif: 0.9928\n",
      "Itération 3: taille base app.= 1261\ttaille base test= 139\tTaux de bonne classif: 0.9928\n",
      "Itération 4: taille base app.= 1261\ttaille base test= 139\tTaux de bonne classif: 1.0000\n",
      "Itération 5: taille base app.= 1261\ttaille base test= 139\tTaux de bonne classif: 1.0000\n",
      "Itération 6: taille base app.= 1261\ttaille base test= 139\tTaux de bonne classif: 1.0000\n",
      "Itération 7: taille base app.= 1261\ttaille base test= 139\tTaux de bonne classif: 1.0000\n",
      "Itération 8: taille base app.= 1261\ttaille base test= 139\tTaux de bonne classif: 1.0000\n",
      "Itération 9: taille base app.= 1261\ttaille base test= 139\tTaux de bonne classif: 1.0000\n",
      "------ fin affichage validation croisée\n",
      "Perf obtenues :  [1.0, 1.0, 0.9928057553956835, 0.9928057553956835, 1.0, 1.0, 1.0, 1.0, 1.0, 1.0]\n",
      "Accuracy moyenne: 0.999\técart type: 0.0029\n",
      "Résultat en 0.4866 secondes.\n"
     ]
    }
   ],
   "source": [
    "print(\"Exemple de résultat: validation croisée avec un perceptron biais\")\n",
    "\n"
   ]
  },
  {
   "cell_type": "markdown",
   "metadata": {},
   "source": [
    "<font color=\"RED\" size=\"+1\">**[Q]**</font> *Toujours plus...*  \n",
    "\n",
    "Réaliser les mêmes expérimentations avec la base mushrooms complète."
   ]
  },
  {
   "cell_type": "code",
   "execution_count": 53,
   "metadata": {},
   "outputs": [
    {
     "name": "stdout",
     "output_type": "stream",
     "text": [
      "Résultats pour les arbres de décision: \n",
      "\tAccuracy moyenne: 1.000\técart type: 0.0000\n",
      "\tRésultat en 1.9270 secondes.\n",
      "Résultats pour le perceptron: \n",
      "\tAccuracy moyenne: 1.000\técart type: 0.0000\n",
      "\tRésultat en 15.6848 secondes.\n",
      "Résultats pour les kppv (k=5): \n",
      "\tAccuracy moyenne: 1.000\técart type: 0.0000\n",
      "\tRésultat en 18.7536 secondes.\n"
     ]
    }
   ],
   "source": []
  },
  {
   "cell_type": "markdown",
   "metadata": {},
   "source": [
    "<font color=\"RED\" size=\"+1\">**[Q]**</font> *Encore plus...*  \n",
    "\n",
    "Pour réaliser une comparaison complète, en plus de l'accuracy moyenne et son écart type, afficher la taille moyenne des arbres construits (grâce à la méthode `number_leaves`).\n"
   ]
  },
  {
   "cell_type": "code",
   "execution_count": null,
   "metadata": {},
   "outputs": [],
   "source": []
  }
 ],
 "metadata": {
  "kernelspec": {
   "display_name": "Python 3 (ipykernel)",
   "language": "python",
   "name": "python3"
  },
  "language_info": {
   "codemirror_mode": {
    "name": "ipython",
    "version": 3
   },
   "file_extension": ".py",
   "mimetype": "text/x-python",
   "name": "python",
   "nbconvert_exporter": "python",
   "pygments_lexer": "ipython3",
   "version": "3.11.2"
  }
 },
 "nbformat": 4,
 "nbformat_minor": 4
}
